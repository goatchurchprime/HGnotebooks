{
 "cells": [
  {
   "cell_type": "code",
   "execution_count": 27,
   "metadata": {},
   "outputs": [],
   "source": [
    "# Calculations derived from the Appendix section\n",
    "# of https://flybubble.com/performance-flying-book\n",
    "# by Dennis Pagen (c) 1994\n",
    "from sympy.interactive import printing\n",
    "printing.init_printing(use_latex=True)"
   ]
  },
  {
   "cell_type": "code",
   "execution_count": 14,
   "metadata": {},
   "outputs": [],
   "source": [
    "# Turn performance (p333)\n",
    "import sympy, math\n",
    "m, r, phi, Vs, g = sympy.symbols(\"m r phi V_s g\")"
   ]
  },
  {
   "cell_type": "code",
   "execution_count": 15,
   "metadata": {
    "collapsed": true
   },
   "outputs": [],
   "source": [
    "Vc = Vs/sympy.sqrt(sympy.cos(phi))"
   ]
  },
  {
   "cell_type": "code",
   "execution_count": 16,
   "metadata": {},
   "outputs": [],
   "source": [
    "F = m*g*sympy.tan(phi)\n",
    "t = 2*sympy.pi*r/Vc\n",
    "C = m*Vc**2/r"
   ]
  },
  {
   "cell_type": "code",
   "execution_count": 18,
   "metadata": {},
   "outputs": [
    {
     "data": {
      "image/png": "[encoded data removed]",
      "text/latex": [
       "$$\\sqrt{g r \\tan{\\left (\\phi \\right )}}$$"
      ],
      "text/plain": [
       "  ____________\n",
       "╲╱ g⋅r⋅tan(φ) "
      ]
     },
     "execution_count": 18,
     "metadata": {},
     "output_type": "execute_result"
    }
   ],
   "source": [
    "Vc1 = sympy.solve(C-F, Vc)[1]\n",
    "Vc1"
   ]
  },
  {
   "cell_type": "code",
   "execution_count": 22,
   "metadata": {},
   "outputs": [
    {
     "data": {
      "image/png": "[encoded data removed]",
      "text/latex": [
       "$$\\frac{V_{s}^{2}}{g \\sin{\\left (\\phi \\right )}}$$"
      ],
      "text/plain": [
       "    2   \n",
       "  Vₛ    \n",
       "────────\n",
       "g⋅sin(φ)"
      ]
     },
     "execution_count": 22,
     "metadata": {},
     "output_type": "execute_result"
    }
   ],
   "source": [
    "minr = sympy.solve(Vc - Vc1, r)[0]   # Equation (6)\n",
    "minr"
   ]
  },
  {
   "cell_type": "code",
   "execution_count": 26,
   "metadata": {},
   "outputs": [
    {
     "data": {
      "image/png": "[encoded data removed]",
      "text/latex": [
       "$$24.6938775510204$$"
      ],
      "text/plain": [
       "24.6938775510204"
      ]
     },
     "execution_count": 26,
     "metadata": {},
     "output_type": "execute_result"
    }
   ],
   "source": [
    "# Flight of glider at 11m/s, set g, bank angle \n",
    "# of 30degrees gives an observed circleD of 50m\n",
    "minr.subs({Vs:11, g:9.8, phi:math.radians(30)})"
   ]
  },
  {
   "cell_type": "code",
   "execution_count": 33,
   "metadata": {},
   "outputs": [
    {
     "data": {
      "image/png": "[encoded data removed]",
      "text/latex": [
       "$$12.3488195605421$$"
      ],
      "text/plain": [
       "12.3488195605421"
      ]
     },
     "execution_count": 33,
     "metadata": {},
     "output_type": "execute_result"
    }
   ],
   "source": [
    "# no matter how much you bank, it can never \n",
    "# be less than the half this amount\n",
    "minr.subs({Vs:11, g:9.8, phi:math.radians(89)})"
   ]
  },
  {
   "cell_type": "code",
   "execution_count": 41,
   "metadata": {},
   "outputs": [
    {
     "data": {
      "image/png": "[encoded data removed]",
      "text/latex": [
       "$$C_{f} S V^{2} \\rho$$"
      ],
      "text/plain": [
       "       2  \n",
       "C_f⋅S⋅V ⋅ρ"
      ]
     },
     "execution_count": 41,
     "metadata": {},
     "output_type": "execute_result"
    }
   ],
   "source": [
    "# Wing Loading (p334)\n",
    "# Cf coefficient relating to the shape of the body\n",
    "# rho air density, S wing surface area, V airspeed\n",
    "Cf, rho, S, V = sympy.symbols(\"C_f rho S V\")\n",
    "F = Cf * rho * S * V**2\n",
    "F"
   ]
  },
  {
   "cell_type": "code",
   "execution_count": 51,
   "metadata": {},
   "outputs": [
    {
     "name": "stdout",
     "output_type": "stream",
     "text": [
      "-0.9420855401574799 m/s\n"
     ]
    }
   ],
   "source": [
    "# The speed polar is approximated by a parabola\n",
    "# suggested by:\n",
    "# W = -0.608*V**2 + 26.198*V - 461.960\n",
    "# W sink rate in ft/minute, V in miles per hour\n",
    "mph_to_mps = 5280*12*2.54/3600/100\n",
    "ftpmin_to_mps = 12*2.54/60/100\n",
    "\n",
    "# in feet\n",
    "V = 11/mph_to_mps\n",
    "W = -0.608*V**2 + 26.198*V - 461.960\n",
    "print(W*ftpmin_to_mps, \"m/s\")"
   ]
  },
  {
   "cell_type": "code",
   "execution_count": 60,
   "metadata": {},
   "outputs": [
    {
     "data": {
      "image/png": "[encoded data removed]",
      "text/latex": [
       "$$-0.9475$$"
      ],
      "text/plain": [
       "-0.9475"
      ]
     },
     "execution_count": 60,
     "metadata": {},
     "output_type": "execute_result"
    }
   ],
   "source": [
    "# In metric\n",
    "V = 11\n",
    "W = -0.0155*V**2 + 0.298*V - 2.35\n",
    "print(W)  # This sink rate is similar to observed"
   ]
  },
  {
   "cell_type": "code",
   "execution_count": 65,
   "metadata": {},
   "outputs": [
    {
     "data": {
      "text/plain": [
       "<matplotlib.text.Text at 0x7fa485b89a90>"
      ]
     },
     "execution_count": 65,
     "metadata": {},
     "output_type": "execute_result"
    },
    {
     "data": {
      "image/png": "[encoded data removed]",
      "text/plain": [
       "<matplotlib.figure.Figure at 0x7fa485958160>"
      ]
     },
     "metadata": {},
     "output_type": "display_data"
    }
   ],
   "source": [
    "%matplotlib inline\n",
    "from matplotlib import pyplot as plt\n",
    "import numpy\n",
    "\n",
    "V = numpy.linspace(8, 20, 30)\n",
    "W = -0.0155*V**2 + 0.298*V - 2.35\n",
    "\n",
    "plt.plot(V, W)\n",
    "plt.ylabel(\"Sink rate\")\n",
    "plt.xlabel(\"airspeed m/s\")"
   ]
  },
  {
   "cell_type": "code",
   "execution_count": 66,
   "metadata": {},
   "outputs": [
    {
     "data": {
      "image/png": "[encoded data removed]",
      "text/latex": [
       "$$V^{2} a + V b + c$$"
      ],
      "text/plain": [
       " 2            \n",
       "V ⋅a + V⋅b + c"
      ]
     },
     "execution_count": 66,
     "metadata": {},
     "output_type": "execute_result"
    }
   ],
   "source": [
    "# Calculate flying speed from polar (p336)\n",
    "a, b, c, V = sympy.symbols(\"a b c V\")\n",
    "W = a*V**2 + b*V + c\n",
    "#{a:-0.0155, b:0.298, c:-2.35}\n",
    "W\n"
   ]
  },
  {
   "cell_type": "code",
   "execution_count": 76,
   "metadata": {},
   "outputs": [
    {
     "data": {
      "image/png": "[encoded data removed]",
      "text/latex": [
       "$$\\left [ \\left \\{ V : - \\sqrt{\\frac{Ws}{a} + \\frac{c}{a}}\\right \\}, \\quad \\left \\{ V : \\sqrt{\\frac{Ws}{a} + \\frac{c}{a}}\\right \\}\\right ]$$"
      ],
      "text/plain": [
       "⎡⎧        ________⎫  ⎧       ________⎫⎤\n",
       "⎢⎪       ╱ Ws   c ⎪  ⎪      ╱ Ws   c ⎪⎥\n",
       "⎢⎨V: -  ╱  ── + ─ ⎬, ⎨V:   ╱  ── + ─ ⎬⎥\n",
       "⎢⎪    ╲╱   a    a ⎪  ⎪   ╲╱   a    a ⎪⎥\n",
       "⎣⎩                ⎭  ⎩               ⎭⎦"
      ]
     },
     "execution_count": 76,
     "metadata": {},
     "output_type": "execute_result"
    }
   ],
   "source": [
    "Ws = sympy.symbols(\"Ws\")\n",
    "Glideslope = V/(Ws+W)\n",
    "sympy.solve(sympy.diff(Glideslope, V))\n"
   ]
  },
  {
   "cell_type": "code",
   "execution_count": null,
   "metadata": {
    "collapsed": true
   },
   "outputs": [],
   "source": [
    "# Skipping the average speed to fly calculations"
   ]
  },
  {
   "cell_type": "code",
   "execution_count": 78,
   "metadata": {},
   "outputs": [],
   "source": [
    "# Performance formulas \n",
    "# \"Using the formulas for induced and parasitic drag, \n",
    "# it is possible to derive a more accurate equation\n",
    "# for a glider's polar.  Such a derivation is beyond \n",
    "# the scope of this book\"\n",
    "# But we can report state the value at cardinal points\n",
    "\n",
    "theta, CDO, w, rhov, K, AR = sympy.symbols(\"theta C_DO omega rho_v Kappa AR\")\n",
    "# AR - aspect ratio\n",
    "# theta - glide angle\n",
    "# CDO - Drag coefficient at zero lift\n",
    "# w - wing loading = weight/wing_area\n",
    "# rhov - air density at sea level\n",
    "# K - span efficiency factor"
   ]
  },
  {
   "cell_type": "code",
   "execution_count": 91,
   "metadata": {},
   "outputs": [
    {
     "data": {
      "image/png": "[encoded data removed]",
      "text/latex": [
       "$$\\left ( \\frac{1}{\\tan{\\left (\\theta \\right )}}, \\quad \\frac{\\sqrt{\\pi}}{2} \\sqrt{\\frac{AR}{C_{DO} K}}\\right )$$"
      ],
      "text/plain": [
       "⎛               ________⎞\n",
       "⎜              ╱   AR   ⎟\n",
       "⎜        √π⋅  ╱  ────── ⎟\n",
       "⎜  1        ╲╱   C_DO⋅Κ ⎟\n",
       "⎜──────, ───────────────⎟\n",
       "⎝tan(θ)         2       ⎠"
      ]
     },
     "execution_count": 91,
     "metadata": {},
     "output_type": "execute_result"
    }
   ],
   "source": [
    "# best glide\n",
    "1/sympy.tan(theta), sympy.sqrt(sympy.pi*AR/(4*K*CDO))"
   ]
  },
  {
   "cell_type": "code",
   "execution_count": 89,
   "metadata": {},
   "outputs": [
    {
     "data": {
      "image/png": "[encoded data removed]",
      "text/latex": [
       "$$\\frac{\\sqrt{2} \\sqrt{\\omega}}{\\sqrt[4]{\\pi}} \\sqrt[4]{\\frac{K}{AR C_{DO} \\rho_{v}^{2}}}$$"
      ],
      "text/plain": [
       "           _____________\n",
       "          ╱      Κ      \n",
       "√2⋅√ω⋅   ╱  ─────────── \n",
       "      4 ╱             2 \n",
       "      ╲╱    AR⋅C_DO⋅ρᵥ  \n",
       "────────────────────────\n",
       "         4 ___          \n",
       "         ╲╱ π           "
      ]
     },
     "execution_count": 89,
     "metadata": {},
     "output_type": "execute_result"
    }
   ],
   "source": [
    "# speed at best glide\n",
    "(4*K/(sympy.pi*AR*CDO*rhov**2))**sympy.Rational(1,4) * sympy.sqrt(w)"
   ]
  },
  {
   "cell_type": "code",
   "execution_count": 88,
   "metadata": {},
   "outputs": [
    {
     "data": {
      "image/png": "[encoded data removed]",
      "text/latex": [
       "$$\\frac{2 \\sqrt{2}}{\\pi^{\\frac{3}{4}}} \\sqrt{\\omega} \\sqrt[4]{\\frac{C_{DO} K^{3}}{AR^{3} \\rho_{v}^{2}}}$$"
      ],
      "text/plain": [
       "              _________\n",
       "             ╱       3 \n",
       "            ╱  C_DO⋅Κ  \n",
       "2⋅√2⋅√ω⋅   ╱   ─────── \n",
       "        4 ╱      3   2 \n",
       "        ╲╱     AR ⋅ρᵥ  \n",
       "───────────────────────\n",
       "           3/4         \n",
       "          π            "
      ]
     },
     "execution_count": 88,
     "metadata": {},
     "output_type": "execute_result"
    }
   ],
   "source": [
    "# sink at best glide\n",
    "(4**3*K**3*CDO/(sympy.pi**3*AR**3*rhov**2))**sympy.Rational(1,4) * sympy.sqrt(w)"
   ]
  },
  {
   "cell_type": "code",
   "execution_count": 86,
   "metadata": {},
   "outputs": [
    {
     "data": {
      "image/png": "[encoded data removed]",
      "text/latex": [
       "$$\\frac{4 \\sqrt{2} \\sqrt[4]{3} \\sqrt{\\omega}}{3 \\pi^{\\frac{3}{4}}} \\sqrt[4]{\\frac{C_{DO} K^{3}}{AR^{3} \\rho_{v}^{2}}}$$"
      ],
      "text/plain": [
       "                    _________\n",
       "                   ╱       3 \n",
       "     4 ___        ╱  C_DO⋅Κ  \n",
       "4⋅√2⋅╲╱ 3 ⋅√ω⋅   ╱   ─────── \n",
       "              4 ╱      3   2 \n",
       "              ╲╱     AR ⋅ρᵥ  \n",
       "─────────────────────────────\n",
       "               3/4           \n",
       "            3⋅π              "
      ]
     },
     "execution_count": 86,
     "metadata": {},
     "output_type": "execute_result"
    }
   ],
   "source": [
    "# Minimum sink\n",
    "4*(4*K**3*CDO/(27*sympy.pi**3*AR**3*rhov**2))**sympy.Rational(1,4) * sympy.sqrt(w)"
   ]
  },
  {
   "cell_type": "code",
   "execution_count": 87,
   "metadata": {},
   "outputs": [
    {
     "data": {
      "image/png": "[encoded data removed]",
      "text/latex": [
       "$$\\frac{\\sqrt{2} \\cdot 3^{\\frac{3}{4}} \\sqrt{\\omega}}{3 \\sqrt[4]{\\pi}} \\sqrt[4]{\\frac{K}{AR^{3} \\rho_{v}^{2}}}$$"
      ],
      "text/plain": [
       "                _________\n",
       "    3/4        ╱    Κ    \n",
       "√2⋅3   ⋅√ω⋅   ╱  ─────── \n",
       "           4 ╱     3   2 \n",
       "           ╲╱    AR ⋅ρᵥ  \n",
       "─────────────────────────\n",
       "           4 ___         \n",
       "         3⋅╲╱ π          "
      ]
     },
     "execution_count": 87,
     "metadata": {},
     "output_type": "execute_result"
    }
   ],
   "source": [
    "# Speed at minimum sink\n",
    "(4*K/(3*sympy.pi*AR**3*rhov**2))**sympy.Rational(1,4) * sympy.sqrt(w)"
   ]
  },
  {
   "cell_type": "code",
   "execution_count": 104,
   "metadata": {},
   "outputs": [
    {
     "name": "stdout",
     "output_type": "stream",
     "text": [
      "K= 1.19481495722029\n",
      "CDO= 0.0372781896458562\n"
     ]
    }
   ],
   "source": [
    "# Worked example is AR = 7.5, \n",
    "# wing loading = 1.6 lbs/sq.ft\n",
    "# best glide is 11.5 at 27mph (39.6 FPS)\n",
    "# rhov = 0.00238 slugs\n",
    "\n",
    "eq1 = 11.5 - sympy.sqrt(sympy.pi*AR/(4*K*CDO))\n",
    "eq2 = 39.6 - (4*K/(sympy.pi*AR*CDO*rhov**2))**sympy.Rational(1,4) * sympy.sqrt(w)\n",
    "\n",
    "# substitute thevalues\n",
    "eq1 = eq1.subs({AR:7.5, w:1.6, rhov:0.00238})\n",
    "eq2 = eq2.subs({AR:7.5, w:1.6, rhov:0.00238})\n",
    "Ksolve = sympy.solve(eq1, K)[0]\n",
    "\n",
    "# gives the two numbers in the book\n",
    "CDOsolve = sympy.solve(eq2.subs(K, Ksolve), CDO)[1]\n",
    "print(\"K=\", Ksolve.subs(CDO, CDOsolve))\n",
    "print(\"CDO=\", CDOsolve)\n"
   ]
  },
  {
   "cell_type": "code",
   "execution_count": 105,
   "metadata": {},
   "outputs": [
    {
     "data": {
      "image/png": "[encoded data removed]",
      "text/latex": [
       "$$0.8368200836820083$$"
      ],
      "text/plain": [
       "0.8368200836820083"
      ]
     },
     "execution_count": 105,
     "metadata": {},
     "output_type": "execute_result"
    }
   ],
   "source": [
    "# \"The drag coefficient matches wind tunnel experiments\"\n",
    "# The reciprocal of K is the efficiency\n",
    "1/1.195"
   ]
  },
  {
   "cell_type": "code",
   "execution_count": null,
   "metadata": {
    "collapsed": true
   },
   "outputs": [],
   "source": [
    "# We pay a 16% loss of performance for our sweep \n",
    "# and twist.  If our aspect radio is 7.5, our effective\n",
    "# aspect radio is 84% if this or 6.3"
   ]
  }
 ],
 "metadata": {
  "kernelspec": {
   "display_name": "Python 3",
   "language": "python",
   "name": "python3"
  },
  "language_info": {
   "codemirror_mode": {
    "name": "ipython",
    "version": 3
   },
   "file_extension": ".py",
   "mimetype": "text/x-python",
   "name": "python",
   "nbconvert_exporter": "python",
   "pygments_lexer": "ipython3",
   "version": "3.6.1"
  }
 },
 "nbformat": 4,
 "nbformat_minor": 2
}
