{
 "cells": [
  {
   "cell_type": "code",
   "execution_count": null,
   "metadata": {},
   "outputs": [],
   "source": [
    "# This is a simple spherical projectile shot up and subject to gravity and drag forces"
   ]
  },
  {
   "cell_type": "code",
   "execution_count": null,
   "metadata": {},
   "outputs": [],
   "source": []
  },
  {
   "cell_type": "code",
   "execution_count": null,
   "metadata": {},
   "outputs": [],
   "source": []
  },
  {
   "cell_type": "code",
   "execution_count": 5,
   "metadata": {},
   "outputs": [
    {
     "data": {
      "text/latex": [
       "$\\displaystyle \\left[\\begin{matrix}- drag \\sqrt{u^{2}{\\left(t \\right)} + v^{2}{\\left(t \\right)}} u{\\left(t \\right)}\\\\- drag \\sqrt{u^{2}{\\left(t \\right)} + v^{2}{\\left(t \\right)}} v{\\left(t \\right)} - g m + F{\\left(t \\right)}\\end{matrix}\\right]$"
      ],
      "text/plain": [
       "Matrix([\n",
       "[             -drag*sqrt(u(t)**2 + v(t)**2)*u(t)],\n",
       "[-drag*sqrt(u(t)**2 + v(t)**2)*v(t) - g*m + F(t)]])"
      ]
     },
     "execution_count": 5,
     "metadata": {},
     "output_type": "execute_result"
    }
   ],
   "source": [
    "import sympy as sp\n",
    "import sympy.physics.mechanics as me\n",
    "\n",
    "m      = sp.symbols(\"m\")\n",
    "g      = sp.Symbol(\"g\")\n",
    "drag  = sp.Symbol('drag')\n",
    "\n",
    "x  = me.dynamicsymbols('x')\n",
    "z  = me.dynamicsymbols('z')\n",
    "u  = me.dynamicsymbols('u')\n",
    "v  = me.dynamicsymbols('v')\n",
    "\n",
    "xd = me.dynamicsymbols('x', 1)\n",
    "zd = me.dynamicsymbols('z', 1)\n",
    "bounceforce = me.dynamicsymbols('F')\n",
    "\n",
    "B = me.ReferenceFrame('B')\n",
    "origin  = me.Point('origin')\n",
    "origin.set_vel(B, 0)\n",
    "ballvel = u*B.x + v*B.z\n",
    "\n",
    "ballpt = origin.locatenew('ball', x*B.x + z*B.z)\n",
    "ballpt.set_vel(B, ballvel)\n",
    "\n",
    "ball = me.Particle('ball', ballpt, m)\n",
    "kinematic_equations = [u-xd, v-zd]\n",
    "\n",
    "forces          = [ (ballpt, -g*m*B.z - drag*ballvel.magnitude()*ballvel + bounceforce*B.z) ]\n",
    "particles       = [ ball ]\n",
    "\n",
    "\n",
    "kane = me.KanesMethod(B, \n",
    "                      q_ind=[x, z], \n",
    "                      u_ind=[u, v],\n",
    "                      kd_eqs=kinematic_equations)\n",
    "fr, frstar = kane.kanes_equations(particles, forces)\n",
    "fr"
   ]
  },
  {
   "cell_type": "code",
   "execution_count": 47,
   "metadata": {},
   "outputs": [],
   "source": [
    "from pydy.system import System\n",
    "import numpy as np\n",
    "\n",
    "def bounceforcefunc(X, t):\n",
    "    z = X[1]\n",
    "    return sp.Piecewise((1/(z**2 + 0.001), z<0.1), (0, True))\n",
    "\n",
    "sys = System(kane,\n",
    "             constants={m: 1.0, g: 9.8, drag:0.05},\n",
    "             specifieds={ bounceforce: bounceforcefunc },\n",
    "             initial_conditions={x:0, z:0, u:7, v:30},\n",
    "             times=np.linspace(0.0, 9.0, 500))\n",
    "y1 = sys.integrate()\n",
    "\n"
   ]
  },
  {
   "cell_type": "code",
   "execution_count": 48,
   "metadata": {},
   "outputs": [
    {
     "data": {
      "image/png": "[encoded data removed]",
      "text/plain": [
       "<Figure size 432x288 with 1 Axes>"
      ]
     },
     "metadata": {
      "needs_background": "light"
     },
     "output_type": "display_data"
    }
   ],
   "source": [
    "%matplotlib inline\n",
    "import matplotlib.pyplot as plt\n",
    "\n",
    "plt.plot(y1[:,0], y1[:,1])\n",
    "\n",
    "plt.show()"
   ]
  },
  {
   "cell_type": "code",
   "execution_count": null,
   "metadata": {},
   "outputs": [],
   "source": []
  },
  {
   "cell_type": "code",
   "execution_count": null,
   "metadata": {},
   "outputs": [],
   "source": []
  },
  {
   "cell_type": "code",
   "execution_count": 49,
   "metadata": {},
   "outputs": [
    {
     "data": {
      "application/vnd.jupyter.widget-view+json": {
       "model_id": "217f9dfa51de4c95afdcde17cc9dce62",
       "version_major": 2,
       "version_minor": 0
      },
      "text/plain": [
       "HBox(children=(Box(children=(HTML(value='<h4 style=\"margin-left: 5ex;\">Initial Conditions</h4>'), FloatText(va…"
      ]
     },
     "metadata": {},
     "output_type": "display_data"
    },
    {
     "data": {
      "application/vnd.jupyter.widget-view+json": {
       "model_id": "fd15c705136246c99a8f0ecdcc6cb197",
       "version_major": 2,
       "version_minor": 0
      },
      "text/plain": [
       "Button(description='Rerun Simulation', style=ButtonStyle(), _dom_classes=('btn-info',))"
      ]
     },
     "metadata": {},
     "output_type": "display_data"
    },
    {
     "data": {
      "application/vnd.jupyter.widget-view+json": {
       "model_id": "8df690d73efb4cdcb43b6aa679a3931b",
       "version_major": 2,
       "version_minor": 0
      },
      "text/plain": [
       "HTML(value='<!DOCTYPE html>\\n<html lang=\"en\">\\n\\n  <head>\\n\\n    <meta http-equiv=\"Content-Type\" content=\"text…"
      ]
     },
     "metadata": {},
     "output_type": "display_data"
    },
    {
     "data": {
      "text/html": [
       "<!DOCTYPE html>\n",
       "<html lang=\"en\">\n",
       "\n",
       "  <head>\n",
       "\n",
       "    <meta http-equiv=\"Content-Type\" content=\"text/html; charset=utf-8\" />\n",
       "    <title>PyDy Visualizer</title>\n",
       "\n",
       "    <!--CSS -->\n",
       "    <link type=\"text/css\" rel=\"stylesheet\" href=\"pydy-resources/css/main.css\">\n",
       "    <link type=\"text/css\" rel=\"stylesheet\" href=\"pydy-resources/css/codemirror/blackboard.css\">\n",
       "    <link type=\"text/css\" rel=\"stylesheet\" href=\"pydy-resources/css/slider.css\">\n",
       "    <link type=\"text/css\" rel=\"stylesheet\" href=\"pydy-resources/css/bootstrap.min.css\">\n",
       "\n",
       "    <!-- External Javascript -->\n",
       "    <script type=\"text/javascript\" src=\"pydy-resources/js/external/jquery/jquery-ui.js\"></script>\n",
       "\n",
       "    <script type=\"text/javascript\" src=\"pydy-resources/js/external/codemirror/javascript-mode.js\" ></script>\n",
       "\n",
       "    <script type=\"text/javascript\" src=\"pydy-resources/js/external/three/three.min.js\"></script>\n",
       "    <script type=\"text/javascript\" src=\"pydy-resources/js/external/three/TrackballControls.js\"></script>\n",
       "\n",
       "    <script type=\"text/javascript\" src=\"pydy-resources/js/external/utils/modernizr-2.0.6.js\"></script>\n",
       "    <script type=\"text/javascript\" src=\"pydy-resources/js/external/utils/bootstrap-slider.js\"></script>\n",
       "    <script type=\"text/javascript\" src=\"pydy-resources/js/external/utils/prototype.js\"></script>\n",
       "\n",
       "    <!-- DyViz Javascripts -->\n",
       "    <script type=\"text/javascript\" src=\"pydy-resources/js/dyviz/dv.js\"></script>\n",
       "    <script type=\"text/javascript\" src=\"pydy-resources/js/dyviz/scene.js\"></script>\n",
       "    <script type=\"text/javascript\" src=\"pydy-resources/js/dyviz/parser.js\"></script>\n",
       "    <script type=\"text/javascript\" src=\"pydy-resources/js/dyviz/param_editor.js\"></script>\n",
       "    <script type=\"text/javascript\" src=\"pydy-resources/js/dyviz/materials.js\"></script>\n",
       "\n",
       "  </head>\n",
       "\n",
       "  <body>\n",
       "    <div id=\"wrapper\">\n",
       "      <div id=\"container\">\n",
       "        <div id=\"sidebar-right\" >\n",
       "          <div id=\"json-inp\" style=\"display:none;\">\n",
       "            <!--Used in Ipython notebook to set sceneFileURI to load in dv.js-->\n",
       "            <input type=\"text\" class=\"form-control\" id=\"json-input\" value=\"pydy-resources/2020-03-10_15-27-43_scene_desc.json\">\n",
       "            <input type=\"button\" class=\"btn btn-primary\" value=\"Load Simulation\" id=\"simulation-load\">\n",
       "          </div><!--!json-inp-->\n",
       "          <hr />\n",
       "          <div id=\"edit-objects\" style=\"position: absolute; padding-top: 10px;\" >\n",
       "            <div class=\"btn-group\">\n",
       "              <button type=\"button\" class=\"btn btn-success dropdown-toggle\" data-toggle=\"dropdown\">\n",
       "                Edit Objects\n",
       "                <span class=\"caret\"></span>\n",
       "              </button>\n",
       "              <ul id=\"object-dropdown\" class=\"dropdown-menu\" role=\"menu\"></ul>\n",
       "              <button id=\"close-object-dialog\" class=\"btn btn-default btn-info disabled\">\n",
       "                Close Dialog\n",
       "              </button>\n",
       "              <br />\n",
       "            </div>\n",
       "            <div id=\"object-dialog\" class=\"well\" style=\"display:none; width: 74%;\"> </div>\n",
       "          </div>\n",
       "        </div>\n",
       "        <div id=\"canvas\" >\n",
       "          <div id=\"model-loader-wrapper\" style=\"display:None\">\n",
       "            <button id=\"close-model-dialog\" class=\"btn btn-primary btn-small\">\n",
       "              <i class=\"icon-white icon-list-alt\"></i>\n",
       "              Close Dialog\n",
       "            </button>\n",
       "            <div id=\"download-json\"><!-- appends JSON download link via jQuery --></div>\n",
       "            <textarea rows=\"10\" cols=\"50\" id=\"model-loader\" class=\"form-control\"></textarea>\n",
       "            <hr />\n",
       "          </div>\n",
       "          <div id=\"control-button-group\" style=\"display:inline-block;\" class=\"btn-group\">\n",
       "            <button id=\"play-animation\" class=\"btn btn-default btn-success disabled\" >\n",
       "              <span class=\"glyphicon glyphicon-play\"></span>Play\n",
       "            </button>\n",
       "            <button id=\"pause-animation\" disabled style=\"display:inline-block;\" class=\"btn btn-default btn-info active\">\n",
       "              <span class=\"glyphicon glyphicon-pause\" ></span>Pause\n",
       "            </button>\n",
       "            <button id=\"stop-animation\" disabled style=\"display:inline-block;\" class=\"btn btn-default btn-danger active\">\n",
       "              <span class=\"glyphicon glyphicon-stop\" ></span>Stop\n",
       "            </button>\n",
       "            <button id=\"show-model\" class=\"btn btn-default btn-info disabled\">\n",
       "              <span class=\"glyphicon glyphicon-edit\" ></span>Show Scene JSON\n",
       "            </button>\n",
       "            <label id=\"checkbox-play-looped\"><input type=\"checkbox\" id=\"play-looped\" >Play Looped</label>\n",
       "          </div>\n",
       "          <div id=\"slider-wrapper\" style=\"width: \">\n",
       "              <span class=\"glyphicon glyphicon-time\" ></span>\n",
       "              <span style=\"margin-right:1em;\" id=\"time\"> 0.000s</span>\n",
       "              <div id=\"time-slider\" class=\"slider\" style=\"float:right;padding-left: 2em;\"></div>\n",
       "          </div>\n",
       "          <hr style=\"margin-top: 23px;\" />\n",
       "          <div id=\"renderer\"></div>\n",
       "        </div>\n",
       "      </div>\n",
       "    </div>\n",
       "  </body>\n",
       "\n",
       "  <script type=\"text/javascript\" src=\"pydy-resources/js/dyviz/main.js\"></script>\n",
       "\n",
       "</html>\n"
      ],
      "text/plain": [
       "<IPython.core.display.HTML object>"
      ]
     },
     "metadata": {},
     "output_type": "display_data"
    }
   ],
   "source": [
    "import pydy.viz as pv\n",
    "import IPython.display\n",
    "\n",
    "ground_viz = pv.Plane(10, 10, color='blue')\n",
    "ball_viz = pv.Sphere(0.5, color='red')\n",
    "reference_frame, origin = B, origin\n",
    "v1 = pv.VisualizationFrame('plate', B, origin, ground_viz)\n",
    "v2 = pv.VisualizationFrame('ball', B, ballpt, ball_viz)\n",
    "scene = pv.Scene(reference_frame, origin, v1, v2, system=sys)\n",
    "\n",
    "scene.display_ipython()\n",
    "IPython.display.display(IPython.display.HTML(scene._html_widget.value))"
   ]
  }
 ],
 "metadata": {
  "kernelspec": {
   "display_name": "Python 3",
   "language": "python",
   "name": "python3"
  },
  "language_info": {
   "codemirror_mode": {
    "name": "ipython",
    "version": 3
   },
   "file_extension": ".py",
   "mimetype": "text/x-python",
   "name": "python",
   "nbconvert_exporter": "python",
   "pygments_lexer": "ipython3",
   "version": "3.7.4"
  }
 },
 "nbformat": 4,
 "nbformat_minor": 2
}
