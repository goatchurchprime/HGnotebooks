{
 "cells": [
  {
   "cell_type": "code",
   "execution_count": null,
   "metadata": {},
   "outputs": [],
   "source": [
    "# This is a simple spherical projectile shot up and subject to gravity and drag forces"
   ]
  },
  {
   "cell_type": "code",
   "execution_count": null,
   "metadata": {},
   "outputs": [],
   "source": []
  },
  {
   "cell_type": "code",
   "execution_count": null,
   "metadata": {},
   "outputs": [],
   "source": []
  },
  {
   "cell_type": "code",
   "execution_count": 5,
   "metadata": {},
   "outputs": [
    {
     "data": {
      "text/latex": [
       "$\\displaystyle \\left[\\begin{matrix}- drag \\sqrt{u^{2}{\\left(t \\right)} + v^{2}{\\left(t \\right)}} u{\\left(t \\right)}\\\\- drag \\sqrt{u^{2}{\\left(t \\right)} + v^{2}{\\left(t \\right)}} v{\\left(t \\right)} - g m + F{\\left(t \\right)}\\end{matrix}\\right]$"
      ],
      "text/plain": [
       "Matrix([\n",
       "[             -drag*sqrt(u(t)**2 + v(t)**2)*u(t)],\n",
       "[-drag*sqrt(u(t)**2 + v(t)**2)*v(t) - g*m + F(t)]])"
      ]
     },
     "execution_count": 5,
     "metadata": {},
     "output_type": "execute_result"
    }
   ],
   "source": [
    "import sympy as sp\n",
    "import sympy.physics.mechanics as me\n",
    "\n",
    "m      = sp.symbols(\"m\")\n",
    "g      = sp.Symbol(\"g\")\n",
    "drag  = sp.Symbol('drag')\n",
    "\n",
    "x  = me.dynamicsymbols('x')\n",
    "z  = me.dynamicsymbols('z')\n",
    "u  = me.dynamicsymbols('u')\n",
    "v  = me.dynamicsymbols('v')\n",
    "\n",
    "xd = me.dynamicsymbols('x', 1)\n",
    "zd = me.dynamicsymbols('z', 1)\n",
    "bounceforce = me.dynamicsymbols('F')\n",
    "\n",
    "B = me.ReferenceFrame('B')\n",
    "origin  = me.Point('origin')\n",
    "origin.set_vel(B, 0)\n",
    "ballvel = u*B.x + v*B.z\n",
    "\n",
    "ballpt = origin.locatenew('ball', x*B.x + z*B.z)\n",
    "ballpt.set_vel(B, ballvel)\n",
    "\n",
    "ball = me.Particle('ball', ballpt, m)\n",
    "kinematic_equations = [u-xd, v-zd]\n",
    "\n",
    "forces          = [ (ballpt, -g*m*B.z - drag*ballvel.magnitude()*ballvel + bounceforce*B.z) ]\n",
    "particles       = [ ball ]\n",
    "\n",
    "\n",
    "kane = me.KanesMethod(B, \n",
    "                      q_ind=[x, z], \n",
    "                      u_ind=[u, v],\n",
    "                      kd_eqs=kinematic_equations)\n",
    "fr, frstar = kane.kanes_equations(particles, forces)\n",
    "fr"
   ]
  },
  {
   "cell_type": "code",
   "execution_count": 34,
   "metadata": {},
   "outputs": [
    {
     "ename": "AttributeError",
     "evalue": "module 'sympy' has no attribute 'maximum'",
     "output_type": "error",
     "traceback": [
      "\u001b[0;31m---------------------------------------------------------------------------\u001b[0m",
      "\u001b[0;31mAttributeError\u001b[0m                            Traceback (most recent call last)",
      "\u001b[0;32m<ipython-input-34-251a76b397d8>\u001b[0m in \u001b[0;36m<module>\u001b[0;34m\u001b[0m\n\u001b[0;32m----> 1\u001b[0;31m \u001b[0msp\u001b[0m\u001b[0;34m.\u001b[0m\u001b[0mmaximum\u001b[0m\u001b[0;34m\u001b[0m\u001b[0;34m\u001b[0m\u001b[0m\n\u001b[0m",
      "\u001b[0;31mAttributeError\u001b[0m: module 'sympy' has no attribute 'maximum'"
     ]
    }
   ],
   "source": []
  },
  {
   "cell_type": "code",
   "execution_count": 35,
   "metadata": {},
   "outputs": [
    {
     "data": {
      "text/plain": [
       "Piecewise"
      ]
     },
     "execution_count": 35,
     "metadata": {},
     "output_type": "execute_result"
    }
   ],
   "source": []
  },
  {
   "cell_type": "code",
   "execution_count": 45,
   "metadata": {},
   "outputs": [],
   "source": [
    "from pydy.system import System\n",
    "import numpy as np\n",
    "\n",
    "def bounceforcefunc(X, t):\n",
    "    z = X[1]\n",
    "    return sp.Piecewise((1/(z**2 + 0.001), z<0.1), (0, True))\n",
    "\n",
    "sys = System(kane,\n",
    "             constants={m: 1.0, g: 9.8, drag:0.05},\n",
    "             specifieds={ bounceforce: bounceforcefunc },\n",
    "             initial_conditions={x:0, z:0, u:7, v:30},\n",
    "             times=np.linspace(0.0, 9.0, 500))\n",
    "y1 = sys.integrate()\n",
    "\n"
   ]
  },
  {
   "cell_type": "code",
   "execution_count": 46,
   "metadata": {},
   "outputs": [
    {
     "data": {
      "image/png": "[encoded data removed]",
      "text/plain": [
       "<Figure size 432x288 with 1 Axes>"
      ]
     },
     "metadata": {
      "needs_background": "light"
     },
     "output_type": "display_data"
    }
   ],
   "source": [
    "%matplotlib inline\n",
    "import matplotlib.pyplot as plt\n",
    "\n",
    "plt.plot(y1[:,0], y1[:,1])\n",
    "plt.plot(y2[:,0], y2[:,1])\n",
    "\n",
    "plt.show()"
   ]
  },
  {
   "cell_type": "code",
   "execution_count": null,
   "metadata": {},
   "outputs": [],
   "source": []
  },
  {
   "cell_type": "code",
   "execution_count": null,
   "metadata": {},
   "outputs": [],
   "source": []
  },
  {
   "cell_type": "code",
   "execution_count": null,
   "metadata": {},
   "outputs": [],
   "source": [
    "import pydy.viz as pv\n",
    "import IPython.display\n",
    "\n",
    "ground_viz = pv.Plane(10, 10, color='blue')\n",
    "ball_viz = pv.Sphere(0.5, color='red')\n",
    "reference_frame, origin = B, origin\n",
    "v1 = pv.VisualizationFrame('plate', B, origin, ground_viz)\n",
    "v2 = pv.VisualizationFrame('ball', B, ballpt, ball_viz)\n",
    "scene = pv.Scene(reference_frame, origin, v1, v2, system=sys)\n",
    "\n",
    "scene.display_ipython()\n",
    "IPython.display.display(IPython.display.HTML(scene._html_widget.value))"
   ]
  },
  {
   "cell_type": "code",
   "execution_count": null,
   "metadata": {},
   "outputs": [],
   "source": []
  },
  {
   "cell_type": "code",
   "execution_count": null,
   "metadata": {},
   "outputs": [],
   "source": []
  },
  {
   "cell_type": "code",
   "execution_count": null,
   "metadata": {},
   "outputs": [],
   "source": []
  },
  {
   "cell_type": "code",
   "execution_count": null,
   "metadata": {},
   "outputs": [],
   "source": []
  },
  {
   "cell_type": "code",
   "execution_count": null,
   "metadata": {},
   "outputs": [],
   "source": []
  },
  {
   "cell_type": "code",
   "execution_count": null,
   "metadata": {},
   "outputs": [],
   "source": []
  }
 ],
 "metadata": {
  "kernelspec": {
   "display_name": "Python 3",
   "language": "python",
   "name": "python3"
  },
  "language_info": {
   "codemirror_mode": {
    "name": "ipython",
    "version": 3
   },
   "file_extension": ".py",
   "mimetype": "text/x-python",
   "name": "python",
   "nbconvert_exporter": "python",
   "pygments_lexer": "ipython3",
   "version": "3.7.4"
  }
 },
 "nbformat": 4,
 "nbformat_minor": 2
}
