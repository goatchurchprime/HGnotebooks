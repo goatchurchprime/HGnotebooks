{
 "cells": [
  {
   "cell_type": "code",
   "execution_count": 1,
   "metadata": {},
   "outputs": [],
   "source": [
    "# Air resistance forces of an idealized thrown slab tumbling in 2D\n",
    "# (Does not account for moments of inertia)"
   ]
  },
  {
   "cell_type": "code",
   "execution_count": 1,
   "metadata": {},
   "outputs": [
    {
     "data": {
      "text/latex": [
       "$\\displaystyle \\left[\\begin{matrix}- drag \\sqrt{\\operatorname{xv}^{2}{\\left(t \\right)} + \\operatorname{zv}^{2}{\\left(t \\right)}} \\operatorname{xv}{\\left(t \\right)} - lift \\left(\\operatorname{xv}{\\left(t \\right)} \\sin{\\left(\\operatorname{ytheta}{\\left(t \\right)} \\right)} + \\operatorname{zv}{\\left(t \\right)} \\cos{\\left(\\operatorname{ytheta}{\\left(t \\right)} \\right)}\\right) \\sin{\\left(\\operatorname{ytheta}{\\left(t \\right)} \\right)} \\left|{\\operatorname{xv}{\\left(t \\right)} \\sin{\\left(\\operatorname{ytheta}{\\left(t \\right)} \\right)} + \\operatorname{zv}{\\left(t \\right)} \\cos{\\left(\\operatorname{ytheta}{\\left(t \\right)} \\right)}}\\right|\\\\- drag \\sqrt{\\operatorname{xv}^{2}{\\left(t \\right)} + \\operatorname{zv}^{2}{\\left(t \\right)}} \\operatorname{zv}{\\left(t \\right)} - g m - lift \\left(\\operatorname{xv}{\\left(t \\right)} \\sin{\\left(\\operatorname{ytheta}{\\left(t \\right)} \\right)} + \\operatorname{zv}{\\left(t \\right)} \\cos{\\left(\\operatorname{ytheta}{\\left(t \\right)} \\right)}\\right) \\cos{\\left(\\operatorname{ytheta}{\\left(t \\right)} \\right)} \\left|{\\operatorname{xv}{\\left(t \\right)} \\sin{\\left(\\operatorname{ytheta}{\\left(t \\right)} \\right)} + \\operatorname{zv}{\\left(t \\right)} \\cos{\\left(\\operatorname{ytheta}{\\left(t \\right)} \\right)}}\\right|\\\\- turningforce \\left(\\operatorname{xv}{\\left(t \\right)} \\sin{\\left(\\operatorname{ytheta}{\\left(t \\right)} \\right)} + \\operatorname{zv}{\\left(t \\right)} \\cos{\\left(\\operatorname{ytheta}{\\left(t \\right)} \\right)} - \\sin{\\left(neutralattackangle \\right)}\\right)\\end{matrix}\\right]$"
      ],
      "text/plain": [
       "Matrix([\n",
       "[      -drag*sqrt(xv(t)**2 + zv(t)**2)*xv(t) - lift*(xv(t)*sin(ytheta(t)) + zv(t)*cos(ytheta(t)))*sin(ytheta(t))*Abs(xv(t)*sin(ytheta(t)) + zv(t)*cos(ytheta(t)))],\n",
       "[-drag*sqrt(xv(t)**2 + zv(t)**2)*zv(t) - g*m - lift*(xv(t)*sin(ytheta(t)) + zv(t)*cos(ytheta(t)))*cos(ytheta(t))*Abs(xv(t)*sin(ytheta(t)) + zv(t)*cos(ytheta(t)))],\n",
       "[                                                                           -turningforce*(xv(t)*sin(ytheta(t)) + zv(t)*cos(ytheta(t)) - sin(neutralattackangle))]])"
      ]
     },
     "execution_count": 1,
     "metadata": {},
     "output_type": "execute_result"
    }
   ],
   "source": [
    "import sympy as sp\n",
    "import sympy.physics.mechanics as me\n",
    "\n",
    "m = sp.symbols(\"m\")\n",
    "g = sp.Symbol(\"g\")\n",
    "drag = sp.Symbol('drag')\n",
    "lift = sp.Symbol('lift')\n",
    "neutralattackangle = sp.Symbol('neutralattackangle')\n",
    "turningforce = sp.Symbol('turningforce')\n",
    "\n",
    "# Position of slab\n",
    "x = me.dynamicsymbols('x')\n",
    "z = me.dynamicsymbols('z')\n",
    "ytheta = me.dynamicsymbols('ytheta')\n",
    "\n",
    "# velocity of slab\n",
    "xv = me.dynamicsymbols('xv')\n",
    "zv = me.dynamicsymbols('zv')\n",
    "ythetav = me.dynamicsymbols('ythetav')\n",
    "\n",
    "xd = me.dynamicsymbols('x', 1)\n",
    "zd = me.dynamicsymbols('z', 1)\n",
    "ythetad = me.dynamicsymbols('ytheta', 1)\n",
    "kinematic_equations = [xv-xd, zv-zd, ythetav-ythetad]\n",
    "\n",
    "BaseFrame = me.ReferenceFrame('Base')\n",
    "origin  = me.Point('origin')\n",
    "origin.set_vel(BaseFrame, 0)\n",
    "\n",
    "SlabFrame = BaseFrame.orientnew('Slab', 'Axis', [ytheta, BaseFrame.y])\n",
    "SlabFrame.set_ang_vel(SlabFrame, ythetav * SlabFrame.y)\n",
    "\n",
    "slabvel = xv*BaseFrame.x + zv*BaseFrame.z\n",
    "slabpt = origin.locatenew('slab', x*BaseFrame.x + z*BaseFrame.z)\n",
    "slabpt.set_vel(BaseFrame, slabvel)\n",
    "Iyy = me.outer(SlabFrame.y, SlabFrame.y)\n",
    "slabbody = me.RigidBody(name=\"slab\", masscenter=slabpt, frame=SlabFrame, mass=m, \n",
    "                        inertia=(Iyy, slabpt))\n",
    "\n",
    "# the force is perpendicular against the plane of the disc away from the direction of \n",
    "# motion with the cosine of the direction times the square of the magnitude\n",
    "sfzdotslabvel = SlabFrame.z.dot(slabvel)\n",
    "liftforce = lift*abs(sfzdotslabvel)*sfzdotslabvel*SlabFrame.z\n",
    "dragforce = drag*slabvel*slabvel.magnitude()\n",
    "\n",
    "# The turning moment is proportional to the \n",
    "turningmoment = turningforce*(SlabFrame.z.dot(slabvel) - sp.sin(neutralattackangle))\n",
    "\n",
    "forces = [ (slabpt, -g*m*BaseFrame.z - liftforce - dragforce), \n",
    "           (SlabFrame, -SlabFrame.y*turningmoment) ]\n",
    "bodies = [ slabbody ]\n",
    "\n",
    "kane = me.KanesMethod(BaseFrame, \n",
    "                     q_ind=[x, z, ytheta], \n",
    "                     u_ind=[xv, zv, ythetav],\n",
    "                     kd_eqs=kinematic_equations)\n",
    "fr, frstar = kane.kanes_equations(bodies, forces)\n",
    "fr"
   ]
  },
  {
   "cell_type": "code",
   "execution_count": 13,
   "metadata": {},
   "outputs": [
    {
     "data": {
      "text/plain": [
       "-0.26179938779914946"
      ]
     },
     "execution_count": 13,
     "metadata": {},
     "output_type": "execute_result"
    }
   ],
   "source": [
    "float(sp.rad(-15))"
   ]
  },
  {
   "cell_type": "code",
   "execution_count": null,
   "metadata": {},
   "outputs": [],
   "source": [
    "%matplotlib inline\n",
    "import matplotlib.pyplot as plt\n"
   ]
  },
  {
   "cell_type": "code",
   "execution_count": 64,
   "metadata": {},
   "outputs": [
    {
     "data": {
      "image/png": "[encoded data removed]",
      "text/plain": [
       "<Figure size 432x288 with 1 Axes>"
      ]
     },
     "metadata": {
      "needs_background": "light"
     },
     "output_type": "display_data"
    }
   ],
   "source": [
    "from pydy.system import System\n",
    "import numpy as np\n",
    "\n",
    "initial_conditions = {x:0, z:8, ytheta:float(sp.rad(0)), \n",
    "                      xv:10, zv:-2, ythetav:0}\n",
    "sys = System(kane,\n",
    "             constants={m: 1.0, g: 1, drag:1, lift:8, turningforce:12, neutralattackangle:float(sp.rad(-17)) },\n",
    "             #specifieds={ bounceforce: bounceforcefunc },\n",
    "             initial_conditions=initial_conditions,\n",
    "             times=np.linspace(0.0, 20.0, 500))\n",
    "y1 = sys.integrate()\n",
    "\n",
    "plt.plot(y1[:,0], y1[:,1])\n",
    "plt.show()\n"
   ]
  },
  {
   "cell_type": "code",
   "execution_count": 65,
   "metadata": {},
   "outputs": [
    {
     "data": {
      "text/plain": [
       "[<matplotlib.lines.Line2D at 0x7f506feb4510>]"
      ]
     },
     "execution_count": 65,
     "metadata": {},
     "output_type": "execute_result"
    },
    {
     "data": {
      "image/png": "[encoded data removed]",
      "text/plain": [
       "<Figure size 432x288 with 1 Axes>"
      ]
     },
     "metadata": {
      "needs_background": "light"
     },
     "output_type": "display_data"
    }
   ],
   "source": [
    "plt.plot(sys.times, y1[:,2])"
   ]
  },
  {
   "cell_type": "code",
   "execution_count": 17,
   "metadata": {},
   "outputs": [
    {
     "data": {
      "text/plain": [
       "[<matplotlib.lines.Line2D at 0x7f5070079690>]"
      ]
     },
     "execution_count": 17,
     "metadata": {},
     "output_type": "execute_result"
    },
    {
     "data": {
      "image/png": "[encoded data removed]",
      "text/plain": [
       "<Figure size 432x288 with 1 Axes>"
      ]
     },
     "metadata": {
      "needs_background": "light"
     },
     "output_type": "display_data"
    }
   ],
   "source": [
    "plt.plot(sys.times, y1[:,1])"
   ]
  },
  {
   "cell_type": "code",
   "execution_count": 66,
   "metadata": {},
   "outputs": [
    {
     "name": "stdout",
     "output_type": "stream",
     "text": [
      "/home/julian/repositories/Future-Hangglider/HGnotebooks/pydy_modelling/pydy-resources/pydy-resources/pydy-resources/pydy-resources\n",
      "Serving HTTP on 127.0.0.1 port 8003 ...\n",
      "To view visualization, open:\n",
      "\n",
      "http://localhost:8003/index.html?load=2020-03-28_21-35-42_scene_desc.json\n",
      "Press Ctrl+C to stop server...\n"
     ]
    },
    {
     "name": "stderr",
     "output_type": "stream",
     "text": [
      "127.0.0.1 - - [28/Mar/2020 21:35:43] \"GET /index.html?load=2020-03-28_21-35-42_scene_desc.json HTTP/1.1\" 200 -\n",
      "127.0.0.1 - - [28/Mar/2020 21:35:43] \"GET /2020-03-28_21-35-42_scene_desc.json HTTP/1.1\" 200 -\n",
      "127.0.0.1 - - [28/Mar/2020 21:35:43] code 404, message File not found\n",
      "127.0.0.1 - - [28/Mar/2020 21:35:43] \"GET /fonts/glyphicons-halflings-regular.woff2 HTTP/1.1\" 404 -\n",
      "127.0.0.1 - - [28/Mar/2020 21:35:43] \"GET /fonts/glyphicons-halflings-regular.woff HTTP/1.1\" 200 -\n",
      "127.0.0.1 - - [28/Mar/2020 21:35:43] code 404, message File not found\n",
      "127.0.0.1 - - [28/Mar/2020 21:35:43] \"GET /favicon.ico HTTP/1.1\" 404 -\n",
      "----------------------------------------\n",
      "Exception happened during processing of request from ('127.0.0.1', 44638)\n",
      "Traceback (most recent call last):\n",
      "  File \"/home/julian/anaconda3/lib/python3.7/http/server.py\", line 696, in send_head\n",
      "    f = open(path, 'rb')\n",
      "FileNotFoundError: [Errno 2] No such file or directory: '/home/julian/repositories/Future-Hangglider/HGnotebooks/pydy_modelling/pydy-resources/pydy-resources/pydy-resources/pydy-resources/favicon.ico'\n",
      "\n",
      "During handling of the above exception, another exception occurred:\n",
      "\n",
      "Traceback (most recent call last):\n",
      "  File \"/home/julian/anaconda3/lib/python3.7/socketserver.py\", line 316, in _handle_request_noblock\n",
      "    self.process_request(request, client_address)\n",
      "  File \"/home/julian/anaconda3/lib/python3.7/socketserver.py\", line 347, in process_request\n",
      "    self.finish_request(request, client_address)\n",
      "  File \"/home/julian/anaconda3/lib/python3.7/socketserver.py\", line 360, in finish_request\n",
      "    self.RequestHandlerClass(request, client_address, self)\n",
      "  File \"/home/julian/anaconda3/lib/python3.7/http/server.py\", line 646, in __init__\n",
      "    super().__init__(*args, **kwargs)\n",
      "  File \"/home/julian/anaconda3/lib/python3.7/socketserver.py\", line 720, in __init__\n",
      "    self.handle()\n",
      "  File \"/home/julian/anaconda3/lib/python3.7/http/server.py\", line 426, in handle\n",
      "    self.handle_one_request()\n",
      "  File \"/home/julian/anaconda3/lib/python3.7/http/server.py\", line 414, in handle_one_request\n",
      "    method()\n",
      "  File \"/home/julian/anaconda3/lib/python3.7/http/server.py\", line 650, in do_GET\n",
      "    f = self.send_head()\n",
      "  File \"/home/julian/anaconda3/lib/python3.7/http/server.py\", line 698, in send_head\n",
      "    self.send_error(HTTPStatus.NOT_FOUND, \"File not found\")\n",
      "  File \"/home/julian/anaconda3/lib/python3.7/http/server.py\", line 481, in send_error\n",
      "    self.wfile.write(body)\n",
      "  File \"/home/julian/anaconda3/lib/python3.7/socketserver.py\", line 799, in write\n",
      "    self._sock.sendall(b)\n",
      "BrokenPipeError: [Errno 32] Broken pipe\n",
      "----------------------------------------\n",
      "127.0.0.1 - - [28/Mar/2020 21:35:43] \"GET /2020-03-28_21-35-42_simulation_data.json HTTP/1.1\" 200 -\n"
     ]
    }
   ],
   "source": [
    "import pydy.viz as pv\n",
    "import IPython.display\n",
    "\n",
    "ground_viz = pv.Plane(10, 10, color='blue')\n",
    "slab_viz = pv.Cylinder(0.1, 1.0, color='red')\n",
    "reference_frame, origin = BaseFrame, origin\n",
    "\n",
    "SlabFrameRot = SlabFrame.orientnew('SlabRot', 'Axis', [sp.pi/2, SlabFrame.x])\n",
    "        # required to orient the disc axis in z\n",
    "    \n",
    "v1 = pv.VisualizationFrame('plate', BaseFrame, origin, ground_viz)\n",
    "v2 = pv.VisualizationFrame('slab', SlabFrameRot, slabpt, slab_viz)\n",
    "scene = pv.Scene(reference_frame, origin, v1, v2, system=sys)\n",
    "\n",
    "scene.display()\n",
    "#scene.display_ipython()\n",
    "#IPython.display.display(IPython.display.HTML(scene._html_widget.value))"
   ]
  },
  {
   "cell_type": "code",
   "execution_count": null,
   "metadata": {},
   "outputs": [],
   "source": []
  }
 ],
 "metadata": {
  "kernelspec": {
   "display_name": "Python 3",
   "language": "python",
   "name": "python3"
  },
  "language_info": {
   "codemirror_mode": {
    "name": "ipython",
    "version": 3
   },
   "file_extension": ".py",
   "mimetype": "text/x-python",
   "name": "python",
   "nbconvert_exporter": "python",
   "pygments_lexer": "ipython3",
   "version": "3.7.4"
  }
 },
 "nbformat": 4,
 "nbformat_minor": 2
}
