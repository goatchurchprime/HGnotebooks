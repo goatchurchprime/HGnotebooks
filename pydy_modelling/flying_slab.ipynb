{
 "cells": [
  {
   "cell_type": "code",
   "execution_count": 1,
   "metadata": {},
   "outputs": [],
   "source": [
    "# Air resistance forces of an idealized thrown slab tumbling in 2D\n",
    "# (Does not account for moments of inertia)"
   ]
  },
  {
   "cell_type": "code",
   "execution_count": 91,
   "metadata": {},
   "outputs": [
    {
     "data": {
      "text/latex": [
       "$\\displaystyle \\left[\\begin{matrix}- drag \\left(\\operatorname{xv}{\\left(t \\right)} \\sin{\\left(\\operatorname{ytheta}{\\left(t \\right)} \\right)} + \\operatorname{zv}{\\left(t \\right)} \\cos{\\left(\\operatorname{ytheta}{\\left(t \\right)} \\right)}\\right) \\sin{\\left(\\operatorname{ytheta}{\\left(t \\right)} \\right)} \\left|{\\operatorname{xv}{\\left(t \\right)} \\sin{\\left(\\operatorname{ytheta}{\\left(t \\right)} \\right)} + \\operatorname{zv}{\\left(t \\right)} \\cos{\\left(\\operatorname{ytheta}{\\left(t \\right)} \\right)}}\\right|\\\\- drag \\left(\\operatorname{xv}{\\left(t \\right)} \\sin{\\left(\\operatorname{ytheta}{\\left(t \\right)} \\right)} + \\operatorname{zv}{\\left(t \\right)} \\cos{\\left(\\operatorname{ytheta}{\\left(t \\right)} \\right)}\\right) \\cos{\\left(\\operatorname{ytheta}{\\left(t \\right)} \\right)} \\left|{\\operatorname{xv}{\\left(t \\right)} \\sin{\\left(\\operatorname{ytheta}{\\left(t \\right)} \\right)} + \\operatorname{zv}{\\left(t \\right)} \\cos{\\left(\\operatorname{ytheta}{\\left(t \\right)} \\right)}}\\right| - g m\\\\0\\end{matrix}\\right]$"
      ],
      "text/plain": [
       "Matrix([\n",
       "[      -drag*(xv(t)*sin(ytheta(t)) + zv(t)*cos(ytheta(t)))*sin(ytheta(t))*Abs(xv(t)*sin(ytheta(t)) + zv(t)*cos(ytheta(t)))],\n",
       "[-drag*(xv(t)*sin(ytheta(t)) + zv(t)*cos(ytheta(t)))*cos(ytheta(t))*Abs(xv(t)*sin(ytheta(t)) + zv(t)*cos(ytheta(t))) - g*m],\n",
       "[                                                                                                                        0]])"
      ]
     },
     "execution_count": 91,
     "metadata": {},
     "output_type": "execute_result"
    }
   ],
   "source": [
    "import sympy as sp\n",
    "import sympy.physics.mechanics as me\n",
    "\n",
    "m = sp.symbols(\"m\")\n",
    "g = sp.Symbol(\"g\")\n",
    "drag = sp.Symbol('drag')\n",
    "\n",
    "# Position of slab\n",
    "x = me.dynamicsymbols('x')\n",
    "z = me.dynamicsymbols('z')\n",
    "ytheta = me.dynamicsymbols('ytheta')\n",
    "\n",
    "# velocity of slab\n",
    "xv = me.dynamicsymbols('xv')\n",
    "zv = me.dynamicsymbols('zv')\n",
    "ythetav = me.dynamicsymbols('ythetav')\n",
    "\n",
    "xd = me.dynamicsymbols('x', 1)\n",
    "zd = me.dynamicsymbols('z', 1)\n",
    "ythetad = me.dynamicsymbols('ytheta', 1)\n",
    "kinematic_equations = [xv-xd, zv-zd, ythetav-ythetad]\n",
    "\n",
    "BaseFrame = me.ReferenceFrame('Base')\n",
    "origin  = me.Point('origin')\n",
    "origin.set_vel(BaseFrame, 0)\n",
    "\n",
    "SlabFrame = BaseFrame.orientnew('Slab', 'Axis', [ytheta, BaseFrame.y])\n",
    "SlabFrame.set_ang_vel(SlabFrame, ythetav * SlabFrame.y)\n",
    "\n",
    "slabvel = xv*BaseFrame.x + zv*BaseFrame.z\n",
    "slabpt = origin.locatenew('slab', x*BaseFrame.x + z*BaseFrame.z)\n",
    "slabpt.set_vel(BaseFrame, slabvel)\n",
    "Iyy = me.outer(SlabFrame.y, SlabFrame.y)\n",
    "slabbody = me.RigidBody(name=\"slab\", masscenter=slabpt, frame=SlabFrame, mass=m, \n",
    "                        inertia=(Iyy, slabpt))\n",
    "\n",
    "# the force is perpendicular against the plane of the disc away from the direction of \n",
    "# motion with the cosine of the direction times the square of the magnitude\n",
    "forces = [ (slabpt, -g*m*BaseFrame.z - drag*abs(SlabFrame.z.dot(slabvel))*SlabFrame.z.dot(slabvel)*SlabFrame.z) ]\n",
    "bodies = [ slabbody ]\n",
    "\n",
    "kane = me.KanesMethod(BaseFrame, \n",
    "                     q_ind=[x, z, ytheta], \n",
    "                     u_ind=[xv, zv, ythetav],\n",
    "                     kd_eqs=kinematic_equations)\n",
    "fr, frstar = kane.kanes_equations(bodies, forces)\n",
    "fr"
   ]
  },
  {
   "cell_type": "code",
   "execution_count": 92,
   "metadata": {},
   "outputs": [
    {
     "data": {
      "text/latex": [
       "$\\displaystyle \\operatorname{xv}{\\left(t \\right)} \\sin{\\left(\\operatorname{ytheta}{\\left(t \\right)} \\right)} + \\operatorname{zv}{\\left(t \\right)} \\cos{\\left(\\operatorname{ytheta}{\\left(t \\right)} \\right)}$"
      ],
      "text/plain": [
       "xv(t)*sin(ytheta(t)) + zv(t)*cos(ytheta(t))"
      ]
     },
     "execution_count": 92,
     "metadata": {},
     "output_type": "execute_result"
    }
   ],
   "source": [
    "SlabFrame.z.dot(slabvel)"
   ]
  },
  {
   "cell_type": "code",
   "execution_count": 110,
   "metadata": {},
   "outputs": [],
   "source": [
    "from pydy.system import System\n",
    "import numpy as np\n",
    "\n",
    "initial_conditions = {x:0, z:7, ytheta:2, \n",
    "                      xv:7, zv:30, ythetav:sp.pi}  # spin every 2 seconds\n",
    "sys = System(kane,\n",
    "             constants={m: 1.0, g: 4.8, drag:2},\n",
    "             #specifieds={ bounceforce: bounceforcefunc },\n",
    "             initial_conditions=initial_conditions,\n",
    "             times=np.linspace(0.0, 5.0, 500))\n",
    "y1 = sys.integrate()\n",
    "\n"
   ]
  },
  {
   "cell_type": "code",
   "execution_count": 111,
   "metadata": {},
   "outputs": [
    {
     "data": {
      "text/plain": [
       "[<matplotlib.lines.Line2D at 0x7f9a64155790>]"
      ]
     },
     "execution_count": 111,
     "metadata": {},
     "output_type": "execute_result"
    },
    {
     "data": {
      "image/png": "[encoded data removed]",
      "text/plain": [
       "<Figure size 432x288 with 1 Axes>"
      ]
     },
     "metadata": {
      "needs_background": "light"
     },
     "output_type": "display_data"
    }
   ],
   "source": [
    "plt.plot(sys.times, y1[:,1])"
   ]
  },
  {
   "cell_type": "code",
   "execution_count": 112,
   "metadata": {},
   "outputs": [
    {
     "data": {
      "image/png": "[encoded data removed]",
      "text/plain": [
       "<Figure size 432x288 with 1 Axes>"
      ]
     },
     "metadata": {
      "needs_background": "light"
     },
     "output_type": "display_data"
    }
   ],
   "source": [
    "%matplotlib inline\n",
    "import matplotlib.pyplot as plt\n",
    "\n",
    "plt.plot(y1[:,0], y1[:,1])\n",
    "\n",
    "plt.show()\n"
   ]
  },
  {
   "cell_type": "code",
   "execution_count": 113,
   "metadata": {},
   "outputs": [
    {
     "name": "stdout",
     "output_type": "stream",
     "text": [
      "/home/julian/repositories/Future-Hangglider/HGnotebooks/pydy_modelling/pydy-resources/pydy-resources/pydy-resources/pydy-resources/pydy-resources/pydy-resources/pydy-resources/pydy-resources/pydy-resources/pydy-resources\n",
      "Serving HTTP on 127.0.0.1 port 8011 ...\n",
      "To view visualization, open:\n",
      "\n",
      "http://localhost:8011/index.html?load=2020-03-10_16-20-23_scene_desc.json\n",
      "Press Ctrl+C to stop server...\n"
     ]
    },
    {
     "name": "stderr",
     "output_type": "stream",
     "text": [
      "127.0.0.1 - - [10/Mar/2020 16:20:23] \"GET /index.html?load=2020-03-10_16-20-23_scene_desc.json HTTP/1.1\" 200 -\n",
      "127.0.0.1 - - [10/Mar/2020 16:20:23] \"GET /css/bootstrap.min.css HTTP/1.1\" 200 -\n",
      "127.0.0.1 - - [10/Mar/2020 16:20:23] \"GET /css/slider.css HTTP/1.1\" 200 -\n",
      "127.0.0.1 - - [10/Mar/2020 16:20:23] \"GET /css/main.css HTTP/1.1\" 200 -\n",
      "127.0.0.1 - - [10/Mar/2020 16:20:23] \"GET /css/codemirror/codemirror.css HTTP/1.1\" 200 -\n",
      "127.0.0.1 - - [10/Mar/2020 16:20:23] \"GET /css/codemirror/blackboard.css HTTP/1.1\" 200 -\n",
      "127.0.0.1 - - [10/Mar/2020 16:20:23] \"GET /js/external/jquery/jquery.min.js HTTP/1.1\" 200 -\n",
      "127.0.0.1 - - [10/Mar/2020 16:20:23] \"GET /js/external/jquery/jquery-ui.js HTTP/1.1\" 200 -\n",
      "127.0.0.1 - - [10/Mar/2020 16:20:23] \"GET /js/external/bootstrap/bootstrap.min.js HTTP/1.1\" 200 -\n",
      "127.0.0.1 - - [10/Mar/2020 16:20:23] \"GET /js/external/codemirror/codemirror.js HTTP/1.1\" 200 -\n",
      "127.0.0.1 - - [10/Mar/2020 16:20:23] \"GET /js/external/codemirror/javascript-mode.js HTTP/1.1\" 200 -\n",
      "127.0.0.1 - - [10/Mar/2020 16:20:23] \"GET /js/external/three/three.min.js HTTP/1.1\" 200 -\n",
      "127.0.0.1 - - [10/Mar/2020 16:20:23] \"GET /js/external/three/TrackballControls.js HTTP/1.1\" 200 -\n",
      "127.0.0.1 - - [10/Mar/2020 16:20:23] \"GET /js/external/utils/modernizr-2.0.6.js HTTP/1.1\" 200 -\n",
      "127.0.0.1 - - [10/Mar/2020 16:20:23] \"GET /js/external/utils/bootstrap-slider.js HTTP/1.1\" 200 -\n",
      "127.0.0.1 - - [10/Mar/2020 16:20:23] \"GET /js/external/utils/prototype.js HTTP/1.1\" 200 -\n",
      "127.0.0.1 - - [10/Mar/2020 16:20:23] \"GET /js/dyviz/dv.js HTTP/1.1\" 200 -\n",
      "127.0.0.1 - - [10/Mar/2020 16:20:23] \"GET /js/dyviz/scene.js HTTP/1.1\" 200 -\n",
      "127.0.0.1 - - [10/Mar/2020 16:20:23] \"GET /js/dyviz/parser.js HTTP/1.1\" 200 -\n",
      "127.0.0.1 - - [10/Mar/2020 16:20:23] \"GET /js/dyviz/param_editor.js HTTP/1.1\" 200 -\n",
      "127.0.0.1 - - [10/Mar/2020 16:20:23] \"GET /js/dyviz/materials.js HTTP/1.1\" 200 -\n",
      "127.0.0.1 - - [10/Mar/2020 16:20:23] \"GET /js/dyviz/main.js HTTP/1.1\" 200 -\n",
      "127.0.0.1 - - [10/Mar/2020 16:20:24] \"GET /2020-03-10_16-20-23_scene_desc.json HTTP/1.1\" 200 -\n",
      "127.0.0.1 - - [10/Mar/2020 16:20:24] code 404, message File not found\n",
      "127.0.0.1 - - [10/Mar/2020 16:20:24] \"GET /fonts/glyphicons-halflings-regular.woff2 HTTP/1.1\" 404 -\n",
      "127.0.0.1 - - [10/Mar/2020 16:20:24] code 404, message File not found\n",
      "127.0.0.1 - - [10/Mar/2020 16:20:24] \"GET /favicon.ico HTTP/1.1\" 404 -\n",
      "127.0.0.1 - - [10/Mar/2020 16:20:24] \"GET /fonts/glyphicons-halflings-regular.woff HTTP/1.1\" 200 -\n",
      "127.0.0.1 - - [10/Mar/2020 16:20:24] \"GET /2020-03-10_16-20-23_simulation_data.json HTTP/1.1\" 200 -\n"
     ]
    }
   ],
   "source": [
    "import pydy.viz as pv\n",
    "import IPython.display\n",
    "\n",
    "ground_viz = pv.Plane(10, 10, color='blue')\n",
    "slab_viz = pv.Cylinder(0.1, 1.0, color='red')\n",
    "reference_frame, origin = BaseFrame, origin\n",
    "\n",
    "SlabFrameRot = SlabFrame.orientnew('SlabRot', 'Axis', [sp.pi/2, SlabFrame.x])\n",
    "        # required to orient the disc axis in z\n",
    "    \n",
    "v1 = pv.VisualizationFrame('plate', BaseFrame, origin, ground_viz)\n",
    "v2 = pv.VisualizationFrame('slab', SlabFrameRot, slabpt, slab_viz)\n",
    "scene = pv.Scene(reference_frame, origin, v1, v2, system=sys)\n",
    "\n",
    "scene.display()\n",
    "#scene.display_ipython()\n",
    "#IPython.display.display(IPython.display.HTML(scene._html_widget.value))"
   ]
  },
  {
   "cell_type": "code",
   "execution_count": null,
   "metadata": {},
   "outputs": [],
   "source": []
  }
 ],
 "metadata": {
  "kernelspec": {
   "display_name": "Python 3",
   "language": "python",
   "name": "python3"
  },
  "language_info": {
   "codemirror_mode": {
    "name": "ipython",
    "version": 3
   },
   "file_extension": ".py",
   "mimetype": "text/x-python",
   "name": "python",
   "nbconvert_exporter": "python",
   "pygments_lexer": "ipython3",
   "version": "3.7.4"
  }
 },
 "nbformat": 4,
 "nbformat_minor": 2
}
