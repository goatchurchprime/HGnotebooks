{
 "cells": [
  {
   "cell_type": "code",
   "execution_count": 37,
   "metadata": {},
   "outputs": [],
   "source": [
    "# Rod length 2d with mass m and moment of intertia I\n",
    "# gets pushed by perpendicular force f at one end.  \n",
    "# What's the acceleration of the CofG and the angular acceleration?\n",
    "# x is along rod, y is perpendicular to rod in direction of f\n",
    "\n",
    "import sympy as sp\n",
    "import sympy.physics.mechanics as me\n",
    "\n",
    "m = sp.symbols(\"m\") # mass of rod\n",
    "d = sp.Symbol(\"d\")  # half length of rod\n",
    "x = sp.Symbol(\"x\")  # position along rod\n",
    "I = sp.integrate(m/(2*d)*x*x, (x, -d, d))    # moment of inertia evenly distributed\n",
    "f = sp.Symbol('f')  # instantaneous force\n"
   ]
  },
  {
   "cell_type": "code",
   "execution_count": 54,
   "metadata": {},
   "outputs": [
    {
     "data": {
      "text/plain": [
       "{a: f/m, alpha: 3*f/(d*m)}"
      ]
     },
     "execution_count": 54,
     "metadata": {},
     "output_type": "execute_result"
    }
   ],
   "source": [
    "alpha = sp.Symbol(\"alpha\")  # rotational acceleration\n",
    "a = sp.Symbol(\"a\")          # linear acceleration\n",
    "eq1 = sp.Eq(alpha*I, f*d)   # rotational torque\n",
    "eq2 = sp.Eq(m*a, f)         # linear acceleration\n",
    "sol = sp.solve([eq1, eq2], [a, alpha])\n",
    "sol"
   ]
  },
  {
   "cell_type": "code",
   "execution_count": 57,
   "metadata": {},
   "outputs": [
    {
     "name": "stdout",
     "output_type": "stream",
     "text": [
      "kineticenergy:\n"
     ]
    },
    {
     "data": {
      "text/latex": [
       "$\\displaystyle \\frac{2 \\delta t^{2} f^{2}}{m}$"
      ],
      "text/plain": [
       "2*\\delta t**2*f**2/m"
      ]
     },
     "metadata": {},
     "output_type": "display_data"
    },
    {
     "name": "stdout",
     "output_type": "stream",
     "text": [
      "workdone:\n"
     ]
    },
    {
     "data": {
      "text/latex": [
       "$\\displaystyle \\frac{4 \\delta t f^{2}}{m}$"
      ],
      "text/plain": [
       "4*\\delta t*f**2/m"
      ]
     },
     "metadata": {},
     "output_type": "display_data"
    }
   ],
   "source": [
    "deltat = sp.Symbol(\"\\delta t\")\n",
    "vy = a*deltat + x*alpha*deltat # velocity forward at position x after infinitesimal time\n",
    "kineticenergy = sp.integrate(m/(2*d)/2*vy*vy, (x, -d, d)).subs(sol)\n",
    "workdone = f*(a*deltat + alpha*deltat*d).subs(sol) # force times distance\n",
    "\n",
    "print(\"kineticenergy:\")\n",
    "display(kineticenergy)\n",
    "print(\"workdone:\")\n",
    "display(workdone)"
   ]
  },
  {
   "cell_type": "code",
   "execution_count": null,
   "metadata": {},
   "outputs": [],
   "source": [
    "# Next up: express the above in terms of rigid bodies: https://docs.sympy.org/latest/modules/physics/mechanics/masses.html#rigid-body\n"
   ]
  },
  {
   "cell_type": "code",
   "execution_count": null,
   "metadata": {},
   "outputs": [],
   "source": [
    "# Then handle the slipping rod from here:\n",
    "# https://physics.stackexchange.com/questions/80603/can-i-make-a-rod-in-the-vertical-plane-move-with-its-one-end-on-the-ground-in-a/90894#90894\n"
   ]
  }
 ],
 "metadata": {
  "kernelspec": {
   "display_name": "Python 3",
   "language": "python",
   "name": "python3"
  },
  "language_info": {
   "codemirror_mode": {
    "name": "ipython",
    "version": 3
   },
   "file_extension": ".py",
   "mimetype": "text/x-python",
   "name": "python",
   "nbconvert_exporter": "python",
   "pygments_lexer": "ipython3",
   "version": "3.7.4"
  }
 },
 "nbformat": 4,
 "nbformat_minor": 2
}
