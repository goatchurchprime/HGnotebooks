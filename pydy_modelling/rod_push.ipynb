{
 "cells": [
  {
   "cell_type": "code",
   "execution_count": 15,
   "metadata": {},
   "outputs": [],
   "source": [
    "# Rod length 2d with mass m and moment of intertia I\n",
    "# gets pushed by perpendicular force f at one end.  \n",
    "# What's the acceleration of the CofG and the angular acceleration?\n",
    "# x is along rod, y is perpendicular to rod in direction of f\n",
    "\n",
    "import sympy as sp\n",
    "import sympy.physics.mechanics as me\n",
    "sp.init_printing()\n",
    "\n",
    "m = sp.symbols(\"m\") # mass of rod\n",
    "d = sp.Symbol(\"d\")  # half length of rod\n",
    "x = sp.Symbol(\"x\")  # position along rod\n",
    "ld = m/(2*d)        # length desnsity\n",
    "I = sp.integrate(ld*x*x, (x, -d, d))    # moment of inertia evenly distributed\n",
    "f = sp.Symbol('f')  # instantaneous force\n"
   ]
  },
  {
   "cell_type": "code",
   "execution_count": 21,
   "metadata": {},
   "outputs": [
    {
     "data": {
      "image/png": "[encoded data removed]",
      "text/latex": [
       "$\\displaystyle \\frac{d^{2} m}{3}$"
      ],
      "text/plain": [
       " 2  \n",
       "d ⋅m\n",
       "────\n",
       " 3  "
      ]
     },
     "execution_count": 21,
     "metadata": {},
     "output_type": "execute_result"
    }
   ],
   "source": [
    "I"
   ]
  },
  {
   "cell_type": "code",
   "execution_count": null,
   "metadata": {},
   "outputs": [],
   "source": []
  },
  {
   "cell_type": "code",
   "execution_count": 10,
   "metadata": {},
   "outputs": [
    {
     "data": {
      "text/plain": [
       "{a: f/m, alpha: 3*f/(d*m)}"
      ]
     },
     "execution_count": 10,
     "metadata": {},
     "output_type": "execute_result"
    }
   ],
   "source": [
    "alpha = sp.Symbol(\"alpha\")  # rotational acceleration\n",
    "a = sp.Symbol(\"a\")          # linear acceleration\n",
    "eq1 = sp.Eq(alpha*I, f*d)   # rotational torque\n",
    "eq2 = sp.Eq(m*a, f)         # linear acceleration\n",
    "sol = sp.solve([eq1, eq2], [a, alpha])\n",
    "sol"
   ]
  },
  {
   "cell_type": "code",
   "execution_count": 11,
   "metadata": {},
   "outputs": [
    {
     "name": "stdout",
     "output_type": "stream",
     "text": [
      "vy:\n"
     ]
    },
    {
     "data": {
      "text/latex": [
       "$\\displaystyle \\frac{\\delta t f \\left(d + 3 x\\right)}{d m}$"
      ],
      "text/plain": [
       "\\delta t*f*(d + 3*x)/(d*m)"
      ]
     },
     "metadata": {},
     "output_type": "display_data"
    },
    {
     "name": "stdout",
     "output_type": "stream",
     "text": [
      "pivot point: x=\n"
     ]
    },
    {
     "data": {
      "text/plain": [
       "[-d/3]"
      ]
     },
     "metadata": {},
     "output_type": "display_data"
    },
    {
     "name": "stdout",
     "output_type": "stream",
     "text": [
      "kineticenergy:\n"
     ]
    },
    {
     "data": {
      "text/latex": [
       "$\\displaystyle \\frac{2 \\delta t^{2} f^{2}}{m}$"
      ],
      "text/plain": [
       "2*\\delta t**2*f**2/m"
      ]
     },
     "metadata": {},
     "output_type": "display_data"
    },
    {
     "name": "stdout",
     "output_type": "stream",
     "text": [
      "workdone?:\n"
     ]
    },
    {
     "data": {
      "text/latex": [
       "$\\displaystyle \\frac{2.0 \\delta t f^{2}}{m}$"
      ],
      "text/plain": [
       "2.0*\\delta t*f**2/m"
      ]
     },
     "metadata": {},
     "output_type": "display_data"
    }
   ],
   "source": [
    "deltat = sp.Symbol(\"\\delta t\")\n",
    "vy = (a*deltat + x*alpha*deltat) # velocity forward at position x after infinitesimal time\n",
    "vy = vy.subs(sol).simplify()\n",
    "print(\"vy:\")\n",
    "display(vy)\n",
    "print(\"pivot point: x=\")\n",
    "display(sp.solve(vy, x))\n",
    "\n",
    "\n",
    "kineticenergy = sp.integrate(ld/2*vy*vy, (x, -d, d))\n",
    "workdone = 0.5*f*vy.subs(x, d)  # force times distance\n",
    "\n",
    "print(\"kineticenergy:\")\n",
    "display(kineticenergy)\n",
    "print(\"workdone?:\")\n",
    "display(workdone)"
   ]
  },
  {
   "cell_type": "code",
   "execution_count": 4,
   "metadata": {},
   "outputs": [
    {
     "name": "stdout",
     "output_type": "stream",
     "text": [
      "kinetic energy\n"
     ]
    },
    {
     "data": {
      "text/latex": [
       "$\\displaystyle \\frac{2 \\delta t^{2} f^{2}}{m}$"
      ],
      "text/plain": [
       "2*\\delta t**2*f**2/m"
      ]
     },
     "execution_count": 4,
     "metadata": {},
     "output_type": "execute_result"
    }
   ],
   "source": [
    "# according to section 3 in https://arxiv.org/abs/1708.05062\n",
    "print(\"kinetic energy\")\n",
    "angularenergy = (alpha*deltat)**2*I/2\n",
    "linearenergy = m*(a*deltat)**2/2\n",
    "KE = (linearenergy + angularenergy).subs(sol).simplify()\n",
    "KE"
   ]
  },
  {
   "cell_type": "code",
   "execution_count": null,
   "metadata": {},
   "outputs": [],
   "source": []
  },
  {
   "cell_type": "code",
   "execution_count": null,
   "metadata": {},
   "outputs": [],
   "source": []
  },
  {
   "cell_type": "code",
   "execution_count": 28,
   "metadata": {},
   "outputs": [
    {
     "data": {
      "image/png": "[encoded data removed]",
      "text/latex": [
       "$\\displaystyle \\frac{d^{6}}{d t^{6}} x{\\left(t \\right)}$"
      ],
      "text/plain": [
       "  6      \n",
       " d       \n",
       "───(x(t))\n",
       "  6      \n",
       "dt       "
      ]
     },
     "execution_count": 28,
     "metadata": {},
     "output_type": "execute_result"
    }
   ],
   "source": [
    "xd = me.dynamicsymbols('x', 6)\n",
    "xd"
   ]
  },
  {
   "cell_type": "code",
   "execution_count": null,
   "metadata": {},
   "outputs": [],
   "source": []
  },
  {
   "cell_type": "code",
   "execution_count": 12,
   "metadata": {},
   "outputs": [],
   "source": [
    "# Next up: express the above in terms of rigid bodies: \n",
    "# https://docs.sympy.org/latest/modules/physics/mechanics/masses.html#rigid-body\n",
    "import sympy as sp\n",
    "import sympy.physics.mechanics as me\n",
    "\n",
    "m = sp.Symbol(\"m\")\n",
    "d = sp.Symbol('d')\n",
    "\n",
    "lx = sp.Symbol('lx')\n",
    "ld = m/(2*d)                         # length density\n",
    "I = sp.integrate(ld*lx*lx, (lx, -d, d)) # moment of inertia evenly distributed\n",
    "\n",
    "f = sp.Symbol('f')\n",
    "\n",
    "t = sp.Symbol('t')\n",
    "x, y, theta = me.dynamicsymbols('x y theta')\n",
    "xv, yv, thetav = me.dynamicsymbols('xv yv thetav')\n",
    "xd, yd, thetad = me.dynamicsymbols('x y theta', 1)\n",
    "\n",
    "BaseFrame = me.ReferenceFrame('BaseFrame')\n",
    "RodFrame = BaseFrame.orientnew('RodFrame', 'Axis', [theta, BaseFrame.z])\n",
    "RodFrame.set_ang_vel(BaseFrame, thetav*BaseFrame.z)\n",
    "origin  = me.Point('origin')\n",
    "rodcentre  = origin.locatenew('rodcentre', x*BaseFrame.x + y*BaseFrame.y)\n",
    "rodcentre.set_vel(BaseFrame, xv*BaseFrame.x + yv*BaseFrame.y)\n",
    "#rodcentre.set_vel(RodFrame, 0)\n",
    "\n",
    "Izz = me.outer(RodFrame.z, RodFrame.z)*I\n",
    "rodbody = me.RigidBody(name=\"rod\", masscenter=rodcentre, \n",
    "                       frame=RodFrame, mass=m, inertia=(Izz, rodcentre))\n",
    "\n",
    "rodtip = rodcentre.locatenew('rodtip', d*RodFrame.x)\n",
    "rodtip.set_vel(BaseFrame, rodtip.pos_from(origin).diff(t, BaseFrame))\n",
    "\n"
   ]
  },
  {
   "cell_type": "code",
   "execution_count": 13,
   "metadata": {},
   "outputs": [
    {
     "data": {
      "text/latex": [
       "$\\displaystyle \\left[\\begin{matrix}- f \\sin{\\left(\\theta{\\left(t \\right)} \\right)}\\\\f \\cos{\\left(\\theta{\\left(t \\right)} \\right)}\\\\f \\left(d \\sin^{2}{\\left(\\theta{\\left(t \\right)} \\right)} + d \\cos^{2}{\\left(\\theta{\\left(t \\right)} \\right)}\\right)\\end{matrix}\\right]$"
      ],
      "text/plain": [
       "Matrix([\n",
       "[                           -f*sin(theta(t))],\n",
       "[                            f*cos(theta(t))],\n",
       "[f*(d*sin(theta(t))**2 + d*cos(theta(t))**2)]])"
      ]
     },
     "metadata": {},
     "output_type": "display_data"
    },
    {
     "data": {
      "text/latex": [
       "$\\displaystyle \\left[\\begin{matrix}- m \\frac{d}{d t} \\operatorname{xv}{\\left(t \\right)}\\\\- m \\frac{d}{d t} \\operatorname{yv}{\\left(t \\right)}\\\\- \\frac{d^{2} m \\frac{d}{d t} \\operatorname{thetav}{\\left(t \\right)}}{3}\\end{matrix}\\right]$"
      ],
      "text/plain": [
       "Matrix([\n",
       "[           -m*Derivative(xv(t), t)],\n",
       "[           -m*Derivative(yv(t), t)],\n",
       "[-d**2*m*Derivative(thetav(t), t)/3]])"
      ]
     },
     "metadata": {},
     "output_type": "display_data"
    }
   ],
   "source": [
    "forces = [ (rodtip, f*RodFrame.y) ]\n",
    "#forces = [ (rodtip, f*BaseFrame.y) ]\n",
    "bodies = [ rodbody ]\n",
    "\n",
    "kinematic_equations = [xv-xd, yv-yd, thetav-thetad]\n",
    "\n",
    "KM = me.KanesMethod(BaseFrame, \n",
    "                     q_ind=[x, y, theta], \n",
    "                     u_ind=[xv, yv, thetav],\n",
    "                     kd_eqs=kinematic_equations)\n",
    "fr, frstar = KM.kanes_equations(bodies, forces)\n",
    "display(fr)\n",
    "display(frstar)"
   ]
  },
  {
   "cell_type": "code",
   "execution_count": 14,
   "metadata": {},
   "outputs": [],
   "source": [
    "from pydy.system import System\n",
    "import numpy as np\n",
    "\n",
    "initial_conditions = {x:0, y:0, theta:0.0, \n",
    "                      xv:0, yv:0, thetav:0.}\n",
    "dval = 4.0\n",
    "sys = System(KM,\n",
    "             constants={m: 1.0, f:0.3, d:dval },\n",
    "             initial_conditions=initial_conditions,\n",
    "             times=np.linspace(0.0, 6, 350))\n",
    "y1 = sys.integrate()\n"
   ]
  },
  {
   "cell_type": "code",
   "execution_count": 30,
   "metadata": {},
   "outputs": [
    {
     "data": {
      "image/png": "[encoded data removed]",
      "text/latex": [
       "$\\displaystyle \\left( 350, \\  6\\right)$"
      ],
      "text/plain": [
       "(350, 6)"
      ]
     },
     "execution_count": 30,
     "metadata": {},
     "output_type": "execute_result"
    }
   ],
   "source": [
    "y1.shape"
   ]
  },
  {
   "cell_type": "code",
   "execution_count": 8,
   "metadata": {},
   "outputs": [
    {
     "data": {
      "text/plain": [
       "[<matplotlib.lines.Line2D at 0x7f420d731290>]"
      ]
     },
     "execution_count": 8,
     "metadata": {},
     "output_type": "execute_result"
    },
    {
     "data": {
      "image/png": "[encoded data removed]",
      "text/plain": [
       "<Figure size 432x288 with 1 Axes>"
      ]
     },
     "metadata": {
      "needs_background": "light"
     },
     "output_type": "display_data"
    }
   ],
   "source": [
    "%matplotlib inline\n",
    "import matplotlib.pyplot as plt\n",
    "\n",
    "ax, ay, atheta = y1[:,0], y1[:,1], y1[:,2]\n",
    "plt.plot(ax+dval*np.cos(atheta), ay+dval*np.sin(atheta))\n",
    "plt.plot(ax-dval*np.cos(atheta), ay-dval*np.sin(atheta))\n",
    "\n",
    "plt.plot([-dval,dval],[0,0])\n",
    "i = 50\n",
    "plt.plot([ax[i]-dval*np.cos(atheta[i]), ax[i]+dval*np.cos(atheta[i])], \n",
    "         [ay[i]-dval*np.sin(atheta[i]), ay[i]+dval*np.sin(atheta[i])])"
   ]
  },
  {
   "cell_type": "code",
   "execution_count": 52,
   "metadata": {},
   "outputs": [
    {
     "data": {
      "text/plain": [
       "<matplotlib.collections.PathCollection at 0x7f730e3b7090>"
      ]
     },
     "execution_count": 52,
     "metadata": {},
     "output_type": "execute_result"
    },
    {
     "data": {
      "image/png": "[encoded data removed]",
      "text/plain": [
       "<Figure size 432x288 with 1 Axes>"
      ]
     },
     "metadata": {
      "needs_background": "light"
     },
     "output_type": "display_data"
    }
   ],
   "source": [
    "plt.plot([-dval,dval],[0,0])\n",
    "i = 5\n",
    "plt.plot([ax[i]-dval*np.cos(atheta[i]), ax[i]+dval*np.cos(atheta[i])], \n",
    "         [ay[i]-dval*np.sin(atheta[i]), ay[i]+dval*np.sin(atheta[i])])\n",
    "plt.scatter([-dval/3], [0])"
   ]
  },
  {
   "cell_type": "code",
   "execution_count": 2,
   "metadata": {},
   "outputs": [],
   "source": [
    "# https://github.com/sympy/sympy/issues/17761\n",
    "t = sp.Symbol('t')\n",
    "\n",
    "# In that issue is the work-around then to use:\n",
    "#t = sp.Symbol('t')\n",
    "#Q.pos_from(P).diff(t, A)  # ~= Q.vel(A)"
   ]
  },
  {
   "cell_type": "code",
   "execution_count": null,
   "metadata": {},
   "outputs": [],
   "source": []
  },
  {
   "cell_type": "code",
   "execution_count": null,
   "metadata": {},
   "outputs": [],
   "source": []
  },
  {
   "cell_type": "code",
   "execution_count": null,
   "metadata": {},
   "outputs": [],
   "source": []
  },
  {
   "cell_type": "code",
   "execution_count": null,
   "metadata": {},
   "outputs": [],
   "source": [
    "# Is the work-around then to use:\n",
    "t = sp.Symbol('t')\n",
    "Q.pos_from(P).diff(t, A)  # ~= Q.vel(A)\n"
   ]
  },
  {
   "cell_type": "code",
   "execution_count": null,
   "metadata": {},
   "outputs": [],
   "source": []
  },
  {
   "cell_type": "code",
   "execution_count": null,
   "metadata": {},
   "outputs": [],
   "source": []
  },
  {
   "cell_type": "code",
   "execution_count": null,
   "metadata": {},
   "outputs": [],
   "source": []
  },
  {
   "cell_type": "code",
   "execution_count": null,
   "metadata": {},
   "outputs": [],
   "source": []
  },
  {
   "cell_type": "code",
   "execution_count": null,
   "metadata": {},
   "outputs": [],
   "source": []
  },
  {
   "cell_type": "code",
   "execution_count": null,
   "metadata": {},
   "outputs": [],
   "source": []
  },
  {
   "cell_type": "code",
   "execution_count": null,
   "metadata": {},
   "outputs": [],
   "source": [
    "# Then handle the slipping rod from here:\n",
    "# https://physics.stackexchange.com/questions/80603/can-i-make-a-rod-in-the-vertical-plane-move-with-its-one-end-on-the-ground-in-a/90894#90894\n"
   ]
  }
 ],
 "metadata": {
  "kernelspec": {
   "display_name": "Python 3",
   "language": "python",
   "name": "python3"
  },
  "language_info": {
   "codemirror_mode": {
    "name": "ipython",
    "version": 3
   },
   "file_extension": ".py",
   "mimetype": "text/x-python",
   "name": "python",
   "nbconvert_exporter": "python",
   "pygments_lexer": "ipython3",
   "version": "3.7.4"
  }
 },
 "nbformat": 4,
 "nbformat_minor": 2
}
