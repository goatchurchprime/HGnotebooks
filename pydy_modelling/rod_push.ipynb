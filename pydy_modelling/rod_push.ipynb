{
 "cells": [
  {
   "cell_type": "code",
   "execution_count": 172,
   "metadata": {},
   "outputs": [],
   "source": [
    "# Rod length 2d with mass m and moment of intertia I\n",
    "# gets pushed by perpendicular force f at one end.  \n",
    "# What's the acceleration of the CofG and the angular acceleration?\n",
    "# x is along rod, y is perpendicular to rod in direction of f\n",
    "\n",
    "import sympy as sp\n",
    "import sympy.physics.mechanics as me\n",
    "\n",
    "m = sp.symbols(\"m\") # mass of rod\n",
    "d = sp.Symbol(\"d\")  # half length of rod\n",
    "x = sp.Symbol(\"x\")  # position along rod\n",
    "ld = m/(2*d)        # length desnsity\n",
    "I = sp.integrate(ld*x*x, (x, -d, d))    # moment of inertia evenly distributed\n",
    "f = sp.Symbol('f')  # instantaneous force\n"
   ]
  },
  {
   "cell_type": "code",
   "execution_count": 173,
   "metadata": {},
   "outputs": [
    {
     "data": {
      "text/plain": [
       "{a: f/m, alpha: 3*f/(d*m)}"
      ]
     },
     "execution_count": 173,
     "metadata": {},
     "output_type": "execute_result"
    }
   ],
   "source": [
    "alpha = sp.Symbol(\"alpha\")  # rotational acceleration\n",
    "a = sp.Symbol(\"a\")          # linear acceleration\n",
    "eq1 = sp.Eq(alpha*I, f*d)   # rotational torque\n",
    "eq2 = sp.Eq(m*a, f)         # linear acceleration\n",
    "sol = sp.solve([eq1, eq2], [a, alpha])\n",
    "sol"
   ]
  },
  {
   "cell_type": "code",
   "execution_count": 174,
   "metadata": {},
   "outputs": [
    {
     "name": "stdout",
     "output_type": "stream",
     "text": [
      "vy:\n"
     ]
    },
    {
     "data": {
      "text/latex": [
       "$\\displaystyle \\frac{\\delta t f \\left(d + 3 x\\right)}{d m}$"
      ],
      "text/plain": [
       "\\delta t*f*(d + 3*x)/(d*m)"
      ]
     },
     "metadata": {},
     "output_type": "display_data"
    },
    {
     "name": "stdout",
     "output_type": "stream",
     "text": [
      "kineticenergy:\n"
     ]
    },
    {
     "data": {
      "text/latex": [
       "$\\displaystyle \\frac{2 \\delta t^{2} f^{2}}{m}$"
      ],
      "text/plain": [
       "2*\\delta t**2*f**2/m"
      ]
     },
     "metadata": {},
     "output_type": "display_data"
    },
    {
     "name": "stdout",
     "output_type": "stream",
     "text": [
      "workdone?:\n"
     ]
    },
    {
     "data": {
      "text/latex": [
       "$\\displaystyle \\frac{4 \\delta t f^{2}}{m}$"
      ],
      "text/plain": [
       "4*\\delta t*f**2/m"
      ]
     },
     "metadata": {},
     "output_type": "display_data"
    }
   ],
   "source": [
    "deltat = sp.Symbol(\"\\delta t\")\n",
    "vy = (a*deltat + x*alpha*deltat) # velocity forward at position x after infinitesimal time\n",
    "vy = vy.subs(sol).simplify()\n",
    "print(\"vy:\")\n",
    "display(vy)\n",
    "kineticenergy = sp.integrate(ld/2*vy*vy, (x, -d, d))\n",
    "workdone = f*vy.subs(x, d)  # force times distance\n",
    "\n",
    "print(\"kineticenergy:\")\n",
    "display(kineticenergy)\n",
    "print(\"workdone?:\")\n",
    "display(workdone)"
   ]
  },
  {
   "cell_type": "code",
   "execution_count": null,
   "metadata": {},
   "outputs": [],
   "source": [
    "# ^^^ why isn't work done same as kineticenergy"
   ]
  },
  {
   "cell_type": "code",
   "execution_count": 86,
   "metadata": {},
   "outputs": [
    {
     "name": "stdout",
     "output_type": "stream",
     "text": [
      "kinetic energy\n"
     ]
    },
    {
     "data": {
      "text/latex": [
       "$\\displaystyle \\frac{2 \\delta t^{2} f^{2}}{m}$"
      ],
      "text/plain": [
       "2*\\delta t**2*f**2/m"
      ]
     },
     "execution_count": 86,
     "metadata": {},
     "output_type": "execute_result"
    }
   ],
   "source": [
    "# according to section 3 in https://arxiv.org/abs/1708.05062\n",
    "print(\"kinetic energy\")\n",
    "linearenergy = (alpha*deltat)**2*I/2\n",
    "angularenergy = m*(a*deltat)**2/2\n",
    "KE = (linearenergy + angularenergy).subs(sol).simplify()\n",
    "KE"
   ]
  },
  {
   "cell_type": "code",
   "execution_count": null,
   "metadata": {},
   "outputs": [],
   "source": []
  },
  {
   "cell_type": "code",
   "execution_count": null,
   "metadata": {},
   "outputs": [],
   "source": []
  },
  {
   "cell_type": "code",
   "execution_count": null,
   "metadata": {},
   "outputs": [],
   "source": []
  },
  {
   "cell_type": "code",
   "execution_count": 164,
   "metadata": {},
   "outputs": [],
   "source": [
    "# Next up: express the above in terms of rigid bodies: \n",
    "# https://docs.sympy.org/latest/modules/physics/mechanics/masses.html#rigid-body\n",
    "import sympy as sp\n",
    "import sympy.physics.mechanics as me\n",
    "\n",
    "m = sp.Symbol(\"m\")\n",
    "d = sp.Symbol('d')\n",
    "\n",
    "lx = sp.Symbol('lx')\n",
    "z = sp.Symbol('z')\n",
    "ld = m/(2*d)                         # length density\n",
    "I = sp.integrate(ld*lx*lx, (lx, -d, d)) # moment of inertia evenly distributed\n",
    "\n",
    "f = sp.Symbol('f')\n",
    "\n",
    "t = sp.Symbol('t')\n",
    "x, y, theta = me.dynamicsymbols('x y theta')\n",
    "vx, vy, vtheta = me.dynamicsymbols('vx vy vtheta')\n",
    "\n",
    "BaseFrame = me.ReferenceFrame('BaseFrame')\n",
    "RodFrame = BaseFrame.orientnew('RodFrame', 'Axis', [theta, BaseFrame.z])\n",
    "RodFrame.set_ang_vel(BaseFrame, vtheta*BaseFrame.z)\n",
    "origin  = me.Point('origin')\n",
    "rodcentre  = origin.locatenew('rodcentre', x*BaseFrame.x + y*BaseFrame.y)\n",
    "rodcentre.set_vel(BaseFrame, vx*BaseFrame.x + vy*BaseFrame.y)\n",
    "rodcentre.set_vel(RodFrame, 0)\n",
    "\n",
    "Izz = me.outer(RodFrame.z, RodFrame.z)*I\n",
    "rodbody = me.RigidBody(name=\"rod\", masscenter=rodcentre, \n",
    "                       frame=RodFrame, mass=m, inertia=(Izz, rodcentre))\n",
    "\n",
    "rodtip = rodcentre.locatenew('rodtip', d*RodFrame.x)\n",
    "#rodtip.set_vel(RodFrame, 0)\n",
    "\n"
   ]
  },
  {
   "cell_type": "code",
   "execution_count": 168,
   "metadata": {},
   "outputs": [],
   "source": [
    "# https://github.com/sympy/sympy/issues/17761\n",
    "t = sp.Symbol('t')\n",
    "rodtip.set_vel(BaseFrame, rodtip.pos_from(origin).diff(t, BaseFrame))\n",
    "\n",
    "# In that issue is the work-around then to use:\n",
    "#t = sp.Symbol('t')\n",
    "#Q.pos_from(P).diff(t, A)  # ~= Q.vel(A)"
   ]
  },
  {
   "cell_type": "code",
   "execution_count": 169,
   "metadata": {},
   "outputs": [
    {
     "data": {
      "text/latex": [
       "$\\displaystyle \\left[\\begin{matrix}- f \\sin{\\left(\\theta{\\left(t \\right)} \\right)}\\\\f \\cos{\\left(\\theta{\\left(t \\right)} \\right)}\\\\f \\left(d \\sin^{2}{\\left(\\theta{\\left(t \\right)} \\right)} + d \\cos^{2}{\\left(\\theta{\\left(t \\right)} \\right)}\\right)\\end{matrix}\\right]$"
      ],
      "text/plain": [
       "Matrix([\n",
       "[                           -f*sin(theta(t))],\n",
       "[                            f*cos(theta(t))],\n",
       "[f*(d*sin(theta(t))**2 + d*cos(theta(t))**2)]])"
      ]
     },
     "metadata": {},
     "output_type": "display_data"
    },
    {
     "data": {
      "text/latex": [
       "$\\displaystyle \\left[\\begin{matrix}- m \\frac{d}{d t} \\operatorname{vx}{\\left(t \\right)}\\\\- m \\frac{d}{d t} \\operatorname{vy}{\\left(t \\right)}\\\\- \\frac{d^{2} m \\frac{d}{d t} \\operatorname{vtheta}{\\left(t \\right)}}{3}\\end{matrix}\\right]$"
      ],
      "text/plain": [
       "Matrix([\n",
       "[           -m*Derivative(vx(t), t)],\n",
       "[           -m*Derivative(vy(t), t)],\n",
       "[-d**2*m*Derivative(vtheta(t), t)/3]])"
      ]
     },
     "metadata": {},
     "output_type": "display_data"
    }
   ],
   "source": [
    "forces = [ (rodtip, f*RodFrame.y) ]\n",
    "bodies = [ rodbody ]\n",
    "\n",
    "xd, yd, thetad = me.dynamicsymbols('x y theta', 1)\n",
    "kinematic_equations = [vx-xd, vy-yd, vtheta-thetad]\n",
    "\n",
    "KM = me.KanesMethod(BaseFrame, \n",
    "                     q_ind=[x, y, theta], \n",
    "                     u_ind=[vx, vy, vtheta],\n",
    "                     kd_eqs=kinematic_equations)\n",
    "fr, frstar = KM.kanes_equations(bodies, forces)\n",
    "display(fr)\n",
    "display(frstar)"
   ]
  },
  {
   "cell_type": "code",
   "execution_count": 170,
   "metadata": {},
   "outputs": [],
   "source": [
    "from pydy.system import System\n",
    "import numpy as np\n",
    "\n",
    "initial_conditions = {x:0, y:0, theta:0, \n",
    "                      vx:0, vy:0, vtheta:0.}\n",
    "sys = System(kane,\n",
    "             constants={m: 1.0, f:3.0 },\n",
    "             initial_conditions=initial_conditions,\n",
    "             times=np.linspace(0.0, 3.0, 50))\n",
    "y1 = sys.integrate()\n"
   ]
  },
  {
   "cell_type": "code",
   "execution_count": 171,
   "metadata": {},
   "outputs": [
    {
     "data": {
      "text/plain": [
       "array([0., 0., 0., 0., 0., 0., 0., 0., 0., 0., 0., 0., 0., 0., 0., 0., 0.,\n",
       "       0., 0., 0., 0., 0., 0., 0., 0., 0., 0., 0., 0., 0., 0., 0., 0., 0.,\n",
       "       0., 0., 0., 0., 0., 0., 0., 0., 0., 0., 0., 0., 0., 0., 0., 0.])"
      ]
     },
     "execution_count": 171,
     "metadata": {},
     "output_type": "execute_result"
    }
   ],
   "source": [
    "# no rotation is happening\n",
    "y1[:,2]"
   ]
  },
  {
   "cell_type": "code",
   "execution_count": 161,
   "metadata": {},
   "outputs": [
    {
     "data": {
      "text/plain": [
       "[<matplotlib.lines.Line2D at 0x7f4b66230bd0>]"
      ]
     },
     "execution_count": 161,
     "metadata": {},
     "output_type": "execute_result"
    },
    {
     "data": {
      "image/png": "[encoded data removed]",
      "text/plain": [
       "<Figure size 432x288 with 1 Axes>"
      ]
     },
     "metadata": {
      "needs_background": "light"
     },
     "output_type": "display_data"
    }
   ],
   "source": [
    "plt.plot(y1[:,2])"
   ]
  },
  {
   "cell_type": "code",
   "execution_count": 148,
   "metadata": {},
   "outputs": [
    {
     "data": {
      "image/png": "[encoded data removed]",
      "text/plain": [
       "<Figure size 432x288 with 1 Axes>"
      ]
     },
     "metadata": {
      "needs_background": "light"
     },
     "output_type": "display_data"
    }
   ],
   "source": [
    "%matplotlib inline\n",
    "import matplotlib.pyplot as plt\n",
    "plt.plot(y1[:,0], y1[:,1])\n",
    "plt.show()\n"
   ]
  },
  {
   "cell_type": "code",
   "execution_count": null,
   "metadata": {},
   "outputs": [],
   "source": []
  },
  {
   "cell_type": "code",
   "execution_count": null,
   "metadata": {},
   "outputs": [],
   "source": []
  },
  {
   "cell_type": "code",
   "execution_count": null,
   "metadata": {},
   "outputs": [],
   "source": []
  },
  {
   "cell_type": "code",
   "execution_count": 91,
   "metadata": {},
   "outputs": [
    {
     "data": {
      "text/latex": [
       "$\\displaystyle -  \\operatorname{sin}\\left(q\\right) \\dot{q}\\mathbf{\\hat{a}_x} + (\\operatorname{cos}\\left(q\\right) \\dot{q} + \\dot{d})\\mathbf{\\hat{a}_y}$"
      ],
      "text/plain": [
       "- sin(q)*q'*A.x + (cos(q)*q' + d')*A.y"
      ]
     },
     "execution_count": 91,
     "metadata": {},
     "output_type": "execute_result"
    }
   ],
   "source": [
    "q = me.dynamicsymbols('q')\n",
    "d = me.dynamicsymbols('d')\n",
    "A = me.ReferenceFrame('A')\n",
    "B = A.orientnew('B', 'Axis', (q, A.z))                                                           \n",
    "\n",
    "P = me.Point('P')                                                                                \n",
    "Q = P.locatenew('Q', A.y*d)\n",
    "R = Q.locatenew('R', B.x)\n",
    "\n",
    "(R.pos_from(P).dot(A.x)*A.x + R.pos_from(P).dot(A.y)*A.y).diff(t, A)\n",
    "#R.vel(A)\n"
   ]
  },
  {
   "cell_type": "code",
   "execution_count": 94,
   "metadata": {},
   "outputs": [
    {
     "data": {
      "text/latex": [
       "$\\displaystyle \\cos{\\left(q{\\left(t \\right)} \\right)} \\frac{d}{d t} q{\\left(t \\right)} + \\frac{d}{d t} d{\\left(t \\right)}$"
      ],
      "text/plain": [
       "cos(q(t))*Derivative(q(t), t) + Derivative(d(t), t)"
      ]
     },
     "execution_count": 94,
     "metadata": {},
     "output_type": "execute_result"
    }
   ],
   "source": [
    "(R.pos_from(P)).diff(t, A).simplify().dot(A.y)\n"
   ]
  },
  {
   "cell_type": "code",
   "execution_count": 89,
   "metadata": {},
   "outputs": [
    {
     "data": {
      "text/latex": [
       "$\\displaystyle \\mathbf{\\hat{b}_x} + \\mathbf{\\hat{a}_y}$"
      ],
      "text/plain": [
       "A.y + B.x"
      ]
     },
     "execution_count": 89,
     "metadata": {},
     "output_type": "execute_result"
    }
   ],
   "source": [
    "R.pos_from(P)"
   ]
  },
  {
   "cell_type": "code",
   "execution_count": 83,
   "metadata": {},
   "outputs": [
    {
     "data": {
      "text/latex": [
       "$\\displaystyle \\dot{q}\\mathbf{\\hat{a}_x} + 2 \\dot{q}\\mathbf{\\hat{a}_y}$"
      ],
      "text/plain": [
       "q'*A.x + 2*q'*A.y"
      ]
     },
     "metadata": {},
     "output_type": "display_data"
    },
    {
     "ename": "ValueError",
     "evalue": "Velocity of point Q has not been defined in ReferenceFrame A",
     "output_type": "error",
     "traceback": [
      "\u001b[0;31m---------------------------------------------------------------------------\u001b[0m",
      "\u001b[0;31mValueError\u001b[0m                                Traceback (most recent call last)",
      "\u001b[0;32m<ipython-input-83-28d1e0750742>\u001b[0m in \u001b[0;36m<module>\u001b[0;34m\u001b[0m\n\u001b[1;32m      7\u001b[0m \u001b[0mt\u001b[0m \u001b[0;34m=\u001b[0m \u001b[0msp\u001b[0m\u001b[0;34m.\u001b[0m\u001b[0mSymbol\u001b[0m\u001b[0;34m(\u001b[0m\u001b[0;34m't'\u001b[0m\u001b[0;34m)\u001b[0m\u001b[0;34m\u001b[0m\u001b[0;34m\u001b[0m\u001b[0m\n\u001b[1;32m      8\u001b[0m \u001b[0mdisplay\u001b[0m\u001b[0;34m(\u001b[0m\u001b[0mQ\u001b[0m\u001b[0;34m.\u001b[0m\u001b[0mpos_from\u001b[0m\u001b[0;34m(\u001b[0m\u001b[0mP\u001b[0m\u001b[0;34m)\u001b[0m\u001b[0;34m.\u001b[0m\u001b[0mdiff\u001b[0m\u001b[0;34m(\u001b[0m\u001b[0mt\u001b[0m\u001b[0;34m,\u001b[0m \u001b[0mA\u001b[0m\u001b[0;34m)\u001b[0m\u001b[0;34m)\u001b[0m\u001b[0;34m\u001b[0m\u001b[0;34m\u001b[0m\u001b[0m\n\u001b[0;32m----> 9\u001b[0;31m \u001b[0mQ\u001b[0m\u001b[0;34m.\u001b[0m\u001b[0mvel\u001b[0m\u001b[0;34m(\u001b[0m\u001b[0mA\u001b[0m\u001b[0;34m)\u001b[0m\u001b[0;34m\u001b[0m\u001b[0;34m\u001b[0m\u001b[0m\n\u001b[0m",
      "\u001b[0;32m~/anaconda3/lib/python3.7/site-packages/sympy/physics/vector/point.py\u001b[0m in \u001b[0;36mvel\u001b[0;34m(self, frame)\u001b[0m\n\u001b[1;32m    453\u001b[0m         \u001b[0;32mif\u001b[0m \u001b[0;32mnot\u001b[0m \u001b[0;34m(\u001b[0m\u001b[0mframe\u001b[0m \u001b[0;32min\u001b[0m \u001b[0mself\u001b[0m\u001b[0;34m.\u001b[0m\u001b[0m_vel_dict\u001b[0m\u001b[0;34m)\u001b[0m\u001b[0;34m:\u001b[0m\u001b[0;34m\u001b[0m\u001b[0;34m\u001b[0m\u001b[0m\n\u001b[1;32m    454\u001b[0m             raise ValueError('Velocity of point ' + self.name + ' has not been'\n\u001b[0;32m--> 455\u001b[0;31m                              ' defined in ReferenceFrame ' + frame.name)\n\u001b[0m\u001b[1;32m    456\u001b[0m         \u001b[0;32mreturn\u001b[0m \u001b[0mself\u001b[0m\u001b[0;34m.\u001b[0m\u001b[0m_vel_dict\u001b[0m\u001b[0;34m[\u001b[0m\u001b[0mframe\u001b[0m\u001b[0;34m]\u001b[0m\u001b[0;34m\u001b[0m\u001b[0;34m\u001b[0m\u001b[0m\n\u001b[1;32m    457\u001b[0m \u001b[0;34m\u001b[0m\u001b[0m\n",
      "\u001b[0;31mValueError\u001b[0m: Velocity of point Q has not been defined in ReferenceFrame A"
     ]
    }
   ],
   "source": [
    "t = sp.Symbol('t')\n",
    "P = me.Point('P')                                                                                \n",
    "Q = me.Point('Q')                                                                               \n",
    "r = q*A.x + 2*q*A.y                                                                             \n",
    "Q.set_pos(P, q*A.x + 2*q*A.y)    \n",
    "\n",
    "t = sp.Symbol('t')\n",
    "display(Q.pos_from(P).diff(t, A))\n",
    "#Q.vel(A)\n"
   ]
  },
  {
   "cell_type": "code",
   "execution_count": null,
   "metadata": {},
   "outputs": [],
   "source": [
    "# Is the work-around then to use:\n",
    "t = sp.Symbol('t')\n",
    "Q.pos_from(P).diff(t, A)  # ~= Q.vel(A)\n"
   ]
  },
  {
   "cell_type": "code",
   "execution_count": null,
   "metadata": {},
   "outputs": [],
   "source": []
  },
  {
   "cell_type": "code",
   "execution_count": null,
   "metadata": {},
   "outputs": [],
   "source": []
  },
  {
   "cell_type": "code",
   "execution_count": null,
   "metadata": {},
   "outputs": [],
   "source": []
  },
  {
   "cell_type": "code",
   "execution_count": null,
   "metadata": {},
   "outputs": [],
   "source": []
  },
  {
   "cell_type": "code",
   "execution_count": 128,
   "metadata": {},
   "outputs": [
    {
     "name": "stdout",
     "output_type": "stream",
     "text": [
      "linear momentum:\n"
     ]
    },
    {
     "data": {
      "text/latex": [
       "$\\displaystyle 10 m\\mathbf{\\hat{n}_y}$"
      ],
      "text/plain": [
       "10*m*N.y"
      ]
     },
     "metadata": {},
     "output_type": "display_data"
    },
    {
     "name": "stdout",
     "output_type": "stream",
     "text": [
      "angular momentum:\n"
     ]
    },
    {
     "data": {
      "text/latex": [
       "$\\displaystyle 30 m\\mathbf{\\hat{n}_z}$"
      ],
      "text/plain": [
       "30*m*N.z"
      ]
     },
     "metadata": {},
     "output_type": "display_data"
    },
    {
     "name": "stdout",
     "output_type": "stream",
     "text": [
      "kinetic energy:\n"
     ]
    },
    {
     "data": {
      "text/latex": [
       "$\\displaystyle 50 m$"
      ],
      "text/plain": [
       "50*m"
      ]
     },
     "metadata": {},
     "output_type": "display_data"
    }
   ],
   "source": [
    "import sympy as sp\n",
    "import sympy.physics.mechanics as me\n",
    "\n",
    "\n",
    "m = sp.Symbol('m')\n",
    "O = me.Point('O')\n",
    "N = me.ReferenceFrame('N')\n",
    "P = O.locatenew(\"P\", 3*N.x)\n",
    "P.set_vel(N, 10*N.y)\n",
    "Pa = me.Particle('Pa', P, m)\n",
    "\n",
    "print(\"linear momentum:\")\n",
    "display(Pa.linear_momentum(N))\n",
    "print(\"angular momentum:\")\n",
    "display(Pa.angular_momentum(O, N))\n",
    "print(\"kinetic energy:\")\n",
    "display(Pa.kinetic_energy(N))\n",
    "\n"
   ]
  },
  {
   "cell_type": "code",
   "execution_count": 144,
   "metadata": {},
   "outputs": [
    {
     "data": {
      "text/latex": [
       "$\\displaystyle \\frac{d}{d t} q{\\left(t \\right)}$"
      ],
      "text/plain": [
       "Derivative(q(t), t)"
      ]
     },
     "execution_count": 144,
     "metadata": {},
     "output_type": "execute_result"
    }
   ],
   "source": [
    "q = me.dynamicsymbols('q', 1)\n",
    "q"
   ]
  },
  {
   "cell_type": "code",
   "execution_count": 158,
   "metadata": {},
   "outputs": [
    {
     "data": {
      "text/latex": [
       "$\\displaystyle 2 l_{1}\\mathbf{\\hat{n}_x}$"
      ],
      "text/plain": [
       "2*l1*N.x"
      ]
     },
     "execution_count": 158,
     "metadata": {},
     "output_type": "execute_result"
    }
   ],
   "source": [
    "m, M, l1 = sp.symbols('m M l1')\n",
    "q = me.dynamicsymbols('q')\n",
    "N = me.ReferenceFrame('N')\n",
    "O = me.Point('O')\n",
    "O.set_vel(N, 0)\n",
    "Ac = O.locatenew('Ac', l1 * N.x)\n",
    "P = Ac.locatenew('P', l1 * N.x)\n",
    "P.pos_from(O)"
   ]
  },
  {
   "cell_type": "code",
   "execution_count": 169,
   "metadata": {},
   "outputs": [],
   "source": [
    "m, M, l1 = sp.symbols('m M l1')\n",
    "q = me.dynamicsymbols('q')\n",
    "N = me.ReferenceFrame('N')\n",
    "O = me.Point('O')\n",
    "O.set_vel(N, N.z)\n",
    "Ac = O.locatenew('Ac', l1 * N.x)\n",
    "P = Ac.locatenew('P', l1 * N.x)\n",
    "a = me.ReferenceFrame('a')\n",
    "a.set_ang_vel(N, q * N.z)\n",
    "\n",
    "# inherit velocities from the rotation of frame a and velocity of O\n",
    "Ac.v2pt_theory(O, N, a)\n",
    "P.v2pt_theory(O, N, a)\n",
    "\n",
    "Pa = me.Particle('Pa', P, m)\n",
    "I = me.outer(N.z, N.z)\n",
    "A = me.RigidBody('A', Ac, a, M, (I, Ac))\n"
   ]
  },
  {
   "cell_type": "code",
   "execution_count": 170,
   "metadata": {},
   "outputs": [
    {
     "data": {
      "text/latex": [
       "$\\displaystyle \\mathbf{\\hat{n}_z}\\otimes \\mathbf{\\hat{n}_z}$"
      ],
      "text/plain": [
       "(N.z|N.z)"
      ]
     },
     "execution_count": 170,
     "metadata": {},
     "output_type": "execute_result"
    }
   ],
   "source": [
    "I"
   ]
  },
  {
   "cell_type": "code",
   "execution_count": 164,
   "metadata": {},
   "outputs": [
    {
     "name": "stdout",
     "output_type": "stream",
     "text": [
      "Help on method v2pt_theory in module sympy.physics.vector.point:\n",
      "\n",
      "v2pt_theory(otherpoint, outframe, fixedframe) method of sympy.physics.vector.point.Point instance\n",
      "    Sets the velocity of this point with the 2-point theory.\n",
      "    \n",
      "    The 2-point theory for point velocity looks like this:\n",
      "    \n",
      "    ^N v^P = ^N v^O + ^N omega^B x r^OP\n",
      "    \n",
      "    where O and P are both points fixed in frame B, which is rotating in\n",
      "    frame N.\n",
      "    \n",
      "    Parameters\n",
      "    ==========\n",
      "    \n",
      "    otherpoint : Point\n",
      "        The first point of the 2-point theory (O)\n",
      "    outframe : ReferenceFrame\n",
      "        The frame we want this point's velocity defined in (N)\n",
      "    fixedframe : ReferenceFrame\n",
      "        The frame in which both points are fixed (B)\n",
      "    \n",
      "    Examples\n",
      "    ========\n",
      "    \n",
      "    >>> from sympy.physics.vector import Point, ReferenceFrame, dynamicsymbols\n",
      "    >>> q = dynamicsymbols('q')\n",
      "    >>> qd = dynamicsymbols('q', 1)\n",
      "    >>> N = ReferenceFrame('N')\n",
      "    >>> B = N.orientnew('B', 'Axis', [q, N.z])\n",
      "    >>> O = Point('O')\n",
      "    >>> P = O.locatenew('P', 10 * B.x)\n",
      "    >>> O.set_vel(N, 5 * N.x)\n",
      "    >>> P.v2pt_theory(O, N, B)\n",
      "    5*N.x + 10*q'*B.y\n",
      "\n"
     ]
    }
   ],
   "source": [
    "help(P.v2pt_theory)"
   ]
  },
  {
   "cell_type": "code",
   "execution_count": 114,
   "metadata": {},
   "outputs": [
    {
     "name": "stdout",
     "output_type": "stream",
     "text": [
      "Help on Particle in module sympy.physics.mechanics.particle object:\n",
      "\n",
      "class Particle(builtins.object)\n",
      " |  Particle(name, point, mass)\n",
      " |  \n",
      " |  A particle.\n",
      " |  \n",
      " |  Particles have a non-zero mass and lack spatial extension; they take up no\n",
      " |  space.\n",
      " |  \n",
      " |  Values need to be supplied on initialization, but can be changed later.\n",
      " |  \n",
      " |  Parameters\n",
      " |  ==========\n",
      " |  name : str\n",
      " |      Name of particle\n",
      " |  point : Point\n",
      " |      A physics/mechanics Point which represents the position, velocity, and\n",
      " |      acceleration of this Particle\n",
      " |  mass : sympifyable\n",
      " |      A SymPy expression representing the Particle's mass\n",
      " |  \n",
      " |  Examples\n",
      " |  ========\n",
      " |  \n",
      " |  >>> from sympy.physics.mechanics import Particle, Point\n",
      " |  >>> from sympy import Symbol\n",
      " |  >>> po = Point('po')\n",
      " |  >>> m = Symbol('m')\n",
      " |  >>> pa = Particle('pa', po, m)\n",
      " |  >>> # Or you could change these later\n",
      " |  >>> pa.mass = m\n",
      " |  >>> pa.point = po\n",
      " |  \n",
      " |  Methods defined here:\n",
      " |  \n",
      " |  __init__(self, name, point, mass)\n",
      " |      Initialize self.  See help(type(self)) for accurate signature.\n",
      " |  \n",
      " |  __repr__ = __str__(self)\n",
      " |  \n",
      " |  __str__(self)\n",
      " |      Return str(self).\n",
      " |  \n",
      " |  angular_momentum(self, point, frame)\n",
      " |      Angular momentum of the particle about the point.\n",
      " |      \n",
      " |      The angular momentum H, about some point O of a particle, P, is given\n",
      " |      by:\n",
      " |      \n",
      " |      H = r x m * v\n",
      " |      \n",
      " |      where r is the position vector from point O to the particle P, m is\n",
      " |      the mass of the particle, and v is the velocity of the particle in\n",
      " |      the inertial frame, N.\n",
      " |      \n",
      " |      Parameters\n",
      " |      ==========\n",
      " |      \n",
      " |      point : Point\n",
      " |          The point about which angular momentum of the particle is desired.\n",
      " |      \n",
      " |      frame : ReferenceFrame\n",
      " |          The frame in which angular momentum is desired.\n",
      " |      \n",
      " |      Examples\n",
      " |      ========\n",
      " |      \n",
      " |      >>> from sympy.physics.mechanics import Particle, Point, ReferenceFrame\n",
      " |      >>> from sympy.physics.mechanics import dynamicsymbols\n",
      " |      >>> m, v, r = dynamicsymbols('m v r')\n",
      " |      >>> N = ReferenceFrame('N')\n",
      " |      >>> O = Point('O')\n",
      " |      >>> A = O.locatenew('A', r * N.x)\n",
      " |      >>> P = Particle('P', A, m)\n",
      " |      >>> P.point.set_vel(N, v * N.y)\n",
      " |      >>> P.angular_momentum(O, N)\n",
      " |      m*r*v*N.z\n",
      " |  \n",
      " |  kinetic_energy(self, frame)\n",
      " |      Kinetic energy of the particle\n",
      " |      \n",
      " |      The kinetic energy, T, of a particle, P, is given by\n",
      " |      \n",
      " |      'T = 1/2 m v^2'\n",
      " |      \n",
      " |      where m is the mass of particle P, and v is the velocity of the\n",
      " |      particle in the supplied ReferenceFrame.\n",
      " |      \n",
      " |      Parameters\n",
      " |      ==========\n",
      " |      \n",
      " |      frame : ReferenceFrame\n",
      " |          The Particle's velocity is typically defined with respect to\n",
      " |          an inertial frame but any relevant frame in which the velocity is\n",
      " |          known can be supplied.\n",
      " |      \n",
      " |      Examples\n",
      " |      ========\n",
      " |      \n",
      " |      >>> from sympy.physics.mechanics import Particle, Point, ReferenceFrame\n",
      " |      >>> from sympy import symbols\n",
      " |      >>> m, v, r = symbols('m v r')\n",
      " |      >>> N = ReferenceFrame('N')\n",
      " |      >>> O = Point('O')\n",
      " |      >>> P = Particle('P', O, m)\n",
      " |      >>> P.point.set_vel(N, v * N.y)\n",
      " |      >>> P.kinetic_energy(N)\n",
      " |      m*v**2/2\n",
      " |  \n",
      " |  linear_momentum(self, frame)\n",
      " |      Linear momentum of the particle.\n",
      " |      \n",
      " |      The linear momentum L, of a particle P, with respect to frame N is\n",
      " |      given by\n",
      " |      \n",
      " |      L = m * v\n",
      " |      \n",
      " |      where m is the mass of the particle, and v is the velocity of the\n",
      " |      particle in the frame N.\n",
      " |      \n",
      " |      Parameters\n",
      " |      ==========\n",
      " |      \n",
      " |      frame : ReferenceFrame\n",
      " |          The frame in which linear momentum is desired.\n",
      " |      \n",
      " |      Examples\n",
      " |      ========\n",
      " |      \n",
      " |      >>> from sympy.physics.mechanics import Particle, Point, ReferenceFrame\n",
      " |      >>> from sympy.physics.mechanics import dynamicsymbols\n",
      " |      >>> m, v = dynamicsymbols('m v')\n",
      " |      >>> N = ReferenceFrame('N')\n",
      " |      >>> P = Point('P')\n",
      " |      >>> A = Particle('A', P, m)\n",
      " |      >>> P.set_vel(N, v * N.x)\n",
      " |      >>> A.linear_momentum(N)\n",
      " |      m*v*N.x\n",
      " |  \n",
      " |  ----------------------------------------------------------------------\n",
      " |  Data descriptors defined here:\n",
      " |  \n",
      " |  __dict__\n",
      " |      dictionary for instance variables (if defined)\n",
      " |  \n",
      " |  __weakref__\n",
      " |      list of weak references to the object (if defined)\n",
      " |  \n",
      " |  mass\n",
      " |      Mass of the particle.\n",
      " |  \n",
      " |  point\n",
      " |      Point of the particle.\n",
      " |  \n",
      " |  potential_energy\n",
      " |      The potential energy of the Particle.\n",
      " |      \n",
      " |      Examples\n",
      " |      ========\n",
      " |      \n",
      " |      >>> from sympy.physics.mechanics import Particle, Point\n",
      " |      >>> from sympy import symbols\n",
      " |      >>> m, g, h = symbols('m g h')\n",
      " |      >>> O = Point('O')\n",
      " |      >>> P = Particle('P', O, m)\n",
      " |      >>> P.potential_energy = m * g * h\n",
      " |      >>> P.potential_energy\n",
      " |      g*h*m\n",
      "\n"
     ]
    }
   ],
   "source": [
    "help(pa)"
   ]
  },
  {
   "cell_type": "code",
   "execution_count": 102,
   "metadata": {},
   "outputs": [
    {
     "ename": "ValueError",
     "evalue": "Velocity of point origin has not been defined in ReferenceFrame Base",
     "output_type": "error",
     "traceback": [
      "\u001b[0;31m---------------------------------------------------------------------------\u001b[0m",
      "\u001b[0;31mValueError\u001b[0m                                Traceback (most recent call last)",
      "\u001b[0;32m<ipython-input-102-8e554c761ca8>\u001b[0m in \u001b[0;36m<module>\u001b[0;34m\u001b[0m\n\u001b[1;32m      1\u001b[0m \u001b[0;31m#me.linear_momentum, me.angular_momentum\u001b[0m\u001b[0;34m\u001b[0m\u001b[0;34m\u001b[0m\u001b[0;34m\u001b[0m\u001b[0m\n\u001b[0;32m----> 2\u001b[0;31m \u001b[0mme\u001b[0m\u001b[0;34m.\u001b[0m\u001b[0mlinear_momentum\u001b[0m\u001b[0;34m(\u001b[0m\u001b[0mBaseFrame\u001b[0m\u001b[0;34m,\u001b[0m \u001b[0mrodbody\u001b[0m\u001b[0;34m)\u001b[0m\u001b[0;34m\u001b[0m\u001b[0;34m\u001b[0m\u001b[0m\n\u001b[0m",
      "\u001b[0;32m~/anaconda3/lib/python3.7/site-packages/sympy/physics/mechanics/functions.py\u001b[0m in \u001b[0;36mlinear_momentum\u001b[0;34m(frame, *body)\u001b[0m\n\u001b[1;32m    171\u001b[0m         \u001b[0;32mfor\u001b[0m \u001b[0me\u001b[0m \u001b[0;32min\u001b[0m \u001b[0mbody\u001b[0m\u001b[0;34m:\u001b[0m\u001b[0;34m\u001b[0m\u001b[0;34m\u001b[0m\u001b[0m\n\u001b[1;32m    172\u001b[0m             \u001b[0;32mif\u001b[0m \u001b[0misinstance\u001b[0m\u001b[0;34m(\u001b[0m\u001b[0me\u001b[0m\u001b[0;34m,\u001b[0m \u001b[0;34m(\u001b[0m\u001b[0mRigidBody\u001b[0m\u001b[0;34m,\u001b[0m \u001b[0mParticle\u001b[0m\u001b[0;34m)\u001b[0m\u001b[0;34m)\u001b[0m\u001b[0;34m:\u001b[0m\u001b[0;34m\u001b[0m\u001b[0;34m\u001b[0m\u001b[0m\n\u001b[0;32m--> 173\u001b[0;31m                 \u001b[0mlinear_momentum_sys\u001b[0m \u001b[0;34m+=\u001b[0m \u001b[0me\u001b[0m\u001b[0;34m.\u001b[0m\u001b[0mlinear_momentum\u001b[0m\u001b[0;34m(\u001b[0m\u001b[0mframe\u001b[0m\u001b[0;34m)\u001b[0m\u001b[0;34m\u001b[0m\u001b[0;34m\u001b[0m\u001b[0m\n\u001b[0m\u001b[1;32m    174\u001b[0m             \u001b[0;32melse\u001b[0m\u001b[0;34m:\u001b[0m\u001b[0;34m\u001b[0m\u001b[0;34m\u001b[0m\u001b[0m\n\u001b[1;32m    175\u001b[0m                 \u001b[0;32mraise\u001b[0m \u001b[0mTypeError\u001b[0m\u001b[0;34m(\u001b[0m\u001b[0;34m'*body must have only Particle or RigidBody'\u001b[0m\u001b[0;34m)\u001b[0m\u001b[0;34m\u001b[0m\u001b[0;34m\u001b[0m\u001b[0m\n",
      "\u001b[0;32m~/anaconda3/lib/python3.7/site-packages/sympy/physics/mechanics/rigidbody.py\u001b[0m in \u001b[0;36mlinear_momentum\u001b[0;34m(self, frame)\u001b[0m\n\u001b[1;32m    153\u001b[0m         \"\"\"\n\u001b[1;32m    154\u001b[0m \u001b[0;34m\u001b[0m\u001b[0m\n\u001b[0;32m--> 155\u001b[0;31m         \u001b[0;32mreturn\u001b[0m \u001b[0mself\u001b[0m\u001b[0;34m.\u001b[0m\u001b[0mmass\u001b[0m \u001b[0;34m*\u001b[0m \u001b[0mself\u001b[0m\u001b[0;34m.\u001b[0m\u001b[0mmasscenter\u001b[0m\u001b[0;34m.\u001b[0m\u001b[0mvel\u001b[0m\u001b[0;34m(\u001b[0m\u001b[0mframe\u001b[0m\u001b[0;34m)\u001b[0m\u001b[0;34m\u001b[0m\u001b[0;34m\u001b[0m\u001b[0m\n\u001b[0m\u001b[1;32m    156\u001b[0m \u001b[0;34m\u001b[0m\u001b[0m\n\u001b[1;32m    157\u001b[0m     \u001b[0;32mdef\u001b[0m \u001b[0mangular_momentum\u001b[0m\u001b[0;34m(\u001b[0m\u001b[0mself\u001b[0m\u001b[0;34m,\u001b[0m \u001b[0mpoint\u001b[0m\u001b[0;34m,\u001b[0m \u001b[0mframe\u001b[0m\u001b[0;34m)\u001b[0m\u001b[0;34m:\u001b[0m\u001b[0;34m\u001b[0m\u001b[0;34m\u001b[0m\u001b[0m\n",
      "\u001b[0;32m~/anaconda3/lib/python3.7/site-packages/sympy/physics/vector/point.py\u001b[0m in \u001b[0;36mvel\u001b[0;34m(self, frame)\u001b[0m\n\u001b[1;32m    453\u001b[0m         \u001b[0;32mif\u001b[0m \u001b[0;32mnot\u001b[0m \u001b[0;34m(\u001b[0m\u001b[0mframe\u001b[0m \u001b[0;32min\u001b[0m \u001b[0mself\u001b[0m\u001b[0;34m.\u001b[0m\u001b[0m_vel_dict\u001b[0m\u001b[0;34m)\u001b[0m\u001b[0;34m:\u001b[0m\u001b[0;34m\u001b[0m\u001b[0;34m\u001b[0m\u001b[0m\n\u001b[1;32m    454\u001b[0m             raise ValueError('Velocity of point ' + self.name + ' has not been'\n\u001b[0;32m--> 455\u001b[0;31m                              ' defined in ReferenceFrame ' + frame.name)\n\u001b[0m\u001b[1;32m    456\u001b[0m         \u001b[0;32mreturn\u001b[0m \u001b[0mself\u001b[0m\u001b[0;34m.\u001b[0m\u001b[0m_vel_dict\u001b[0m\u001b[0;34m[\u001b[0m\u001b[0mframe\u001b[0m\u001b[0;34m]\u001b[0m\u001b[0;34m\u001b[0m\u001b[0;34m\u001b[0m\u001b[0m\n\u001b[1;32m    457\u001b[0m \u001b[0;34m\u001b[0m\u001b[0m\n",
      "\u001b[0;31mValueError\u001b[0m: Velocity of point origin has not been defined in ReferenceFrame Base"
     ]
    }
   ],
   "source": [
    "#me.linear_momentum, me.angular_momentum\n",
    "me.linear_momentum(BaseFrame, rodbody)"
   ]
  },
  {
   "cell_type": "code",
   "execution_count": 100,
   "metadata": {},
   "outputs": [
    {
     "name": "stdout",
     "output_type": "stream",
     "text": [
      "Help on method set_vel in module sympy.physics.vector.point:\n",
      "\n",
      "set_vel(frame, value) method of sympy.physics.vector.point.Point instance\n",
      "    Sets the velocity Vector of this Point in a ReferenceFrame.\n",
      "    \n",
      "    Parameters\n",
      "    ==========\n",
      "    \n",
      "    frame : ReferenceFrame\n",
      "        The frame in which this point's velocity is defined\n",
      "    value : Vector\n",
      "        The vector value of this point's velocity in the frame\n",
      "    \n",
      "    Examples\n",
      "    ========\n",
      "    \n",
      "    >>> from sympy.physics.vector import Point, ReferenceFrame\n",
      "    >>> N = ReferenceFrame('N')\n",
      "    >>> p1 = Point('p1')\n",
      "    >>> p1.set_vel(N, 10 * N.x)\n",
      "    >>> p1.vel(N)\n",
      "    10*N.x\n",
      "\n"
     ]
    }
   ],
   "source": [
    "help(origin.set_vel)"
   ]
  },
  {
   "cell_type": "code",
   "execution_count": null,
   "metadata": {},
   "outputs": [],
   "source": []
  },
  {
   "cell_type": "code",
   "execution_count": null,
   "metadata": {},
   "outputs": [],
   "source": []
  },
  {
   "cell_type": "code",
   "execution_count": 90,
   "metadata": {},
   "outputs": [
    {
     "ename": "NameError",
     "evalue": "name 'ythetav' is not defined",
     "output_type": "error",
     "traceback": [
      "\u001b[0;31m---------------------------------------------------------------------------\u001b[0m",
      "\u001b[0;31mNameError\u001b[0m                                 Traceback (most recent call last)",
      "\u001b[0;32m<ipython-input-90-ce97413e036b>\u001b[0m in \u001b[0;36m<module>\u001b[0;34m\u001b[0m\n\u001b[1;32m     17\u001b[0m \u001b[0;34m\u001b[0m\u001b[0m\n\u001b[1;32m     18\u001b[0m \u001b[0mSlabFrame\u001b[0m \u001b[0;34m=\u001b[0m \u001b[0mBaseFrame\u001b[0m\u001b[0;34m.\u001b[0m\u001b[0morientnew\u001b[0m\u001b[0;34m(\u001b[0m\u001b[0;34m'Slab'\u001b[0m\u001b[0;34m,\u001b[0m \u001b[0;34m'Axis'\u001b[0m\u001b[0;34m,\u001b[0m \u001b[0;34m[\u001b[0m\u001b[0;36m0\u001b[0m\u001b[0;34m,\u001b[0m \u001b[0mBaseFrame\u001b[0m\u001b[0;34m.\u001b[0m\u001b[0mx\u001b[0m\u001b[0;34m]\u001b[0m\u001b[0;34m)\u001b[0m\u001b[0;34m\u001b[0m\u001b[0;34m\u001b[0m\u001b[0m\n\u001b[0;32m---> 19\u001b[0;31m \u001b[0mSlabFrame\u001b[0m\u001b[0;34m.\u001b[0m\u001b[0mset_ang_vel\u001b[0m\u001b[0;34m(\u001b[0m\u001b[0mSlabFrame\u001b[0m\u001b[0;34m,\u001b[0m \u001b[0mythetav\u001b[0m \u001b[0;34m*\u001b[0m \u001b[0mSlabFrame\u001b[0m\u001b[0;34m.\u001b[0m\u001b[0my\u001b[0m\u001b[0;34m)\u001b[0m\u001b[0;34m\u001b[0m\u001b[0;34m\u001b[0m\u001b[0m\n\u001b[0m\u001b[1;32m     20\u001b[0m \u001b[0;34m\u001b[0m\u001b[0m\n\u001b[1;32m     21\u001b[0m \u001b[0mslabvel\u001b[0m \u001b[0;34m=\u001b[0m \u001b[0mxv\u001b[0m\u001b[0;34m*\u001b[0m\u001b[0mBaseFrame\u001b[0m\u001b[0;34m.\u001b[0m\u001b[0mx\u001b[0m \u001b[0;34m+\u001b[0m \u001b[0mzv\u001b[0m\u001b[0;34m*\u001b[0m\u001b[0mBaseFrame\u001b[0m\u001b[0;34m.\u001b[0m\u001b[0mz\u001b[0m\u001b[0;34m\u001b[0m\u001b[0;34m\u001b[0m\u001b[0m\n",
      "\u001b[0;31mNameError\u001b[0m: name 'ythetav' is not defined"
     ]
    }
   ],
   "source": [
    "# Next up: express the above in terms of rigid bodies: https://docs.sympy.org/latest/modules/physics/mechanics/masses.html#rigid-body\n",
    "import sympy as sp\n",
    "import sympy.physics.mechanics as me\n",
    "\n",
    "\n",
    "m = sp.Symbol(\"m\")\n",
    "d = sp.Symbol(\"d\")\n",
    "x = me.dynamicsymbols('x')\n",
    "z = me.dynamicsymbols('z')\n",
    "\n",
    "ld = m/(2*d)        # length desnsity\n",
    "I = sp.integrate(ld*x*x, (x, -d, d))    # moment of inertia evenly distributed\n",
    "\n",
    "\n",
    "BaseFrame = me.ReferenceFrame('Base')\n",
    "origin  = me.Point('origin')\n",
    "origin.set_vel(BaseFrame, 0)\n",
    "\n",
    "SlabFrame = BaseFrame.orientnew('Slab', 'Axis', [0, BaseFrame.x])\n",
    "SlabFrame.set_ang_vel(SlabFrame, ythetav * SlabFrame.y)\n",
    "\n",
    "slabvel = xv*BaseFrame.x + zv*BaseFrame.z\n",
    "slabpt = origin.locatenew('slab', x*BaseFrame.x + z*BaseFrame.z)\n",
    "slabpt.set_vel(BaseFrame, slabvel)\n",
    "Iyy = me.outer(SlabFrame.y, SlabFrame.y)\n",
    "slabbody = me.RigidBody(name=\"slab\", masscenter=slabpt, frame=SlabFrame, mass=m, \n",
    "                        inertia=(Iyy, slabpt))\n"
   ]
  },
  {
   "cell_type": "code",
   "execution_count": null,
   "metadata": {},
   "outputs": [],
   "source": [
    "# Then handle the slipping rod from here:\n",
    "# https://physics.stackexchange.com/questions/80603/can-i-make-a-rod-in-the-vertical-plane-move-with-its-one-end-on-the-ground-in-a/90894#90894\n"
   ]
  }
 ],
 "metadata": {
  "kernelspec": {
   "display_name": "Python 3",
   "language": "python",
   "name": "python3"
  },
  "language_info": {
   "codemirror_mode": {
    "name": "ipython",
    "version": 3
   },
   "file_extension": ".py",
   "mimetype": "text/x-python",
   "name": "python",
   "nbconvert_exporter": "python",
   "pygments_lexer": "ipython3",
   "version": "3.7.4"
  }
 },
 "nbformat": 4,
 "nbformat_minor": 2
}
