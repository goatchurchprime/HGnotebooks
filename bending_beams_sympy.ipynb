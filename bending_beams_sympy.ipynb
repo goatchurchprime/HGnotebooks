{
 "cells": [
  {
   "cell_type": "code",
   "execution_count": 62,
   "metadata": {},
   "outputs": [],
   "source": [
    "# Looking at https://en.wikipedia.org/wiki/Euler%E2%80%93Bernoulli_beam_theory\n",
    "import sympy\n",
    "from sympy import Eq\n",
    "\n",
    "E, I = sympy.symbols(\"E I\")\n",
    "x = sympy.symbols(\"x\")\n",
    "w = sympy.Function(\"w\")(x)\n",
    "q = sympy.Function(\"q\")(x)\n",
    "sM = sympy.Function(\"M\")(x)\n",
    "sQ = sympy.Function(\"Q\")(x)\n",
    "sympy.init_printing()\n"
   ]
  },
  {
   "cell_type": "code",
   "execution_count": 66,
   "metadata": {},
   "outputs": [
    {
     "data": {
      "image/png": "[encoded data removed]",
      "text/latex": [
       "$$M{\\left (x \\right )} = - E I \\frac{d^{2}}{d x^{2}} w{\\left (x \\right )}$$"
      ],
      "text/plain": [
       "              2      \n",
       "             d       \n",
       "M(x) = -E⋅I⋅───(w(x))\n",
       "              2      \n",
       "            dx       "
      ]
     },
     "metadata": {},
     "output_type": "display_data"
    },
    {
     "data": {
      "image/png": "[encoded data removed]",
      "text/latex": [
       "$$Q{\\left (x \\right )} = - E I \\frac{d^{3}}{d x^{3}} w{\\left (x \\right )}$$"
      ],
      "text/plain": [
       "              3      \n",
       "             d       \n",
       "Q(x) = -E⋅I⋅───(w(x))\n",
       "              3      \n",
       "            dx       "
      ]
     },
     "metadata": {},
     "output_type": "display_data"
    }
   ],
   "source": [
    "M = -E*I*w.diff(x, 2)\n",
    "Q = M.diff(x)\n",
    "display(Eq(sM, M))\n",
    "display(Eq(sQ, Q))\n",
    "\n"
   ]
  },
  {
   "cell_type": "code",
   "execution_count": 80,
   "metadata": {},
   "outputs": [
    {
     "data": {
      "image/png": "[encoded data removed]",
      "text/latex": [
       "$$\\frac{P x^{2} \\left(3 L - x\\right)}{6 E I}$$"
      ],
      "text/plain": [
       "   2          \n",
       "P⋅x ⋅(3⋅L - x)\n",
       "──────────────\n",
       "    6⋅E⋅I     "
      ]
     },
     "metadata": {},
     "output_type": "display_data"
    },
    {
     "data": {
      "image/png": "[encoded data removed]",
      "text/latex": [
       "$$M{\\left (x \\right )} = P \\left(- L + x\\right)$$"
      ],
      "text/plain": [
       "M(x) = P⋅(-L + x)"
      ]
     },
     "metadata": {},
     "output_type": "display_data"
    },
    {
     "data": {
      "image/png": "[encoded data removed]",
      "text/latex": [
       "$$Q{\\left (x \\right )} = P$$"
      ],
      "text/plain": [
       "Q(x) = P"
      ]
     },
     "metadata": {},
     "output_type": "display_data"
    }
   ],
   "source": [
    "# Cantilever with end load\n",
    "P, L = sympy.symbols(\"P L\")\n",
    "v = P*x**2*(3*L - x)/(6*E*I)\n",
    "display(v)\n",
    "display(Eq(sM, M.subs(w, v).doit().simplify()))\n",
    "display(Eq(sQ, Q.subs(w, v).doit().simplify()))\n"
   ]
  },
  {
   "cell_type": "code",
   "execution_count": 86,
   "metadata": {},
   "outputs": [
    {
     "data": {
      "image/png": "[encoded data removed]",
      "text/latex": [
       "$$\\frac{q x^{2} \\left(6 L^{2} - 4 L x + x^{2}\\right)}{24 E I}$$"
      ],
      "text/plain": [
       "   2 ⎛   2            2⎞\n",
       "q⋅x ⋅⎝6⋅L  - 4⋅L⋅x + x ⎠\n",
       "────────────────────────\n",
       "         24⋅E⋅I         "
      ]
     },
     "metadata": {},
     "output_type": "display_data"
    },
    {
     "data": {
      "image/png": "[encoded data removed]",
      "text/latex": [
       "$$M{\\left (x \\right )} = \\frac{q \\left(- L^{2} + 2 L x - x^{2}\\right)}{2}$$"
      ],
      "text/plain": [
       "         ⎛   2            2⎞\n",
       "       q⋅⎝- L  + 2⋅L⋅x - x ⎠\n",
       "M(x) = ─────────────────────\n",
       "                 2          "
      ]
     },
     "metadata": {},
     "output_type": "display_data"
    },
    {
     "data": {
      "image/png": "[encoded data removed]",
      "text/latex": [
       "$$Q{\\left (x \\right )} = q \\left(L - x\\right)$$"
      ],
      "text/plain": [
       "Q(x) = q⋅(L - x)"
      ]
     },
     "metadata": {},
     "output_type": "display_data"
    },
    {
     "data": {
      "image/png": "[encoded data removed]",
      "text/latex": [
       "$$E I \\frac{d^{4}}{d x^{4}} w{\\left (x \\right )} = q$$"
      ],
      "text/plain": [
       "      4          \n",
       "     d           \n",
       "E⋅I⋅───(w(x)) = q\n",
       "      4          \n",
       "    dx           "
      ]
     },
     "execution_count": 86,
     "metadata": {},
     "output_type": "execute_result"
    }
   ],
   "source": [
    "# Cantilever evenly distributed load of q\n",
    "P, L, q = sympy.symbols(\"P L q\")\n",
    "v = q*x**2*(6*L**2 - 4*L*x + x**2)/(24*E*I)\n",
    "display(v)\n",
    "display(Eq(sM, M.subs(w, v).doit().simplify()))\n",
    "display(Eq(sQ, Q.subs(w, v).doit().simplify()))\n",
    "Eq(E*I*w.diff(x, 4), E*I*v.diff(x, 4))\n"
   ]
  },
  {
   "cell_type": "code",
   "execution_count": null,
   "metadata": {},
   "outputs": [],
   "source": []
  },
  {
   "cell_type": "code",
   "execution_count": null,
   "metadata": {},
   "outputs": [],
   "source": []
  },
  {
   "cell_type": "code",
   "execution_count": 85,
   "metadata": {},
   "outputs": [
    {
     "data": {
      "image/png": "[encoded data removed]",
      "text/latex": [
       "$$E I \\frac{d^{4}}{d x^{4}} w{\\left (x \\right )} = q$$"
      ],
      "text/plain": [
       "      4          \n",
       "     d           \n",
       "E⋅I⋅───(w(x)) = q\n",
       "      4          \n",
       "    dx           "
      ]
     },
     "execution_count": 85,
     "metadata": {},
     "output_type": "execute_result"
    }
   ],
   "source": [
    "Eq(E*I*w.diff(x, 4), E*I*v.diff(x, 4))"
   ]
  },
  {
   "cell_type": "code",
   "execution_count": 38,
   "metadata": {},
   "outputs": [
    {
     "data": {
      "image/png": "[encoded data removed]",
      "text/latex": [
       "$$E I \\frac{d^{4}}{d x^{4}} w{\\left (x \\right )} = q{\\left (x \\right )}$$"
      ],
      "text/plain": [
       "      4             \n",
       "     d              \n",
       "E⋅I⋅───(w(x)) = q(x)\n",
       "      4             \n",
       "    dx              "
      ]
     },
     "execution_count": 38,
     "metadata": {},
     "output_type": "execute_result"
    }
   ],
   "source": [
    "M = \n",
    "\n",
    "EBequation = sympy.Eq((E*I*w.diff(x, 2)).diff(x, 2), q)\n",
    "EBequation"
   ]
  },
  {
   "cell_type": "code",
   "execution_count": 39,
   "metadata": {},
   "outputs": [
    {
     "data": {
      "image/png": "[encoded data removed]",
      "text/latex": [
       "$$E I \\frac{d^{4}}{d x^{4}} w{\\left (x \\right )} = Q$$"
      ],
      "text/plain": [
       "      4          \n",
       "     d           \n",
       "E⋅I⋅───(w(x)) = Q\n",
       "      4          \n",
       "    dx           "
      ]
     },
     "execution_count": 39,
     "metadata": {},
     "output_type": "execute_result"
    }
   ],
   "source": [
    "# Cantilever evenly distributed load\n",
    "Q, L = sympy.symbols(\"Q L\")\n",
    "EBequation.subs(q, Q)"
   ]
  },
  {
   "cell_type": "code",
   "execution_count": 58,
   "metadata": {},
   "outputs": [
    {
     "data": {
      "image/png": "[encoded data removed]",
      "text/latex": [
       "$$w{\\left (x \\right )} = \\frac{Q x^{2} \\left(6 L^{2} - 4 L x + x^{2}\\right)}{24 E I}$$"
      ],
      "text/plain": [
       "          2 ⎛   2            2⎞\n",
       "       Q⋅x ⋅⎝6⋅L  - 4⋅L⋅x + x ⎠\n",
       "w(x) = ────────────────────────\n",
       "                24⋅E⋅I         "
      ]
     },
     "metadata": {},
     "output_type": "display_data"
    },
    {
     "name": "stdout",
     "output_type": "stream",
     "text": [
      "which satisfies\n"
     ]
    },
    {
     "data": {
      "image/png": "[encoded data removed]",
      "text/latex": [
       "$$\\frac{d^{4}}{d x^{4}} w{\\left (x \\right )} = \\frac{Q}{E I}$$"
      ],
      "text/plain": [
       "  4            \n",
       " d           Q \n",
       "───(w(x)) = ───\n",
       "  4         E⋅I\n",
       "dx             "
      ]
     },
     "metadata": {},
     "output_type": "display_data"
    },
    {
     "data": {
      "image/png": "[encoded data removed]",
      "text/latex": [
       "$$w{\\left (0 \\right )} = 0$$"
      ],
      "text/plain": [
       "w(0) = 0"
      ]
     },
     "metadata": {},
     "output_type": "display_data"
    }
   ],
   "source": [
    "# Answer given from wikipedia is:\n",
    "v = Q*x**2*(6*L**2 - 4*L*x + x**2)/(24*E*I)\n",
    "display(Eq(w, v))\n",
    "\n",
    "# ... which satisfies the equation\n",
    "print(\"which satisfies:\")\n",
    "display(Eq(w.diff(x, 4), v.diff(x, 4)))\n",
    "display(Eq(w.subs(x, 0), v.subs(x, 0)))"
   ]
  },
  {
   "cell_type": "code",
   "execution_count": 61,
   "metadata": {},
   "outputs": [
    {
     "data": {
      "image/png": "[encoded data removed]",
      "text/latex": [
       "$$\\frac{L^{4} Q}{8 E I}$$"
      ],
      "text/plain": [
       "  4  \n",
       " L ⋅Q\n",
       "─────\n",
       "8⋅E⋅I"
      ]
     },
     "execution_count": 61,
     "metadata": {},
     "output_type": "execute_result"
    }
   ],
   "source": [
    "v.subs(x, L)"
   ]
  },
  {
   "cell_type": "code",
   "execution_count": 109,
   "metadata": {},
   "outputs": [
    {
     "data": {
      "image/png": "[encoded data removed]",
      "text/latex": [
       "$$\\frac{3 \\sqrt{2} \\sqrt{\\pi} S\\left(\\frac{\\sqrt{2} x}{\\sqrt{\\pi}}\\right) \\Gamma\\left(\\frac{3}{4}\\right)}{8 \\Gamma\\left(\\frac{7}{4}\\right)}$$"
      ],
      "text/plain": [
       "                ⎛√2⋅x⎞       \n",
       "3⋅√2⋅√π⋅fresnels⎜────⎟⋅Γ(3/4)\n",
       "                ⎝ √π ⎠       \n",
       "─────────────────────────────\n",
       "           8⋅Γ(7/4)          "
      ]
     },
     "execution_count": 109,
     "metadata": {},
     "output_type": "execute_result"
    }
   ],
   "source": [
    "x = sympy.symbols(\"x\")\n",
    "x\n",
    "\n",
    "m = sympy.integrate(sympy.sin(x**2), x)\n",
    "m"
   ]
  },
  {
   "cell_type": "code",
   "execution_count": 115,
   "metadata": {},
   "outputs": [],
   "source": [
    "s = m.args[4]\n",
    "s?"
   ]
  },
  {
   "cell_type": "code",
   "execution_count": null,
   "metadata": {},
   "outputs": [],
   "source": [
    "gamma(6) = 6*5*4*3*2*1"
   ]
  },
  {
   "cell_type": "code",
   "execution_count": null,
   "metadata": {},
   "outputs": [],
   "source": [
    "import scipy.integrate.ode\n",
    "\n",
    "scipy.integrate.ode(f).set_integrator('vode', method='bdf', order=15)\n",
    "\n"
   ]
  },
  {
   "cell_type": "code",
   "execution_count": 9,
   "metadata": {},
   "outputs": [
    {
     "name": "stdout",
     "output_type": "stream",
     "text": [
      "1 -0.710382\n",
      "2 0.190985\n",
      "3 0.471532\n",
      "4 -0.619059\n",
      "5 0.02341\n",
      "6 0.586431\n",
      "7 -0.520701\n",
      "8 -0.159867\n",
      "9 0.648505\n",
      "10 -0.384047\n"
     ]
    },
    {
     "name": "stderr",
     "output_type": "stream",
     "text": [
      "/home/julian/anaconda3/lib/python3.6/site-packages/ipykernel_launcher.py:17: ComplexWarning: Casting complex values to real discards the imaginary part\n"
     ]
    }
   ],
   "source": [
    "from scipy.integrate import ode\n",
    "\n",
    "y0, t0 = [1.0j, 2.0], 0\n",
    "\n",
    "def f(t, y, arg1):\n",
    "    return [1j*arg1*y[0] + y[1], -arg1*y[1]**2]\n",
    "\n",
    "def jac(t, y, arg1):\n",
    "    return [[1j*arg1, 1], [0, -arg1*2*y[1]]]\n",
    "    \n",
    "r = ode(f, jac).set_integrator('zvode', method='bdf', with_jacobian=True)\n",
    "r.set_initial_value(y0, t0).set_f_params(2.0).set_jac_params(2.0)\n",
    "t1 = 10\n",
    "dt = 1\n",
    "while r.successful() and r.t < t1:\n",
    "    r.integrate(r.t+dt)\n",
    "    print(\"%g %g\" % (r.t, r.y[0]))\n"
   ]
  },
  {
   "cell_type": "code",
   "execution_count": 1,
   "metadata": {},
   "outputs": [],
   "source": [
    "from matplotlib import pyplot as plt\n",
    "%matplotlib inline"
   ]
  },
  {
   "cell_type": "code",
   "execution_count": 15,
   "metadata": {},
   "outputs": [
    {
     "name": "stdout",
     "output_type": "stream",
     "text": [
      "1.0     [-0.71038232+0.23749653j  0.40000271+0.j        ]\n",
      "2.0     [0.19098503-0.52359246j 0.22222356+0.j        ]\n",
      "3.0     [0.47153208+0.52701229j 0.15384681+0.j        ]\n",
      "4.0     [-0.61905937+0.30726255j  0.11764744+0.j        ]\n",
      "5.0     [0.02340997-0.61418799j 0.09523835+0.j        ]\n",
      "6.0     [0.58643071+0.339819j 0.08000018+0.j      ]\n",
      "7.0     [-0.52070105+0.44525141j  0.06896565+0.j        ]\n",
      "8.0     [-0.15986733-0.61234476j  0.06060616+0.j        ]\n",
      "9.0     [0.64850462+0.15048982j 0.05405414+0.j        ]\n",
      "10.0     [-0.38404699+0.56382299j  0.04878055+0.j        ]\n"
     ]
    }
   ],
   "source": [
    "from scipy.integrate import ode\n",
    "\n",
    "y0 = [1.0j, \n",
    "      2.0 ]\n",
    "t0 = 0\n",
    "\n",
    "arg1 = 2\n",
    "def f(t, y):\n",
    "    return [1j*arg1*y[0] + y[1], \n",
    "            -arg1*y[1]**2       ]\n",
    "\n",
    "def jac(t, y):\n",
    "    return [[1j*arg1,      1            ], \n",
    "            [0,            -arg1*2*y[1]]]\n",
    "    \n",
    "r = ode(f, jac)\n",
    "r.set_integrator('zvode', method='bdf', with_jacobian=True)\n",
    "r.set_initial_value(y0, t0)\n",
    "\n",
    "t1 = 10\n",
    "dt = 1\n",
    "while r.successful() and r.t < t1:\n",
    "    r.integrate(r.t+dt)\n",
    "    print(r.t, \"   \", (r.y))\n",
    "    "
   ]
  },
  {
   "cell_type": "code",
   "execution_count": 16,
   "metadata": {},
   "outputs": [
    {
     "name": "stdout",
     "output_type": "stream",
     "text": [
      "10.0 [-0.38404699+0.56382299j  0.04878055+0.j        ]\n"
     ]
    }
   ],
   "source": [
    "r = ode(f, jac)\n",
    "r.set_integrator('zvode', method='bdf', with_jacobian=True)\n",
    "r.set_initial_value(y0, t0)\n",
    "\n",
    "r.integrate(10)\n",
    "print(r.t, r.y)"
   ]
  },
  {
   "cell_type": "code",
   "execution_count": 19,
   "metadata": {},
   "outputs": [
    {
     "name": "stdout",
     "output_type": "stream",
     "text": [
      "10.0 [50.+0.j]\n"
     ]
    }
   ],
   "source": [
    "# y' = f(t, y)\n",
    "# y' = t\n",
    "# y = t**2/2\n",
    "\n",
    "def f(t, y):\n",
    "    return t       \n",
    "\n",
    "r = ode(f)\n",
    "r.set_integrator('zvode', method='bdf')\n",
    "r.set_initial_value(y=0, t=0)\n",
    "r.integrate(10)\n",
    "print(r.t, r.y)\n",
    "\n"
   ]
  },
  {
   "cell_type": "code",
   "execution_count": 22,
   "metadata": {},
   "outputs": [
    {
     "name": "stdout",
     "output_type": "stream",
     "text": [
      "10.0 [50.+0.j]\n"
     ]
    }
   ],
   "source": [
    "r.set_initial_value(y=0, t=0)\n",
    "r.integrate(10)\n",
    "print(r.t, r.y)"
   ]
  },
  {
   "cell_type": "code",
   "execution_count": null,
   "metadata": {},
   "outputs": [],
   "source": []
  }
 ],
 "metadata": {
  "kernelspec": {
   "display_name": "Python 3",
   "language": "python",
   "name": "python3"
  },
  "language_info": {
   "codemirror_mode": {
    "name": "ipython",
    "version": 3
   },
   "file_extension": ".py",
   "mimetype": "text/x-python",
   "name": "python",
   "nbconvert_exporter": "python",
   "pygments_lexer": "ipython3",
   "version": "3.6.6"
  }
 },
 "nbformat": 4,
 "nbformat_minor": 2
}
