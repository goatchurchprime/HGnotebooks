{
 "cells": [
  {
   "cell_type": "code",
   "execution_count": 1,
   "metadata": {},
   "outputs": [],
   "source": [
    "import cadquery as cq"
   ]
  },
  {
   "cell_type": "code",
   "execution_count": 11,
   "metadata": {},
   "outputs": [
    {
     "data": {
      "application/vnd.jupyter.widget-view+json": {
       "model_id": "e894b9a4e4864b9e91ffaed4c0256d36",
       "version_major": 2,
       "version_minor": 0
      },
      "text/plain": [
       "HBox(children=(VBox(children=(HBox(children=(Checkbox(value=True, description='Axes', indent=False, _dom_class…"
      ]
     },
     "metadata": {},
     "output_type": "display_data"
    },
    {
     "name": "stdout",
     "output_type": "stream",
     "text": [
      "Done, using side car 'CadQuery'\n"
     ]
    }
   ],
   "source": [
    "from jupyter_cadquery.cadquery import (Assembly, Part, Edges, Faces, Vertices, show)\n",
    "from jupyter_cadquery import set_sidecar\n",
    "\n",
    "set_sidecar(\"CadQuery\")  # force usage of one cad view on the right\n",
    "\n",
    "result = (cq.Workplane(\"XZ\").circle(1.5)\n",
    "    .workplane(offset=3.0).rect(0.75, 0.5).loft(combine=True))\n",
    "\n",
    "s = cq.Workplane(\"XZ\")\n",
    "sPnts = [\n",
    "    (2.75, 1.5),\n",
    "    (2.5, 1.75),\n",
    "    (2.0, 1.5),\n",
    "    (1.5, 1.0),\n",
    "    (1.0, 1.25),\n",
    "    (0.5, 1.0),\n",
    "    (0, 1.0)\n",
    "]\n",
    "r = s.lineTo(3.0, 0).lineTo(3.0, 1.0).spline(sPnts,includeCurrent=True).close()\n",
    "result = r.workplane(offset=3.0).rect(0.75, 0.5) # .loft(combine=True)\n",
    "result = result.workplane(offset=3.0).circle(1.5).loft(combine=True)\n",
    "#    result = r.extrude(0.5)\n",
    "#show_object(result)\n",
    "#show(result)\n",
    "show(result, axes=True, grid=True, ortho=True, axes0=True)\n",
    "\n",
    "\n",
    "\"\"\"\n",
    "box1 = cq.Workplane('XY').box(10, 20, 30).edges(\">X or <X\").chamfer(2)\n",
    "box2 = cq.Workplane('XY').box(8, 18, 28).edges(\">X or <X\").chamfer(2)\n",
    "box3 = cq.Workplane('XY').transformed(offset=(0, 15, 7)).box(30, 20, 6).edges(\">Z\").fillet(3)\n",
    "box4 = box3.mirror(\"XY\").translate((0, -5, 0))\n",
    "\n",
    "box1 = box1\\\n",
    "    .cut(box2)\\\n",
    "    .cut(box3)\\\n",
    "    .cut(box4)\n",
    "\n",
    "\"\"\"\n",
    "a1 = Assembly(\n",
    "    [\n",
    "        Part(box1, \"red box\",   \"#d7191c\", show_edges=False),\n",
    "        Part(box3, \"green box\", \"#abdda4\", show_edges=False),\n",
    "        Part(box4, \"blue box\",  \"#2b83ba\", show_faces=False),\n",
    "    ],\n",
    "    \"example 1\"\n",
    ")\n"
   ]
  },
  {
   "cell_type": "code",
   "execution_count": 3,
   "metadata": {},
   "outputs": [
    {
     "ename": "NameError",
     "evalue": "name 'show_object' is not defined",
     "output_type": "error",
     "traceback": [
      "\u001b[0;31m---------------------------------------------------------------------------\u001b[0m",
      "\u001b[0;31mNameError\u001b[0m                                 Traceback (most recent call last)",
      "\u001b[0;32m<ipython-input-3-d9669348cf55>\u001b[0m in \u001b[0;36m<module>\u001b[0;34m\u001b[0m\n\u001b[1;32m      2\u001b[0m     .workplane(offset=3.0).rect(0.75, 0.5).loft(combine=True))\n\u001b[1;32m      3\u001b[0m \u001b[0;34m\u001b[0m\u001b[0m\n\u001b[0;32m----> 4\u001b[0;31m \u001b[0mshow_object\u001b[0m\u001b[0;34m(\u001b[0m\u001b[0mresult\u001b[0m\u001b[0;34m)\u001b[0m\u001b[0;34m\u001b[0m\u001b[0;34m\u001b[0m\u001b[0m\n\u001b[0m",
      "\u001b[0;31mNameError\u001b[0m: name 'show_object' is not defined"
     ]
    }
   ],
   "source": []
  },
  {
   "cell_type": "code",
   "execution_count": 163,
   "metadata": {},
   "outputs": [
    {
     "data": {
      "application/vnd.jupyter.widget-view+json": {
       "model_id": "e6483651331c4811a6ee7adae873e896",
       "version_major": 2,
       "version_minor": 0
      },
      "text/plain": [
       "HBox(children=(VBox(children=(HBox(children=(Checkbox(value=True, description='Axes', indent=False, _dom_class…"
      ]
     },
     "metadata": {},
     "output_type": "display_data"
    },
    {
     "name": "stdout",
     "output_type": "stream",
     "text": [
      "Done, using side car 'CadQuery'\n"
     ]
    },
    {
     "data": {
      "text/plain": [
       "<jupyter_cadquery.cad_display.CadqueryDisplay at 0x7f1835452a10>"
      ]
     },
     "execution_count": 163,
     "metadata": {},
     "output_type": "execute_result"
    }
   ],
   "source": [
    "def aerospline(r):\n",
    "    r = r.spline([(0,0), (-1,1), (-2,0.5), (-3,0)], tangents=[(0,1), (-1,-0.3)], includeCurrent=False)\n",
    "    r = r.spline([(-3,0), (-1,0.1), (0,0)], tangents=[(1,0.1), (0,1)], includeCurrent=False)\n",
    "    r = r.close()\n",
    "    return r\n",
    "\n",
    "def aerosplineD(r, hfac, wfac, xd):\n",
    "    r = r.spline([(0+xd,0), (-1*wfac+xd,1*hfac), (-2*wfac+xd,0.5*hfac), (-3*wfac+xd,0)], includeCurrent=False)\n",
    "    r = r.spline([(-3*wfac+xd,0), (-1*wfac+xd,0.1*hfac), (0+xd,0)], includeCurrent=False)\n",
    "    r = r.close()\n",
    "    return r\n",
    "\n",
    "#r = aerosplineD(s, 0.9, 1.8, -4)\n",
    "#result = r.extrude(0.5)\n",
    "\n",
    "r = cq.Workplane(\"XZ\", (0,0,0))\n",
    "r = aerosplineD(r, 1, 1, 0)\n",
    "r = r.workplane(offset=1, centerOption=\"ProjectedOrigin\")\n",
    "r = aerosplineD(r, 0.8, 0.9, -0.5)\n",
    "r = r.workplane(offset=1, centerOption=\"ProjectedOrigin\")\n",
    "r = aerosplineD(r, 0.5, 0.9, -1.2)\n",
    "r = r.workplane(offset=2, centerOption=\"ProjectedOrigin\")\n",
    "r = aerosplineD(r, 0.2, 0.7, -3.6)\n",
    "r = r.loft(combine=True)\n",
    "\n",
    "m = r.mirror(mirrorPlane='XZ', basePointVector=(0,0,0))\n",
    "r = m.union(r)\n",
    "\n",
    "show(r, axes=True, grid=True, ortho=True, axes0=True)\n"
   ]
  },
  {
   "cell_type": "code",
   "execution_count": 210,
   "metadata": {},
   "outputs": [],
   "source": [
    "with open(\"cqtest.step\", \"w\") as fout:\n",
    "    cq.exporters.exportShape(r, cq.exporters.ExportTypes.STEP, fout)\n",
    "\n",
    "# Load this file into Gmsh\n",
    "# Click 1D, 2D, 3D to mesh edges, surfaces and volumes\n",
    "# To tighten the mesh, go to Options -> Mesh -> General; Element size factor: 0.5\n",
    "# You need to download and run the latest version of gmsh\n",
    "# ~/executables/gmsh-4.5.4-Linux64/bin/gmsh -clscale 0.5 cqtest.step \n",
    "#  see https://gitlab.onelab.info/gmsh/gmsh/issues/775\n",
    "\n"
   ]
  },
  {
   "cell_type": "code",
   "execution_count": null,
   "metadata": {},
   "outputs": [],
   "source": [
    "# Experimenting with sparselizard:\n",
    "\n",
    "# clone and build sparselizard:\n",
    "# > git clone git@github.com:halbux/sparselizard.git\n",
    "# > cd sparselizard\n",
    "# > ./install_external_libs/install_petsc.sh\n",
    "# > ./install_external_libs/optional_install_gmsh_api.sh\n",
    "# > make\n",
    "# > ./run_sparselizard.sh\n",
    "\n",
    "# Download and run the visualizer:\n",
    "# Unzip and run with:\n",
    "# ~/executables/ParaView-5.8.0-MPI-Linux-Python3.7-64bit/bin/paraview\n",
    "# Open the file u.vtk.  Enable the view, turn on the colours.\n",
    "\n",
    "# Now try with air simulation\n",
    "# > cp examples/nonlinear-vonkarman-vortex-2d/* .\n",
    "# > gmsh channel.geo\n",
    "# > Click 3 in mesh, and save mesh\n",
    "# > make\n",
    "# > ./run_sparselizard.sh\n",
    "# (makes a 90 second simulation)\n",
    "\n",
    "# Future task: \n",
    "# channel.geo is in a simplified CAD language.  \n",
    "# Program this with the aerofoil shape of upright\n",
    "# Test with and without turbulator\n",
    "\n"
   ]
  }
 ],
 "metadata": {
  "kernelspec": {
   "display_name": "Python 3",
   "language": "python",
   "name": "python3"
  },
  "language_info": {
   "codemirror_mode": {
    "name": "ipython",
    "version": 3
   },
   "file_extension": ".py",
   "mimetype": "text/x-python",
   "name": "python",
   "nbconvert_exporter": "python",
   "pygments_lexer": "ipython3",
   "version": "3.7.4"
  }
 },
 "nbformat": 4,
 "nbformat_minor": 2
}
