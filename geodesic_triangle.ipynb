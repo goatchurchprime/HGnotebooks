{
 "cells": [
  {
   "cell_type": "code",
   "execution_count": 1,
   "id": "58a089fe",
   "metadata": {},
   "outputs": [],
   "source": [
    "from collections import namedtuple\n",
    "import math\n",
    "\n",
    "class P3(namedtuple('P3', ['x', 'y', 'z'])):\n",
    "    __slots__ = ()\n",
    "    def __new__(self, x, y, z):\n",
    "        return super(P3, self).__new__(self, float(x), float(y), float(z))\n",
    "    def __repr__(self):\n",
    "        return \"P3(%s, %s, %s)\" % (self.x, self.y, self.z)\n",
    "    def __add__(self, a):\n",
    "        return P3(self.x + a.x, self.y + a.y, self.z + a.z)\n",
    "    def __sub__(self, a):\n",
    "        return P3(self.x - a.x, self.y - a.y, self.z - a.z)\n",
    "    def __mul__(self, a):\n",
    "        return P3(self.x*a, self.y*a, self.z*a)\n",
    "    def __neg__(self):\n",
    "        return P3(-self.x, -self.y, -self.z)\n",
    "    def __rmul__(self, a):\n",
    "        raise TypeError\n",
    "    def Lensq(self):\n",
    "        return self.x*self.x + self.y*self.y + self.z*self.z\n",
    "    def Len(self):\n",
    "        return math.sqrt(self.Lensq())\n",
    "    def LenLZ(self):\n",
    "        return math.sqrt(self.x*self.x + self.y*self.y)\n",
    "        \n",
    "        \n",
    "    def assertlen1(self):\n",
    "        assert abs(self.Len() - 1.0) < 0.0001\n",
    "        return True\n",
    "        \n",
    "    @staticmethod\n",
    "    def Dot(a, b):\n",
    "        return a.x*b.x + a.y*b.y + a.z*b.z\n",
    "\n",
    "    @staticmethod\n",
    "    def Cross(a, b):\n",
    "        return P3(a.y*b.z - b.y*a.z, -a.x*b.z + b.x*a.z, a.x*b.y - b.x*a.y)\n"
   ]
  },
  {
   "cell_type": "code",
   "execution_count": 23,
   "id": "07ca3f72",
   "metadata": {},
   "outputs": [],
   "source": [
    "# ab is the triangle edge axis, d is crossing point on axis coming from c\n",
    "# e is point of triangle to right of axis\n",
    "Ga = P3(0,0,0)\n",
    "Gb = P3(0,1,0)\n",
    "lam = 0.31\n",
    "Gc = P3(-1,0.3,0)\n",
    "Ge = P3(1,0.5,0)\n"
   ]
  },
  {
   "cell_type": "code",
   "execution_count": 179,
   "id": "ffbef3a0",
   "metadata": {},
   "outputs": [
    {
     "name": "stdout",
     "output_type": "stream",
     "text": [
      "Vab P3(2.0, -0.5, 0.0)\n",
      "Vcd P3(4.0, 1.25, 0.0)\n",
      "Gd P3(-1.0, -2.75, 0.0)\n",
      "Ge P3(0.0, -1.5, 0.0)\n",
      "a P3(1.0, -0.25, 0.0)\n",
      "Vae P3(0.0, 1.5, 0.0)\n",
      "Vab P3(-2.0, 0.5, -0.0)\n",
      "qdq -14.085160712250355\n",
      "a P3(-1.0, 0.25, 0.0)\n",
      "Vae P3(2.0, 1.0, 0.0)\n",
      "Vab P3(2.0, -0.5, 0.0)\n",
      "qdq -3.135928061004801\n",
      "-1.0 -1.0 1 3.0969750889679717\n",
      "TOL_ZERO fail 0.3334230117261885\n"
     ]
    },
    {
     "data": {
      "text/plain": [
       "(False, -1.0)"
      ]
     },
     "execution_count": 179,
     "metadata": {},
     "output_type": "execute_result"
    }
   ],
   "source": [
    "# axis is a b\n",
    "# incoming at d = Along(lam, a, b)\n",
    "# incoming from c to d \n",
    "# incoming (d - c).(b - a) = |d-c||b-a|cos(theta) = |d-c|I\n",
    "# I = |b-a|cos(theta) = (d - c).(b - a)/|d-c|\n",
    "\n",
    "# triangle on right hand side is to e\n",
    "# outgoing to x where x = Along(q, a, e) or x = Along(q, b, e)\n",
    "# Solve (x - d).(b - a) = |x-d||b-a|cos(theta) = |x-d|I\n",
    "\n",
    "# Set d = 0, v = b - a\n",
    "# x.v = |x|I  where x = a + (e - a)*q = a + f*q\n",
    "# x.x I^2 = (x.v)^2\n",
    "\n",
    "# x.x I^2 = (a + f*q)^2 I^2 = q^2 f^2 I^2 + 2q a.f I^2 + a^2 I^2\n",
    "#   =\n",
    "# (x.v)^2 = (a.v + f.v*q)^2 = q^2 (f.v)^2 + 2q (a.v)(f.v) + (a.v)^2\n",
    "# q^2 ((f.v)^2 - f^2 I^2) + 2q ((a.v)(f.v) - a.f I^2) + (a.v)^2 - a^2 I^2\n",
    "\n",
    "def Square(X):\n",
    "    return X*X\n",
    "def TOL_ZERO(X):\n",
    "    if not (abs(X) < 0.0001):\n",
    "        print(\"TOL_ZERO fail\", X)\n",
    "\n",
    "def GeoCrossAxisE(a, Vae, Vab, Isq, Isgn):\n",
    "    print(\"a\", a)\n",
    "    print(\"Vae\", Vae)\n",
    "    print(\"Vab\", Vab)\n",
    "    fdv = P3.Dot(Vae, Vab)\n",
    "    adv = P3.Dot(a, Vab)\n",
    "    adf = P3.Dot(a, Vae)\n",
    "    qA = Square(fdv) - Vae.Lensq()*Isq\n",
    "    qB2 = adv*fdv - adf*Isq\n",
    "    qC = a.Lensq() * (1 - Isq)\n",
    "    qdq = Square(qB2) - qA*qC\n",
    "    if qdq < 0.0:\n",
    "        print(\"qdq\", qdq)\n",
    "        return -1.0\n",
    "    qs = math.sqrt(qdq) / qA\n",
    "    qm = -qB2 / qA\n",
    "    q = qm + qs*Isgn\n",
    "    print(\"qq \", qm - qs, qm + qs)\n",
    "    # q = qs +- qm,  x = a + Vae*q,  Dot(x, Vab) same sign as Dot(Vcd, Vab)\n",
    "    if abs(q) < 100:\n",
    "        TOL_ZERO(qA*Square(q) + qB2*2*q + qC)\n",
    "    return q\n",
    "\n",
    "def GeoCrossAxis(Ga, Gb, Gc, lam, Ge):\n",
    "    Vab = Gb - Ga\n",
    "    Gd = Ga + Vab*lam\n",
    "    Vcd = Gd - Gc\n",
    "    cdDab = P3.Dot(Vcd, Vab)\n",
    "    Isq = Square(cdDab) / Vcd.Lensq()\n",
    "    Isgn = -1 if cdDab < 0 else 1\n",
    "    print(\"Vab\", Vab)\n",
    "    print(\"Vcd\", Vcd)\n",
    "    print(\"Gd\", Gd)\n",
    "    print(\"Ge\", Ge)\n",
    "    qVbe = GeoCrossAxisE(Gb - Gd, Ge - Gb, -Vab, Isq, -Isgn)\n",
    "    #return\n",
    "    qVae = GeoCrossAxisE(Ga - Gd, Ge - Ga, Vab, Isq, Isgn)\n",
    "    print(qVae, qVbe, Isgn, Isq)\n",
    "    bAEcrossing = (abs(qVae - 0.5) < abs(qVbe - 0.5))\n",
    "    q = qVae if bAEcrossing else qVbe\n",
    "    Gx = (Ga + (Ge - Ga)*q) if bAEcrossing else (Gb + (Ge - Gb)*q)\n",
    "    Dx = Gx - Gd\n",
    "    TOL_ZERO(P3.Dot(Vcd, Vab)/Vcd.Len() - P3.Dot(Dx, Vab)/Dx.Len())\n",
    "    return bAEcrossing, q\n",
    "    \n",
    "# simplified counterexample fail!\n",
    "(Ga, Gb, Gc, lam, Ge) = (P3(-2, -2.5, 0), \n",
    "                         P3(0, -3, 0), \n",
    "                         P3(-5, -4, -0), \n",
    "                         0.5, \n",
    "                         P3(0, -1.5, 0))\n",
    "\n",
    "\n",
    "GeoCrossAxis(Ga, Gb, Gc, lam, Ge)\n"
   ]
  },
  {
   "cell_type": "code",
   "execution_count": 124,
   "id": "7b27b095",
   "metadata": {},
   "outputs": [
    {
     "name": "stdout",
     "output_type": "stream",
     "text": [
      "P3(-1.7274575140626311, -2.3776412907378845, -4.045084971874737)\n",
      "P3(3.599146639029983e-16, -2.938926261462366, -4.045084971874737)\n",
      "P3(-2.3776412907378837, -3.272542485937369, -2.938926261462366)\n",
      "P3(1.8921833652170753e-16, -1.5450849718747373, -4.755282581475767)\n"
     ]
    }
   ],
   "source": [
    "print(Ga)\n",
    "print(Gb)\n",
    "print(Gc)\n",
    "print(Ge)"
   ]
  },
  {
   "cell_type": "code",
   "execution_count": 35,
   "id": "dad9f680",
   "metadata": {},
   "outputs": [],
   "source": [
    "import sys\n",
    "sys.path.append(\"/home/julian/repositories\")\n",
    "sys.path.append(\"/home/julian/repositories/barmesh\")\n",
    "from barmesh.tribarmes import TriangleBarMesh\n",
    "\n"
   ]
  },
  {
   "cell_type": "code",
   "execution_count": 129,
   "id": "91389c59",
   "metadata": {},
   "outputs": [],
   "source": [
    "import math\n",
    "def GenerateSphere(rad, N, M):\n",
    "    longs = [ math.radians(i/N*360.0)  for i in range(N) ]\n",
    "    lats = [ math.radians(i/M*180.0 - 90.0)  for i in range(M+1) ]\n",
    "    rpts = [ P3(0,0,-rad)  for i in range(N) ]\n",
    "    flat9triangles = [ ]\n",
    "    for i in range(1, M+1):\n",
    "        lat = math.radians(i/M*180.0 - 90.0)\n",
    "        sinlat = math.sin(lat) if i != M else 1\n",
    "        coslat = math.cos(lat) if i != M else 0\n",
    "        rptsN = [ P3(coslat*math.sin(lng), coslat*math.cos(lng), sinlat)*rad  for lng in longs ]\n",
    "        rp0, rpN0 = rpts[-1], rptsN[-1]\n",
    "        for rp, rpN in zip(rpts, rptsN):\n",
    "            if i != 1:\n",
    "                flat9triangles.append(tuple(rp0)+tuple(rp)+tuple(rpN))\n",
    "            if i != M:\n",
    "                flat9triangles.append(tuple(rp0)+tuple(rpN)+tuple(rpN0))\n",
    "            rp0, rpN0 = rp, rpN\n",
    "        rpts = rptsN\n",
    "    return flat9triangles\n",
    "\n",
    "\n",
    "flat9triangles = GenerateSphere(5, 10, 10)\n",
    "tbm = TriangleBarMesh(flat9triangles=flat9triangles)\n",
    "#tbm = TriangleBarMesh(\"/home/julian/repositories/HGnotebooks/Sphere-medium.stl\")\n"
   ]
  },
  {
   "cell_type": "code",
   "execution_count": 130,
   "id": "a80565c1",
   "metadata": {},
   "outputs": [
    {
     "data": {
      "image/png": "[encoded data removed]",
      "text/plain": [
       "<Figure size 432x288 with 1 Axes>"
      ]
     },
     "metadata": {
      "needs_background": "light"
     },
     "output_type": "display_data"
    }
   ],
   "source": [
    "#tbm = TriangleBarMesh(flat9triangles=flat9triangles)\n",
    "tris = tbm.GetBarMeshTriangles()\n",
    "\n",
    "X = sum(((tri[0][0], tri[1][0], tri[2][0])  for tri in tris), start=())\n",
    "Y = sum(((tri[0][1], tri[1][1], tri[2][1])  for tri in tris), start=())\n",
    "Z = sum(((tri[0][2], tri[1][2], tri[2][2])  for tri in tris), start=())\n",
    "triangles = [ [i,i+1,i+2]  for i in range(0, len(X), 3)]\n",
    "\n",
    "ax = plt.axes(projection='3d')\n",
    "ax.plot_trisurf(X, Y, Z, triangles=triangles, linewidths=0.2);\n"
   ]
  },
  {
   "cell_type": "code",
   "execution_count": 131,
   "id": "18fa6b5b",
   "metadata": {},
   "outputs": [
    {
     "name": "stdout",
     "output_type": "stream",
     "text": [
      "6.2902390696106805 -1.0\n",
      "TOL_ZERO fail -0.057045134114669827\n"
     ]
    },
    {
     "data": {
      "text/plain": [
       "(False, -1.0)"
      ]
     },
     "execution_count": 131,
     "metadata": {},
     "output_type": "execute_result"
    }
   ],
   "source": [
    "bar = tbm.bars[100]\n",
    "Nc = bar.barbackleft.GetNodeFore(bar.barbackleft.nodeback == bar.nodeback)\n",
    "\n",
    "lam = 0.5\n",
    "c = Nc.p\n",
    "#GeoCrossBar(c, bar, lam)\n",
    "\n",
    "Na, Nb = bar.nodeback, bar.nodefore\n",
    "Ne = bar.barforeright.GetNodeFore(bar.barforeright.nodeback == bar.nodefore)\n",
    "GeoCrossAxis(Na.p, Nb.p, c, lam, Ne.p)\n"
   ]
  },
  {
   "cell_type": "code",
   "execution_count": 128,
   "id": "2aa38de9",
   "metadata": {},
   "outputs": [
    {
     "data": {
      "text/plain": [
       "(P3(-1.7274575140626311, -2.3776412907378845, -4.045084971874737),\n",
       " P3(3.599146639029983e-16, -2.938926261462366, -4.045084971874737),\n",
       " P3(1.8921833652170753e-16, -1.5450849718747373, -4.755282581475767),\n",
       " 0.5,\n",
       " P3(-2.3776412907378837, -3.272542485937369, -2.938926261462366))"
      ]
     },
     "execution_count": 128,
     "metadata": {},
     "output_type": "execute_result"
    }
   ],
   "source": [
    "(Na.p, Nb.p, c, lam, Ne.p)"
   ]
  },
  {
   "cell_type": "code",
   "execution_count": null,
   "id": "3b2dc797",
   "metadata": {},
   "outputs": [],
   "source": []
  }
 ],
 "metadata": {
  "kernelspec": {
   "display_name": "Python 3 (ipykernel)",
   "language": "python",
   "name": "python3"
  },
  "language_info": {
   "codemirror_mode": {
    "name": "ipython",
    "version": 3
   },
   "file_extension": ".py",
   "mimetype": "text/x-python",
   "name": "python",
   "nbconvert_exporter": "python",
   "pygments_lexer": "ipython3",
   "version": "3.9.6"
  }
 },
 "nbformat": 4,
 "nbformat_minor": 5
}
