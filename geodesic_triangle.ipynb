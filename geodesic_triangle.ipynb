{
 "cells": [
  {
   "cell_type": "code",
   "execution_count": 1,
   "id": "7e81edd3",
   "metadata": {},
   "outputs": [],
   "source": [
    "from collections import namedtuple\n",
    "import math\n",
    "\n",
    "class P3(namedtuple('P3', ['x', 'y', 'z'])):\n",
    "    __slots__ = ()\n",
    "    def __new__(self, x, y, z):\n",
    "        return super(P3, self).__new__(self, float(x), float(y), float(z))\n",
    "    def __repr__(self):\n",
    "        return \"P3(%s, %s, %s)\" % (self.x, self.y, self.z)\n",
    "    def __add__(self, a):\n",
    "        return P3(self.x + a.x, self.y + a.y, self.z + a.z)\n",
    "    def __sub__(self, a):\n",
    "        return P3(self.x - a.x, self.y - a.y, self.z - a.z)\n",
    "    def __mul__(self, a):\n",
    "        return P3(self.x*a, self.y*a, self.z*a)\n",
    "    def __neg__(self):\n",
    "        return P3(-self.x, -self.y, -self.z)\n",
    "    def __rmul__(self, a):\n",
    "        raise TypeError\n",
    "    def Lensq(self):\n",
    "        return self.x*self.x + self.y*self.y + self.z*self.z\n",
    "    def Len(self):\n",
    "        return math.sqrt(self.Lensq())\n",
    "    def LenLZ(self):\n",
    "        return math.sqrt(self.x*self.x + self.y*self.y)\n",
    "        \n",
    "        \n",
    "    def assertlen1(self):\n",
    "        assert abs(self.Len() - 1.0) < 0.0001\n",
    "        return True\n",
    "        \n",
    "    @staticmethod\n",
    "    def Dot(a, b):\n",
    "        return a.x*b.x + a.y*b.y + a.z*b.z\n",
    "\n",
    "    @staticmethod\n",
    "    def Cross(a, b):\n",
    "        return P3(a.y*b.z - b.y*a.z, -a.x*b.z + b.x*a.z, a.x*b.y - b.x*a.y)\n"
   ]
  },
  {
   "cell_type": "code",
   "execution_count": 23,
   "id": "1d8ed293",
   "metadata": {},
   "outputs": [],
   "source": [
    "# ab is the triangle edge axis, d is crossing point on axis coming from c\n",
    "# e is point of triangle to right of axis\n",
    "Ga = P3(0,0,0)\n",
    "Gb = P3(0,1,0)\n",
    "lam = 0.31\n",
    "Gc = P3(-1,0.3,0)\n",
    "Ge = P3(1,0.5,0)\n"
   ]
  },
  {
   "cell_type": "code",
   "execution_count": 31,
   "id": "60f5ddc7",
   "metadata": {},
   "outputs": [
    {
     "data": {
      "text/plain": [
       "(True, 0.6326530612244927)"
      ]
     },
     "execution_count": 31,
     "metadata": {},
     "output_type": "execute_result"
    }
   ],
   "source": [
    "# axis is a b\n",
    "# incoming at d = Along(lam, a, b)\n",
    "# incoming from c to d \n",
    "# incoming (d - c).(b - a) = |d-c||b-a|cos(theta) = |d-c|I\n",
    "# I = |b-a|cos(theta) = (d - c).(b - a)/|d-c|\n",
    "\n",
    "# triangle on right hand side is to e\n",
    "# outgoing to x where x = Along(q, a, e) or x = Along(q, b, e)\n",
    "# Solve (x - d).(b - a) = |x-d||b-a|cos(theta) = |x-d|I\n",
    "\n",
    "# Set d = 0, v = b - a\n",
    "# x.v = |x|I  where x = a + (e - a)*q = a + f*q\n",
    "# x.x I^2 = (x.v)^2\n",
    "\n",
    "# x.x I^2 = (a + f*q)^2 I^2 = q^2 f^2 I^2 + 2q a.f I^2 + a^2 I^2\n",
    "#   =\n",
    "# (x.v)^2 = (a.v + f.v*q)^2 = q^2 (f.v)^2 + 2q (a.v)(f.v) + (a.v)^2\n",
    "# q^2 ((f.v)^2 - f^2 I^2) + 2q ((a.v)(f.v) - a.f I^2) + (a.v)^2 - a^2 I^2\n",
    "\n",
    "def Square(X):\n",
    "    return X*X\n",
    "def TOL_ZERO(X):\n",
    "    if not (abs(X) < 0.0001):\n",
    "        print(\"TOL_ZERO fail\", X)\n",
    "\n",
    "def GeoCrossAxisE(a, Vae, Vab, Isq, Isgn):\n",
    "    fdv = P3.Dot(Vae, Vab)\n",
    "    adv = P3.Dot(a, Vab)\n",
    "    adf = P3.Dot(a, Vae)\n",
    "    qA = Square(fdv) - Vae.Lensq()*Isq\n",
    "    qB2 = adv*fdv - adf*Isq\n",
    "    qC = a.Lensq() * (1 - Isq)\n",
    "    \n",
    "    qdq = Square(qB2) - qA*qC\n",
    "    if qdq < 0.0:\n",
    "        return -1.0\n",
    "    qs = math.sqrt(qdq) / qA\n",
    "    qm = -qB2 / qA\n",
    "    q = qm + qs*Isgn\n",
    "    # q = qs +- qm,  x = a + Vae*q,  Dot(x, Vab) same sign as Dot(Vcd, Vab)\n",
    "    if abs(q) < 100:\n",
    "        TOL_ZERO(qA*Square(q) + qB2*2*q + qC)\n",
    "    return q\n",
    "\n",
    "def GeoCrossAxis(Ga, Gb, Gc, lam, Ge):\n",
    "    Vab = Gb - Ga\n",
    "    Gd = Ga + Vab*lam\n",
    "    Vcd = Gd - Gc\n",
    "    cdDab = P3.Dot(Vcd, Vab)\n",
    "    Isq = Square(cdDab) / Vcd.Lensq()\n",
    "    Isgn = -1 if cdDab < 0 else 1\n",
    "    qVae = GeoCrossAxisE(Ga - Gd, Ge - Ga, Vab, Isq, Isgn)\n",
    "    qVbe = GeoCrossAxisE(Gb - Gd, Ge - Gb, -Vab, Isq, -Isgn)\n",
    "    bAEcrossing = (abs(qVae - 0.5) < abs(qVbe - 0.5))\n",
    "    q = qVae if bAEcrossing else qVbe\n",
    "    Gx = (Ga + (Ge - Ga)*q) if bAEcrossing else (Gb + (Ge - Gb)*q)\n",
    "    Dx = Gx - Gd\n",
    "    TOL_ZERO(P3.Dot(Vcd, Vab)/Vcd.Len() - P3.Dot(Dx, Vab)/Dx.Len())\n",
    "    return bAEcrossing, q\n",
    "    \n",
    "GeoCrossAxis(Ga, Gb, Gc, lam, Ge)\n",
    "\n",
    "#        assert abs(qc + (qm + qs)*(2*qb2 + (qm + qs)*self.vpsq)) < 0.002\n",
    "#        if qm + qs <= 0.0:\n",
    "#            return\n",
    "#        laml = qm - qs\n"
   ]
  },
  {
   "cell_type": "code",
   "execution_count": 91,
   "id": "f56e59ed",
   "metadata": {},
   "outputs": [
    {
     "data": {
      "text/plain": [
       "(0.009999500037496884, 0.00999950003749914, -0.009999500037499243)"
      ]
     },
     "execution_count": 91,
     "metadata": {},
     "output_type": "execute_result"
    }
   ],
   "source": [
    "x0, x1\n",
    "# Solve (x - d).(b - a) = |x-d||b-a|cos(theta) = |x-d|I\n",
    "math.sqrt(Isq), P3.Dot(x0, Vab)/x0.Len(), P3.Dot(x1, Vab)/x1.Len()"
   ]
  },
  {
   "cell_type": "code",
   "execution_count": 83,
   "id": "b1016038",
   "metadata": {},
   "outputs": [
    {
     "data": {
      "text/plain": [
       "(0.6, 0.0, 0.6, 0.0, 0.6, 0.6)"
      ]
     },
     "execution_count": 83,
     "metadata": {},
     "output_type": "execute_result"
    }
   ],
   "source": [
    "l, qs, qm, qdq, q0, q1"
   ]
  },
  {
   "cell_type": "code",
   "execution_count": 75,
   "id": "536f7009",
   "metadata": {},
   "outputs": [
    {
     "data": {
      "text/plain": [
       "(0.25, -0.15, 0.09)"
      ]
     },
     "execution_count": 75,
     "metadata": {},
     "output_type": "execute_result"
    }
   ],
   "source": [
    "qA, qB2, qC"
   ]
  },
  {
   "cell_type": "code",
   "execution_count": 72,
   "id": "dcc89b70",
   "metadata": {},
   "outputs": [
    {
     "data": {
      "text/plain": [
       "-0.3"
      ]
     },
     "execution_count": 72,
     "metadata": {},
     "output_type": "execute_result"
    }
   ],
   "source": [
    "adv"
   ]
  },
  {
   "cell_type": "code",
   "execution_count": null,
   "id": "ea726467",
   "metadata": {},
   "outputs": [],
   "source": []
  }
 ],
 "metadata": {
  "kernelspec": {
   "display_name": "Python 3 (ipykernel)",
   "language": "python",
   "name": "python3"
  },
  "language_info": {
   "codemirror_mode": {
    "name": "ipython",
    "version": 3
   },
   "file_extension": ".py",
   "mimetype": "text/x-python",
   "name": "python",
   "nbconvert_exporter": "python",
   "pygments_lexer": "ipython3",
   "version": "3.9.6"
  }
 },
 "nbformat": 4,
 "nbformat_minor": 5
}
