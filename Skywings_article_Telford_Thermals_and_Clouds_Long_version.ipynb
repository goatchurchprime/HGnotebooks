{
 "cells": [
  {
   "cell_type": "markdown",
   "metadata": {},
   "source": [
    "### Thermal theories as differential equations \n",
    "\n",
    "Sometimes I don't think these top pilots know what they're talking about.  They do what they do by feel, but that doesn’t mean they can explain it accurately enough to make a difference-- and I studied their explanations at great length.  So I tried to improve my flying by carrying every type of micro-electronic sensor and data logger on my base-bar in various un-aerodynamic 3D printed boxes.  I can report that none of this did any good either.  \n",
    "\n",
    "My sensor data did, however, raise many questions-- none of which made sense to the same top pilots.  What’s the temperature of a thermal?  How come the air is really dry above cloudbase outside of a cloud?  Why do clouds disappear so soon after they are formed?    \n",
    "\n",
    "[Box 1: Tephigrams from a wave flight showing dry air]\n",
    "\n",
    "Over Christmas I stumbled onto a hoard of open access papers published by the [Journal of Atmospheric Sciences](https://www.ametsoc.org/ams/index.cfm/publications/journals/journal-of-the-atmospheric-sciences/) which included a body of work by [Dr J W Telford](https://journals.ametsoc.org/author/Telford%2C+James+W).  My favourite paper of his from 1966 is titled [The Convective Mechanism in Clear Air](https://journals.ametsoc.org/doi/abs/10.1175/1520-0469%281966%29023%3C0652%3ATCMICA%3E2.0.CO%3B2), which sought to answer the question: *Why do thermals maintain a constant diameter all the way up instead of constantly expanding like a cone of smoke?* \n"
   ]
  },
  {
   "cell_type": "markdown",
   "metadata": {},
   "source": [
    "\n",
    "The cone of smoke theory, known as the \"Similarity Model\" had been put forth in the 1955 paper [Turbulent gravitational convection from maintained and instantaneous sources](http://rspa.royalsocietypublishing.org/content/234/1196/1), and was based on laboratory experiments suggesting that a rising plume of turbulent air will expand steadily with height, with every horizontal layer of gaseous development being geometrically similar to a previous lower layer, but bigger, as the plume entrains more and more of the surrounding air.  \n",
    "\n",
    "Telford thought this was a ridiculous idea, because then there would be no room for the air to come back down.  He wrote:\n",
    "\n",
    ">The direct use of the similarity model thermal to populate a thermal field is inherently objectionable since these thermals diverge uniformly with height.  Observations show an appreciable fraction, perhaps as much as half, of the total field is occupied by thermals.  Thus, at increasing heights the decreasing area available for the compensating downdrafts would demand increasing downdraft speeds.  We would thus need to envisage some unexplained mechanism to accelerate downward the slowly moving updraft at the turnover level.\n",
    "\n",
    "In place of this theory, Telford proposed four differential equations governing a steady-state rising plume of warm air from ground to cloudbase, which works like this:  \n",
    "\n",
    "Imagine there is no friction and no mixing between the rising column of warm air and its surrounding atmosphere.  This column will accelerate with the force of bouyancy and become stretched and narrow, like a jar of honey being poured out, but seen upside down.  \n",
    "\n",
    "However friction does exist, so as the column of air grows thinner and faster it presents a greater surface area to volume ratio and generates turbulance at its interface.  This higher turbulence entrains the surrounding air, which serves to bulk out the thermal and slow it down.  A fatter, slower thermal entrains proportionally less air.  And so there is a diameter where these tendencies are balanced out, resulting in a thermal plume that maintains a constant diameter most of the way to cloudbase.  Curiously, the vertical velocity can vary by 50% -- even with a steady lapse rate.  \n"
   ]
  },
  {
   "cell_type": "markdown",
   "metadata": {},
   "source": [
    "\n",
    "[Box 2: Simulations of Telford’s equations]\n",
    "\n",
    "But what of this lapse rate?  Why does it always seem to be steady and exactly on the side of stability?  An answer to this mystery few have wondered about was proposed in Telford's 1970 paper [Convective Plumes in a Convective Field](https://journals.ametsoc.org/doi/abs/10.1175/1520-0469%281970%29027%3C0347%3ACPIACF%3E2.0.CO%3B2):\n",
    "\n",
    ">Imagine a recirculating convective field wherein the warm air rises in plumes from the surface to some height above which the overlying air is stable and warmer than in the field below.  At this height the warm air is no longer buoyant, so as the circulation continues it must turn around and subside back to the surface.  At the surface the subsiding air is heated by an amount depending on the sunlight.  It then enters the updraft again, and thereby completes the circulation cycle.\n",
    "\n",
    "If the temperature of the ground (and the air leaving the ground) increases at a rate of 1°C per hour as the day warms up, and if the same air takes 1 hour to complete this cycle from the ground up to the clouds and back to the ground, then this temperature gradient will be spread evenly along the air in this cycle.  In particular, outside the thermal in the sinking air, the higher air is younger, so its potential temperature is warmer, which means it is slightly stable.  The quicker the day is warming at the hour, the deeper will be the stability.  \n",
    "\n",
    "Telford's more sophisticated 1970 theory modelled a thermal plume complete with a sleeve of descending air.  He concluded:\n",
    "\n",
    ">At first sight, the width of the plumes and the assumption of uniformity appear quite inconsistent.  It seems surprising that there can be sufficient horizontal transport in a few meters of disorganized surface air to feed the bottom of a plume a hundred times this size at more than 1m/s.  This appears, however, to be what actually occurs at the surface. A possible explanation is that the plume can be fed by moving around over the thin surface layer, gathering the hotter air from in front of it and leaving behind cooler air from the downdraft.  Thus, the hot surface layer is peeled away to rise up in the plumes, and the base of the plume, therefore, can be expected to move horizontally at several times its vertical velocity.  \n",
    "\n",
    ">Since the surface air is appreciably hotter than in the updraft, some of the downdraft air can return to the updraft without entering in the lowest layers; only some of the updraft air experiences the maximum heating.  Since the position where the new hot air enters the plume at the base is always moving away from the position where the earlier air began to rise, the base of the plume must always move relative to the air in the forced convection layer.  Aloft, the plumes must move more slowly than the average wind since they must transport upward the horizontal momentum arising from the wind drag at the surface.  Thus, the surface layer peels off and flows into the plume on the upwind side.  \n",
    "\n",
    ">Mixing of the descending air into the plume probably occurs mostly on the hotter upwind side because it does, in fact, lean with the wind.  Thus, small buoyant elements rising through the plume itself break through this side and promote mixing...  In a similar way erosion from the plume probably occurs at a high rate from only a part of the boundary.  There are likely to be cooler pieces on the lower downward side which erode, and here detrainment is enhanced because these pieces are left below the underside as the more buoyant portions migrate upwards.\n"
   ]
  },
  {
   "cell_type": "markdown",
   "metadata": {},
   "source": [
    "### Let's talk about the clouds.  \n",
    "\n",
    "According to our gliding textbooks, the rising thermal is supposed to get an extra kick when it reaches the dewpoint due to what we call the Saturated Adiabatic Lapse Rate, where the water condenses out of the air into liquid droplets and releases its latent heat of vapourization giving it more warmth and energy to rise.  \n",
    "\n",
    "This theory was already known to be false in 1947 from balloon and aircraft observations.  Clouds are always colder and less moist than the theory predicts.  \n",
    "\n",
    "Telford's colleague, Dr Patrick Squires, came up with the most likely explanation of this phenomenon in his 1957 paper [Penetrative Downdraughts in Cumuli](http://onlinelibrary.wiley.com/doi/10.1111/j.2153-3490.1958.tb02025.x/pdf).  \n",
    "\n",
    "Here's how it goes.\n",
    "\n",
    "Take a tall damp warm cloud standing proudly in the atmosphere.  Suppose that a packet of dry air at its peak is stirred into this cloudy air.  The tiny water droplets will immediately evapourate into the dry air, absorb latent heat, and chill out the air.  This body of mixed cold dry air (now carrying slightly more water vapour than before, bot nowhere near saturated) will accelerate downwards into the cloud under its own weight, becoming bigger and more chilled as it evapourates all the cloudy air it mixes with.  How far does it go before it becomes fully saturated with water?  All calculations suggest that it can penetrate down as far as cloudbase.  \n",
    "\n",
    "Most of these scientific papers follow the same outline: Some waffle at the beginning that fails to properly state the basic physics, a series of hard-to-follow pages of dodgy differential equations based on some brutal simplifications, then a table of numbers calculated from the mathematics, and finally a citations section pointing you to yet more stuff you need to read.  \n"
   ]
  },
  {
   "cell_type": "markdown",
   "metadata": {},
   "source": [
    "\n",
    "Very occasionally there's a bit of insight.  One such quote can be found in Emanual's 1980 paper [A similarity Theory for Unsaturated Downdrafts within Clouds](https://journals.ametsoc.org/doi/abs/10.1175/1520-0469%281981%29038%3C1541%3AASTFUD%3E2.0.CO%3B2) which revived the conical plume theory refuted by Telford for dry thermals, except upside down in wet cloudy air.  \n",
    "\n",
    ">In dry thermals or plumes, the maximum magnitudes of the buoyancy and vertical velocity generally occur near the central axis, and the radial profiles are observed to conform roughly to Gaussian distributions.  \n",
    "\n",
    ">However the penetrative downdrafts inside clouds contain an unsaturated core and since most of the evaporation occurs away from the central axis the magnitude of the negative buoyancy should decrease as the downdraft expands, leading to reversed momentum generation along the central axis and a breakup of the downdraft into smaller entities.  This branching behavior should continue indefinitely, as long as there remains cloudwater available for evaporation...  Thus an inert cloud whose top is unstable will continue to cool and dry through its entire depth by action of penetrative thermals until it dissipates entirely.  \n",
    "\n",
    "It's a great story.  Who knows if it’s true or whether it can guide us as to what causes these sudden patches of sinky air that are so good at decking me just when I think I’m doing well. \n",
    "\n",
    "We must be reminded that not a single one of these scientists makes any reference to the sport of gliding.  They do not care what these clouds look like to the eye.  We need an optical scientist to tell us whether the spectra of water droplet sizes observed and simulated in fresh vs stale cloudy air makes it appear darker in the sunlight.  Maybe the colour to look for has nothing to do with the cloud’s vertical development, and the top pilots have merely rationalized it as that, when really their eyes have learnt to feel some sort of indefinable pearly character of the cloud’s whiteness indicating youth and vigour.\n"
   ]
  },
  {
   "cell_type": "markdown",
   "metadata": {},
   "source": [
    "\n",
    "In science it's easy to get on the wrong track.  There is an undercurrent of controversy in the field.  The author of this 1980 paper added:\n",
    "\n",
    ">The dominant role of penetrative downdrafts in cumulus dynamics casts some doubt on the validity of many numerical simulations of small convective clouds performed to date.  The very small horizontal scale together with the substantial vertical extent of penetrative downdrafts suggests that they can neither be resolved explicitly within most models, nor can their existence be accounted for through the use of the type of turbulence parametrizations currently employed.\n",
    "\n",
    "After another sixteen years of exponential computer growth, Telford penned a more full-on rant in his 1996 paper [Clouds with turbulence; the role of entrainment](https://www.sciencedirect.com/science/article/pii/0169809595000380) (not open access):\n",
    "\n",
    ">Modelling of clouds depends largely on assertions chosen for their ease of application in numerical development, and which appeal uncritically to earlier use for justification.  The process seems to proceed in a glow of virtual reality where the proponents gather together to fend off any logical analysis based on the data and to contribute to large observational efforts, plans which cleverly exclude any crucial tests, such as \"Does the assumed radiation from the cloud tops actually cool them?\"  It is very unforunate that \"cloud dynamics\" has come to imply computer programs rather than relevant observations...\n",
    "\n",
    ">After forty years of intensive study it is not yet known how to calculate updraft velocities to match the observations, or how long the cloud top entrainment must continue to dilute the cloud so as to evaporate all the drops and create the downshear side of the cloud, or how long the cloud will last.  There is as yet no trustworthy procedure for determining the lifetime of a small cumulus cloud, although calculations abound and new explanations are being considered.  Here the turbulence concepts play a role which current modelling approaches strenuously attempt to ignore, possibly because computer advocates are confused by the measurements and feel that the efforts they put into the computations deserve recognition.\n",
    "\n",
    "To us, and to Telford, observations matter.  The following excerpt from the same paper seems so relevant to the intuitions we talk about amongst ourselves that it's worth quoting at length, even though I have now completely busted through my word limit:\n",
    "\n",
    ">This observed distribution of liquid water is inconsistent with a typical model in which cloudy air rises in the middle and descends at the edges, being diluted by entraining subsaturated air through its sides. The data are also inconsistent with any flow into the center of the base, as is sometimes suggested both by the computer models and buoyant blobs in water tanks. Since the cloud is observed to be more diluted near its top, it is clear that the subsaturated air is mixed in down from the top surface and progressively penetrates deeper and deeper.\n",
    "\n",
    ">Additional observations clarify what happens whenever such a cloud forms. First the liquid water mixing ratio is higher on the upshear growing side and decreases to about half this value on reaching the downshear edge. Thus, the upshear edge is less diluted since it is there that the new growth first forms. As the cloudy columns are further surrounded in front (upshear) by new cloud, the new upshear edges remain the least diluted. As the cloud columns age they entrain subsaturated air from above and pass through the center of the cloud until they are diluted and cooled to the point where the column subsides and totally evaporates, so establishing the downshear edge.\n",
    "\n",
    ">This description explains earlier observations that the cloudy outline moves through the air in the upwind direction. It was observed that there is very little motion relative to the cloud in the clear subsaturated air just beyond the cloud boundaries at mid level, so the air is not being pushed aside to allow the cloud to pass, as would occur around a rigid shell like a dirigible. The cloud outline moves in the embedding air mass by the creation of new cloud on the upshear side by vertical growth, and the evaporation of the older, diluted cloud columns on the downshear side, which forms the other edge that follows along.\n",
    "\n",
    ">There is no effective vertical motion in the surrounding clear air because it follows the wet adiabat in its sounding, which is very stable for parcels not containing cloud water. In this original observation the conclusion was strengthened by the fact that the shear direction and the cloud movement through the surrounding air were both across wind, which makes explanations suggesting the wind is blowing around the cloud rather implausible. The compensating downward flow probably follows a slight divergence all around the growing cloud with a very slow subsidence over a large area.\n",
    "\n",
    ">Other observations, such as that of the large area of disturbed turbulent air surrounding the downshear side of such clouds confirm that the attached region of evaporated former cloud is often about as large as the cloud itself.  It remains in place after its cloudy content has evaporated, following the diluting cycle in which the cloudy columns cross the cloud from where they began on the upshear edge. Detailed measurements show that the area beyond the downshear edge remains disturbed in all three components of velocity, temperature and moisture. The upshear edge is often observed to be extremely sharp, with less than a meter in the transition from undisturbed subsaturated air ahead to that within the cloud itself. Clouds frequently grow in the modified air remaining after previous clouds have evaporated. Thus there are probably occasions when the air in front of the cloud differs from this observation some distance away although this air has not ever been part of the same cloud.\n",
    "\n",
    "But what now?  Here we are, twenty years of computer development later, and this controversy of turbulence missing from the computer models must have been resolved.  I think it’s in these **Large Eddy Simulations**.  I have so far found three different free software programs that implement an LES on my laptop, but the scientific papers describing them are wholly impenetrable.  There are answers here, such as what exactly is wave lift and how exactly does the air move near to thermals.  Phenomenon such as these are of no scientific interest, so we must help ourselves to the software.  \n",
    "\n",
    "Someone should look into this.\n",
    "\n"
   ]
  },
  {
   "cell_type": "code",
   "execution_count": null,
   "metadata": {
    "collapsed": true
   },
   "outputs": [],
   "source": [
    "-----------------\n",
    "-----------------\n",
    "Box 1\n",
    "We use the Tephigram plot of the changing temperature and dewpoint values to predict the instability in the air and height of the cloudbase.  \n",
    "\n",
    "We get used to ignoring what is directly in front of our eyes, such as the temperature profile of the atmosphere at 40,000ft.  How will that ever make any difference?  \n",
    "\n",
    "But I never saw the sudden drop in humidity which usually occurs at the same altitude as the inversion at cloudbase until I flew with my own sensors on a high altitude wave flight and plotted my own tephigram from my data.\n",
    "\n",
    "Image: tephigram_rasp.png\n",
    "Image: tephigram_obs.png\n",
    "\n",
    "The transition was very sharp (unlike the official plot), and I have no good explanation for it.  However, the theory about clouds says that this dryness and temperature will determin the vigour of the downdrafts that causes the clouds to evapourate.\n",
    "\n",
    "Box 2\n",
    "Simulations of Telford’s equations of a thermal plume with various input parameters in a nearly unstable atmosphere (lapse rate the same as adiabatic cooling rate).  The thermals we experience on a particular day will vary in initial size and temperature.  The diameter of each simulated thermal above the ground is shown in horizontally in the diagrams, and the colour represents the upward velocity.  Hotter thermals are slightly narrower and faster in their intermediate zones, but then weaken towards cloudbase.  All thermals tend to reach the same diameter higher up, while those that began smaller will have less velocity and no neck at the intermediate altitude.  \n",
    "\n",
    "plumestemp.png\n",
    "plumesrad.png\n",
    "\n",
    "Equations are simulated at:\n",
    "   https://github.com/goatchurchprime/HGnotebooks/blob/master/telford_equations.ipynb\n",
    "\n",
    "\n"
   ]
  }
 ],
 "metadata": {
  "kernelspec": {
   "display_name": "Python 3",
   "language": "python",
   "name": "python3"
  },
  "language_info": {
   "codemirror_mode": {
    "name": "ipython",
    "version": 3
   },
   "file_extension": ".py",
   "mimetype": "text/x-python",
   "name": "python",
   "nbconvert_exporter": "python",
   "pygments_lexer": "ipython3",
   "version": "3.6.1"
  }
 },
 "nbformat": 4,
 "nbformat_minor": 2
}
