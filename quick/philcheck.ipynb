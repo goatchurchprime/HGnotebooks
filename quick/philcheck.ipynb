{
 "cells": [
  {
   "cell_type": "code",
   "execution_count": 7,
   "id": "0c8d34fa",
   "metadata": {},
   "outputs": [],
   "source": [
    "from collections import namedtuple\n",
    "class P3(namedtuple('P3', ['x', 'y', 'z'])):\n",
    "    __slots__ = ()\n",
    "    def __new__(self, x, y, z):\n",
    "        return super(P3, self).__new__(self, float(x), float(y), float(z))\n",
    "    def __repr__(self):\n",
    "        return \"P3(%s, %s, %s)\" % (self.x, self.y, self.z)\n",
    "    def __add__(self, a):\n",
    "        return P3(self.x + a.x, self.y + a.y, self.z + a.z)\n",
    "    def __sub__(self, a):\n",
    "        return P3(self.x - a.x, self.y - a.y, self.z - a.z)\n",
    "    def __mul__(self, a):\n",
    "        return P3(self.x*a, self.y*a, self.z*a)\n",
    "    def __neg__(self):\n",
    "        return P3(-self.x, -self.y, -self.z)\n",
    "    def __rmul__(self, a):\n",
    "        raise TypeError\n",
    "    def Len(self):\n",
    "        return math.sqrt(self.Lensq())\n"
   ]
  },
  {
   "cell_type": "code",
   "execution_count": 8,
   "id": "1eacd4bf",
   "metadata": {},
   "outputs": [],
   "source": [
    "tableA = \"\"\"PS-30\t1029.233\t892.899\t89.966\n",
    "PS-32\t1013.393\t901.363\t88.609\n",
    "PS-33\t1002.611\t893.677\t87.161\n",
    "PS-34\t995.771\t864.041\t87.84\n",
    "PS-40\t989.341\t808.613\t88.165\n",
    "PS-41\t983.221\t800.487\t88.101\n",
    "PS-42\t966.744\t798.069\t87.665\n",
    "PS-43\t949.726\t802.082\t87.44\n",
    "PS-44\t936.758\t810.914\t89.936\n",
    "PS-45\t929.886\t811.71\t89.923\n",
    "PS-46\t931.155\t808.224\t88.743\n",
    "PS-47\t948.513\t778.756\t88.232\n",
    "PS-48\t969.873\t741.56\t88.518\"\"\"\n",
    "\n",
    "tableB = \"\"\"RC-3\t-0.8719115\t-0.1605895\t0.1528525\n",
    "PS-30\t-9.133232\t-3.872512\t2.0578425\n",
    "PS-32\t-21.4957275\t9.1209335\t0.4676555\n",
    "PS-33\t-34.132475\t5.2050285\t-0.976403\n",
    "HL-2\t-45.039895\t-10.5937175\t-0.7546855\n",
    "PS-34\t-49.847128\t-20.815806\t-0.235636\n",
    "HL-3\t-51.003669\t-23.428265\t-1.159484\n",
    "HL-4\t-61.762859\t-45.1562445\t-1.0792755\n",
    "PS-40\t-73.2166535\t-71.434395\t0.161769\n",
    "HL-5\t-76.278865\t-73.036699\t-0.491414\n",
    "PS-41\t-81.552117\t-77.2180285\t0.113492\n",
    "PS-42\t-97.980248\t-74.3958075\t-0.263235\n",
    "HL-6\t-116.143945\t-59.649841\t-0.449733\n",
    "HL-7\t-127.26588\t-53.486088\t-0.4225325\n",
    "PS-47\t-121.1764025\t-86.9554885\t0.371472\n",
    "HL-8\t-116.5672665\t-111.969516\t0.015746\n",
    "PS-48\t-112.3144305\t-128.944153\t0.469719\n",
    "PS-U11\t-93.812492\t-145.003006\t0.51986\n",
    "HL-11\t-112.14007\t-134.9020655\t0.2461755\n",
    "PS-U12\t-120.452219\t-130.5366\t0.040576\"\"\"\n",
    "\n",
    "\n"
   ]
  },
  {
   "cell_type": "code",
   "execution_count": 17,
   "id": "09776de7",
   "metadata": {},
   "outputs": [
    {
     "data": {
      "text/plain": [
       "{'PS-30': P3(1029.233, 892.899, 89.966),\n",
       " 'PS-32': P3(1013.393, 901.363, 88.609),\n",
       " 'PS-33': P3(1002.611, 893.677, 87.161),\n",
       " 'PS-34': P3(995.771, 864.041, 87.84),\n",
       " 'PS-40': P3(989.341, 808.613, 88.165),\n",
       " 'PS-41': P3(983.221, 800.487, 88.101),\n",
       " 'PS-42': P3(966.744, 798.069, 87.665),\n",
       " 'PS-43': P3(949.726, 802.082, 87.44),\n",
       " 'PS-44': P3(936.758, 810.914, 89.936),\n",
       " 'PS-45': P3(929.886, 811.71, 89.923),\n",
       " 'PS-46': P3(931.155, 808.224, 88.743),\n",
       " 'PS-47': P3(948.513, 778.756, 88.232),\n",
       " 'PS-48': P3(969.873, 741.56, 88.518)}"
      ]
     },
     "execution_count": 17,
     "metadata": {},
     "output_type": "execute_result"
    }
   ],
   "source": [
    "def convtable(table):\n",
    "    return dict((k[0], P3(float(k[1]),float(k[2]),float(k[3])))  for k in (l.split()  for l in table.split(\"\\n\")))\n",
    "ptsA = convtable(tableA)\n",
    "ptsB = convtable(tableB)\n",
    "ptsA"
   ]
  },
  {
   "cell_type": "code",
   "execution_count": 19,
   "id": "86091832",
   "metadata": {},
   "outputs": [
    {
     "data": {
      "text/plain": [
       "P3(1048.8959127615385, 885.8920276403848, 88.54530038653847)"
      ]
     },
     "execution_count": 19,
     "metadata": {},
     "output_type": "execute_result"
    }
   ],
   "source": [
    "avgA = sum(ptsA.values(), P3(0,0,0))*(1.0/len(ptsA))\n",
    "avgB = sum(ptsB.values(), P3(0,0,0))*(1.0/len(ptsB))\n",
    "vecBA = avgA - avgB\n",
    "vecBA"
   ]
  },
  {
   "cell_type": "code",
   "execution_count": 20,
   "id": "11696ebe",
   "metadata": {},
   "outputs": [
    {
     "data": {
      "text/plain": [
       "<matplotlib.collections.PathCollection at 0x7fa1dd2af370>"
      ]
     },
     "execution_count": 20,
     "metadata": {},
     "output_type": "execute_result"
    },
    {
     "data": {
      "image/png": "[encoded data removed]",
      "text/plain": [
       "<Figure size 432x288 with 1 Axes>"
      ]
     },
     "metadata": {
      "needs_background": "light"
     },
     "output_type": "display_data"
    }
   ],
   "source": [
    "from matplotlib import pyplot as plt\n",
    "%matplotlib inline\n",
    "\n",
    "plt.scatter([p[0] for p in ptsA.values()], [p[1] for p in ptsA.values()])\n",
    "plt.scatter([p[0]+vecBA[0] for p in ptsB.values()], [p[1]+vecBA[1] for p in ptsB.values()])\n"
   ]
  },
  {
   "cell_type": "code",
   "execution_count": null,
   "id": "c371ba7c",
   "metadata": {},
   "outputs": [],
   "source": []
  }
 ],
 "metadata": {
  "kernelspec": {
   "display_name": "Python 3 (ipykernel)",
   "language": "python",
   "name": "python3"
  },
  "language_info": {
   "codemirror_mode": {
    "name": "ipython",
    "version": 3
   },
   "file_extension": ".py",
   "mimetype": "text/x-python",
   "name": "python",
   "nbconvert_exporter": "python",
   "pygments_lexer": "ipython3",
   "version": "3.9.6"
  }
 },
 "nbformat": 4,
 "nbformat_minor": 5
}
