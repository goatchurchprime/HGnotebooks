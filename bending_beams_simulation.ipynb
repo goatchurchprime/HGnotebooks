{
 "cells": [
  {
   "cell_type": "code",
   "execution_count": 31,
   "metadata": {},
   "outputs": [
    {
     "data": {
      "text/plain": [
       "1.4142135623730951"
      ]
     },
     "execution_count": 31,
     "metadata": {},
     "output_type": "execute_result"
    }
   ],
   "source": [
    "#inline('sqrt(2)*an.*sin(pl*x)','x','an','pl'); # divide by L !!!!\n",
    "q = (lambda x, an, pl:  numpy.sqrt(2)*an*numpy.sin(pl*x))\n",
    "q(math.pi,1,0.5)"
   ]
  },
  {
   "cell_type": "code",
   "execution_count": 66,
   "metadata": {},
   "outputs": [],
   "source": [
    "import numpy, math\n",
    "\n",
    "l=0.6      # length in m\n",
    "b=0.06     # width beam also width piezoelement\n",
    "h=0.0034   # width and heigh in m\n",
    "rho=2700   # Alu kg/m^3\n",
    "E=65e9     # Pa                      \n",
    "nu=0.34    # poisson's ratio alu\n",
    "I=(b*h**3)/12   # Interia\n",
    "Ar=b*h     # section surface\n",
    "M=l*rho*Ar #  mass beam\n",
    "niu=0.03   # damping ratio (zeta)\n",
    "\n",
    "Nmodes=1;\n",
    "\n",
    "\n",
    "an = 1.000; # is for consistency of notation\n",
    "def bara(cond, A, I, L, E=1.9995E11, rho=7862.3, niu=0):\n",
    "    ing = numpy.arange(1, 31) # index valori modale\n",
    "    xmed = L/2;\n",
    "    \n",
    "    pl=(ing)*math.pi;\n",
    "    b = { }\n",
    "    b[\"an\"] = numpy.ones(len(pl));    # don't need it here !\n",
    "    \n",
    "    b[\"yp\"] = (lambda x, an, pl:  numpy.sqrt(2)*an*numpy.sin(pl*x)) # divide by L !!!!\n",
    "    b[\"yp1\"] = (lambda x, an, pl:  numpy.sqrt(2)*an*pl*numpy.cos(pl*x))\n",
    "    b[\"yp2\"] = (lambda x, an, pl:  -numpy.sqrt(2)*an*pl*pl*numpy.sin(pl*x));\n",
    "    b[\"yp3\"] = (lambda x, an, pl:  -numpy.sqrt(2)*an*pl*pl*pl*numpy.cos(pl*x));\n",
    "      \n",
    "         \n",
    "    b[\"sag\"] = L**3/48/E/I;\n",
    "    b[\"defl\"] = (lambda x, L, EI:   -(x**4 - 2*L*x**3 + L**3*x)/24/EI)\n",
    "#        b[\"Iyp\"] = inline('(1-cos(bl)).*(an./bl)','an','bl');\n",
    "        \n",
    "    b[\"pl\"] = pl;\n",
    "    b[\"om2\"] = (E*I/rho/A)*(pl/L)**4;          # omega squared\n",
    "    b[\"vcr\"] = numpy.sqrt(E*I/rho/A)*(pl[1]/L);\n",
    "    b[\"roA\"] = rho*A;\n",
    "    b[\"EI\"] = E*I;\n",
    "    b[\"niu\"] = 2*numpy.sqrt(b[\"om2\"])*niu;              # Damping factor zeta\n",
    "    b[\"L\"] = L;\n",
    "    b[\"NormX\"] = L;                            # norma lui X, ||X|| = L sau L/2\n",
    "    b[\"xmed\"] = xmed;\n",
    "    b[\"EIroA\"] = E*I/rho/A;\n",
    "    b[\"Mass\"] = rho*A*L;\n",
    "    b[\"I\"] = I;\n",
    "    b[\"A\"] = A;\n",
    "    return b\n",
    "    \n",
    "b = bara('sup',Ar,I,l,E,rho,niu);\n",
    "t0 = 0\n",
    "tfinal=1.5;\n",
    "x0 = numpy.zeros(Nmodes*2);\n",
    "v=0.55; #speed ball\n",
    "ml=0.5; # mass of the ball\n",
    "\n"
   ]
  },
  {
   "cell_type": "code",
   "execution_count": 152,
   "metadata": {},
   "outputs": [
    {
     "data": {
      "text/plain": [
       "array([ 2.        , -5.35674396])"
      ]
     },
     "execution_count": 152,
     "metadata": {},
     "output_type": "execute_result"
    }
   ],
   "source": [
    "#ssfmodelMLOL(t,x,b,v,Nmodes,ml)\n",
    "def ssfmodelMLOL(t, x, b, v, Nmodes, mass_Load):\n",
    "    xa = v*t;  # this is not an ordanary differential equation\n",
    "    L = b[\"L\"];\n",
    "    pl = b[\"pl\"][0:Nmodes]/L; # \n",
    "    an = b[\"an\"][0:Nmodes];\n",
    "    Mass = b[\"roA\"]*L*numpy.eye(Nmodes);\n",
    "    K = b[\"EI\"]*L*numpy.diag(pl**4);\n",
    "    D = numpy.diag(b[\"niu\"][0:Nmodes])*Mass;\n",
    "\n",
    "    dM = numpy.matmul(mass_Load*b[\"yp\"](v*t,an,pl), b[\"yp\"](v*t,an,pl))\n",
    "    dD= 2*numpy.matmul(mass_Load*v*b[\"yp\"](v*t,an,pl), b[\"yp1\"](v*t,an,pl))\n",
    "    dK=mass_Load*numpy.matmul(v**2*b[\"yp\"](v*t,an,pl), b[\"yp2\"](v*t,an,pl))\n",
    "\n",
    "    # added damping and stiffness shaker\n",
    "    Ka=numpy.matmul(12000*b[\"yp\"](0.5,an,pl), b[\"yp\"](0.5,an,pl));\n",
    "    Da=numpy.matmul(50*b[\"yp\"](0.5,an,pl), b[\"yp\"](0.5,an,pl));\n",
    "\n",
    "    if xa<=L:\n",
    "        As = numpy.matrix([[0, 1], \n",
    "                           [-(Mass+dM)*1/(K+dK+Ka), -(Mass+dM)*1/(D+dD+Da)]])\n",
    "        BF = numpy.matrix([[0], [-(Mass+dM)*1/b[\"yp\"](v*t,an,pl)]]);\n",
    "\n",
    "        xdot = As*(numpy.array([x]).T)+BF*(mass_Load*9.81);\n",
    "\n",
    "    elif xa>L: \n",
    "        As = numpy.matrix([[0, 1], \n",
    "                              [-(Mass)*1/(K+Ka), -(Mass)*1/(D+Da)]])\n",
    "\n",
    "        xdot = As*(numpy.array([x]).T);\n",
    "    return numpy.array(list(map(float, xdot)))  # we need to abolish numpy.matrix\n",
    "\n",
    "ssfmodelMLOL(1, numpy.array([1,2]), b, v, Nmodes, ml)\n",
    "\n"
   ]
  },
  {
   "cell_type": "code",
   "execution_count": 131,
   "metadata": {},
   "outputs": [
    {
     "data": {
      "text/plain": [
       "matrix([[ 2.        ],\n",
       "        [-0.03040028]])"
      ]
     },
     "execution_count": 131,
     "metadata": {},
     "output_type": "execute_result"
    }
   ],
   "source": [
    "x = numpy.array([1,2])\n",
    "#xdot = As@numpy.array([x]) + (BF*(mass_Load*9.81))\n",
    "xdot\n",
    "As*(numpy.array([x]).T)"
   ]
  },
  {
   "cell_type": "code",
   "execution_count": 123,
   "metadata": {},
   "outputs": [
    {
     "data": {
      "text/plain": [
       "matrix([[5],\n",
       "        [0]])"
      ]
     },
     "execution_count": 123,
     "metadata": {},
     "output_type": "execute_result"
    }
   ],
   "source": [
    "numpy.matrix([[0,1],[0,0]])*(numpy.array([[4,5]]).T)"
   ]
  },
  {
   "cell_type": "code",
   "execution_count": 124,
   "metadata": {},
   "outputs": [
    {
     "data": {
      "text/plain": [
       "matrix([[ 2.        , -5.35674396]])"
      ]
     },
     "execution_count": 124,
     "metadata": {},
     "output_type": "execute_result"
    }
   ],
   "source": [
    "xdot"
   ]
  },
  {
   "cell_type": "code",
   "execution_count": 80,
   "metadata": {},
   "outputs": [
    {
     "data": {
      "text/plain": [
       "matrix([[ 1.00000000e+00,  1.00000000e+00],\n",
       "        [-3.37981831e-05, -1.51832419e-02]])"
      ]
     },
     "execution_count": 80,
     "metadata": {},
     "output_type": "execute_result"
    }
   ],
   "source": [
    "#if xa<=L:\n",
    "As = numpy.matrix([[1, 1], [-(Mass+dM)*1/(K+dK+Ka), -(Mass+dM)*1/(D+dD+Da)]])\n",
    "As"
   ]
  },
  {
   "cell_type": "code",
   "execution_count": 154,
   "metadata": {},
   "outputs": [
    {
     "data": {
      "text/plain": [
       "<scipy.integrate._ode.ode at 0x7fc3a1d3f8d0>"
      ]
     },
     "execution_count": 154,
     "metadata": {},
     "output_type": "execute_result"
    }
   ],
   "source": [
    "import scipy.integrate\n",
    "\n",
    "ssfmodelMLOL(t,x,b,v,Nmodes,ml)\n",
    "\n",
    "\n",
    "\n",
    "r = scipy.integrate.ode(ssfmodelMLOL).set_integrator('vode', method='bdf', order=15)\n",
    "r.set_initial_value(x0, t0).set_f_params(b,v,Nmodes,ml)\n",
    "\n",
    "#t1 = 10\n",
    "#dt = 1\n",
    "#while r.successful() and r.t < t1:\n",
    "#    r.integrate(r.t+dt)\n",
    "\n",
    "#[t2,x2] = ode15s(@(t,x) ssfmodelMLOL(t,x,b,v,Nmodes,ml), t0:tfinal/500:tfinal,x0);\n",
    "#w2 = deflection(x2,b,[0.15 0.25 0.35])*1000; # deflection in mm\n",
    "#plot(t2,w2)"
   ]
  },
  {
   "cell_type": "code",
   "execution_count": 155,
   "metadata": {},
   "outputs": [
    {
     "name": "stderr",
     "output_type": "stream",
     "text": [
      "/home/julian/anaconda3/lib/python3.6/site-packages/ipykernel_launcher.py:22: RuntimeWarning: divide by zero encountered in true_divide\n",
      "/home/julian/anaconda3/lib/python3.6/site-packages/scipy/integrate/_ode.py:1009: UserWarning: vode: Repeated convergence failures. (Perhaps bad Jacobian supplied or wrong choice of MF or tolerances.)\n",
      "  self.messages.get(istate, unexpected_istate_msg)))\n"
     ]
    },
    {
     "data": {
      "text/plain": [
       "array([ 0., nan])"
      ]
     },
     "execution_count": 155,
     "metadata": {},
     "output_type": "execute_result"
    }
   ],
   "source": [
    "r.integrate(0.01)"
   ]
  },
  {
   "cell_type": "code",
   "execution_count": null,
   "metadata": {},
   "outputs": [],
   "source": []
  }
 ],
 "metadata": {
  "kernelspec": {
   "display_name": "Python 3",
   "language": "python",
   "name": "python3"
  },
  "language_info": {
   "codemirror_mode": {
    "name": "ipython",
    "version": 3
   },
   "file_extension": ".py",
   "mimetype": "text/x-python",
   "name": "python",
   "nbconvert_exporter": "python",
   "pygments_lexer": "ipython3",
   "version": "3.6.6"
  }
 },
 "nbformat": 4,
 "nbformat_minor": 2
}
