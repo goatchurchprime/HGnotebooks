{
 "cells": [
  {
   "cell_type": "code",
   "execution_count": 1,
   "id": "7ffc48d2",
   "metadata": {},
   "outputs": [
    {
     "name": "stdout",
     "output_type": "stream",
     "text": [
      "Parametrization in uv:  (0, 6.11206792886613) (-1.377293405726668, 1.377293405726668)\n"
     ]
    }
   ],
   "source": [
    "from basicgeo import P2, P3\n",
    "from wingshape import WingShape\n",
    "from parapolygraph import ParamPolyGraph\n",
    "import numpy, math\n",
    "\n",
    "wingshape = WingShape(\"P7-211221-XYZ geometry.csv\")        \n",
    "print(\"Parametrization in uv: \", wingshape.urange, wingshape.vrange)\n",
    "parapolygraph = ParamPolyGraph(wingshape, \"test7.json\", splineweight=0.8, legsampleleng=0.05)\n"
   ]
  },
  {
   "cell_type": "code",
   "execution_count": 2,
   "id": "28475cbb",
   "metadata": {},
   "outputs": [],
   "source": [
    "parapolygraph.splineinterplegsdata()\n",
    "polysnodes = parapolygraph.derivepolygons()\n"
   ]
  },
  {
   "cell_type": "code",
   "execution_count": 42,
   "id": "a0256099",
   "metadata": {},
   "outputs": [],
   "source": [
    "polynodes = polysnodes[5]\n",
    "polyloop = parapolygraph.splinedpolypoints(polynodes)\n"
   ]
  },
  {
   "cell_type": "code",
   "execution_count": 43,
   "id": "30ef2511",
   "metadata": {},
   "outputs": [],
   "source": [
    "import numpy\n",
    "meshsize = 0.05\n",
    "urg, vrg = wingshape.urange, wingshape.vrange\n",
    "ulines = numpy.linspace(urg[0], urg[1], int((urg[1]-urg[0])/meshsize+1))\n",
    "vlines = numpy.linspace(vrg[0], vrg[1], int((vrg[1]-vrg[0])/meshsize+1))\n",
    "\n",
    "upolyloop = polyloop+[polyloop[0]]\n",
    "vpolyloop = [ P2(p.v, p.u)  for p in upolyloop ]\n",
    "\n"
   ]
  },
  {
   "cell_type": "code",
   "execution_count": 44,
   "id": "a7ad52ed",
   "metadata": {},
   "outputs": [
    {
     "data": {
      "image/png": "[encoded data removed]",
      "text/plain": [
       "<Figure size 648x504 with 1 Axes>"
      ]
     },
     "metadata": {
      "needs_background": "light"
     },
     "output_type": "display_data"
    }
   ],
   "source": [
    "%matplotlib inline \n",
    "\n",
    "from matplotlib import pyplot as plt\n",
    "from matplotlib.collections import LineCollection\n",
    "\n",
    "def usegcuts(u, upolyloop, reflected):\n",
    "    prev = upolyloop[-1]\n",
    "    ucuts = [ ]\n",
    "    for i in range(len(upolyloop)):\n",
    "        p = upolyloop[i]\n",
    "        if (p.u < u) != (prev.u < u):\n",
    "            lam = (u - prev.u)/(p.u - prev.u)\n",
    "            v = prev.v*(1 - lam) + p.v*lam\n",
    "            ucuts.append((v, not (p.u < u)))\n",
    "        prev = p\n",
    "    ucuts.sort()\n",
    "    assert (len(ucuts)%2) == 0\n",
    "    vsegs = [ ]\n",
    "    for i in range(0, len(ucuts), 2):\n",
    "        assert (ucuts[i][1] == reflected) and (ucuts[i+1][1] != reflected) \n",
    "        vsegs.append((ucuts[i][0], ucuts[i+1][0]))\n",
    "    return vsegs\n",
    "\n",
    "\n",
    "lc = [ ]\n",
    "for u in ulines:\n",
    "    for vseg in usegcuts(u, upolyloop, False):\n",
    "        lc.append([(u, vseg[0]), (u, vseg[1])])\n",
    "for v in vlines:\n",
    "    for useg in usegcuts(v, vpolyloop, True):\n",
    "        lc.append([(useg[0], v), (useg[1], v)])\n",
    "\n",
    "fig = plt.figure(figsize=(9,7))\n",
    "s = fig.gca()\n",
    "s.add_collection(LineCollection(lc))\n",
    "s.set_aspect(\"equal\")\n",
    "s.autoscale()\n"
   ]
  },
  {
   "cell_type": "code",
   "execution_count": null,
   "id": "97ca32de",
   "metadata": {},
   "outputs": [],
   "source": []
  }
 ],
 "metadata": {
  "kernelspec": {
   "display_name": "Python 3 (ipykernel)",
   "language": "python",
   "name": "python3"
  },
  "language_info": {
   "codemirror_mode": {
    "name": "ipython",
    "version": 3
   },
   "file_extension": ".py",
   "mimetype": "text/x-python",
   "name": "python",
   "nbconvert_exporter": "python",
   "pygments_lexer": "ipython3",
   "version": "3.9.6"
  }
 },
 "nbformat": 4,
 "nbformat_minor": 5
}
