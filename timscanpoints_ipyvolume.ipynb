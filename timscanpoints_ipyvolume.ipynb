{
 "cells": [
  {
   "cell_type": "code",
   "execution_count": 1,
   "metadata": {},
   "outputs": [],
   "source": [
    "import pandas, numpy\n",
    "fpts = \"timscanpoints/vg-off-quick.csv\"\n",
    "fpts = \"timscanpoints/vg-off-slow.csv\"\n",
    "w = pandas.read_csv(fpts)\n",
    "w.angle = ((w.angle+180)%360) - 180   # move to range [-180,180]\n",
    "w.distance = w.distance/1000          # to metres\n",
    "\n",
    "w[\"x\"] = w.distance * numpy.sin(numpy.radians(w.angle))\n",
    "w[\"y\"] = w.distance * numpy.cos(numpy.radians(w.angle)) * numpy.cos(numpy.radians(w.angle_below_horizon))\n",
    "w[\"z\"] = -w.distance * numpy.cos(numpy.radians(w.angle)) * numpy.sin(numpy.radians(w.angle_below_horizon))\n",
    "w = w[numpy.abs(w.angle)<55]\n",
    "w = w[w.distance<2]\n",
    "w = w[w.angle_below_horizon<45]\n",
    "w.index = numpy.array(range(len(w)))\n",
    "\n"
   ]
  },
  {
   "cell_type": "code",
   "execution_count": 4,
   "metadata": {},
   "outputs": [
    {
     "data": {
      "application/vnd.jupyter.widget-view+json": {
       "model_id": "29e1afe4f4344f53bfdf239161669111",
       "version_major": 2,
       "version_minor": 0
      },
      "text/plain": [
       "VBox(children=(Figure(camera=PerspectiveCamera(fov=46.0, position=(0.0, 0.0, 2.0), quaternion=(0.0, 0.0, 0.0, …"
      ]
     },
     "metadata": {},
     "output_type": "display_data"
    }
   ],
   "source": [
    "import ipyvolume as ipv\n",
    "ipv.clear()\n",
    "ipv.scatter(w.x, w.y, w.z, size=0.5)\n",
    "lw = w.iloc[:-2000]\n",
    "ipv.scatter(lw.x, lw.y, lw.z, size=0.5, color=\"blue\")\n",
    "ipv.show()\n"
   ]
  },
  {
   "cell_type": "code",
   "execution_count": 3,
   "metadata": {},
   "outputs": [
    {
     "data": {
      "text/plain": [
       "(array([-0.07578071,  1.50674846, -0.81989601]),\n",
       " array([0.00482236, 0.25561442, 0.96676678]),\n",
       " 0.0007745397399170512)"
      ]
     },
     "execution_count": 3,
     "metadata": {},
     "output_type": "execute_result"
    }
   ],
   "source": [
    "def fitplanetopoints(xs, ys, zs):\n",
    "    points = numpy.array((xs, ys, zs))\n",
    "    ctr = points.mean(axis=1)\n",
    "    x = points - ctr[:,numpy.newaxis]\n",
    "    M = numpy.dot(x, x.T) # Could also use np.cov(x) here.\n",
    "    p0, v = ctr, numpy.linalg.svd(M)[0][:,-1]\n",
    "    ers = ((xs-p0[0])*v[0] + (ys-p0[1])*v[1] + (zs-p0[2])*v[2])\n",
    "    return p0, v, sum(ers**2)/len(ers)\n",
    "\n",
    "fitplanetopoints(lw.x, lw.y, lw.z)\n"
   ]
  },
  {
   "cell_type": "code",
   "execution_count": 6,
   "metadata": {},
   "outputs": [],
   "source": [
    "anglesteps = numpy.linspace(-90, 90, 29)\n",
    "anglehorizonsteps = numpy.linspace(0, 90, 20)\n",
    "qx, qy, qz, vx, vy, vz = [ ], [ ], [ ], [ ], [ ], [ ]\n",
    "for i in range(1, len(anglesteps)):\n",
    "    for j in range(1, len(anglehorizonsteps)):\n",
    "        lw = w[(w.angle>=anglesteps[i-1]) & (w.angle<=anglesteps[i]) & \\\n",
    "               (w.angle_below_horizon>=anglehorizonsteps[j-1]) & (w.angle_below_horizon<=anglehorizonsteps[j])]\n",
    "        if len(lw) > 10:\n",
    "            p0, v, er = fitplanetopoints(lw.x, lw.y, lw.z)\n",
    "            if er < 0.01:\n",
    "                qx.append(p0[0]); qy.append(p0[1]); qz.append(p0[2])\n",
    "                vx.append(v[0]); vy.append(v[1]); vz.append(v[2])\n",
    "            \n",
    "\n"
   ]
  },
  {
   "cell_type": "code",
   "execution_count": 7,
   "metadata": {},
   "outputs": [
    {
     "data": {
      "application/vnd.jupyter.widget-view+json": {
       "model_id": "f69e683255be4a3bac771f88e6ff83b8",
       "version_major": 2,
       "version_minor": 0
      },
      "text/plain": [
       "VBox(children=(Figure(camera=PerspectiveCamera(fov=46.0, position=(0.0, 0.0, 2.0), quaternion=(0.0, 0.0, 0.0, …"
      ]
     },
     "metadata": {},
     "output_type": "display_data"
    }
   ],
   "source": [
    "ipv.clear()\n",
    "#ipv.scatter(w.xm, w.ym, w.zm, size=0.2)\n",
    "#lw = w[(w.xm>0.3) & (w.angle<40) & (w.angle_below_horizon<30)]\n",
    "#ld = numpy.abs(((w.xm-p0[0])*v[0] + (w.y-p0[1])*v[1] + (w.zm-p0[2])*v[2]))\n",
    "#lw = w[ld<0.01]\n",
    "\n",
    "ipv.scatter(w.x.values, w.y.values, w.z.values, size=0.2, color=\"blue\")\n",
    "ipv.quiver(numpy.array(qx), numpy.array(qy), numpy.array(qz), \n",
    "           numpy.array(vx), numpy.array(vy), numpy.array(vz), size=5)\n",
    "ipv.show()\n"
   ]
  },
  {
   "cell_type": "code",
   "execution_count": 208,
   "metadata": {},
   "outputs": [
    {
     "data": {
      "text/plain": [
       "<matplotlib.image.AxesImage at 0x7fae69aafef0>"
      ]
     },
     "execution_count": 208,
     "metadata": {},
     "output_type": "execute_result"
    },
    {
     "data": {
      "image/png": "[encoded data removed]",
      "text/plain": [
       "<Figure size 432x288 with 1 Axes>"
      ]
     },
     "metadata": {
      "needs_background": "light"
     },
     "output_type": "display_data"
    }
   ],
   "source": [
    "k = numpy.zeros((15, 30))\n",
    "for ix, fx in enumerate(numpy.linspace(-1.5, 1.5, k.shape[1])):\n",
    "    for iy, fy in enumerate(numpy.linspace(1.5, 0, k.shape[0])):\n",
    "        bd = (w.x-fx)**2 + (w.y-fy)**2\n",
    "        lw = w[bd<0.3]\n",
    "        if len(lw)>10:\n",
    "            p0, v, er = fitplanetopoints(lw.x, lw.y, lw.z)\n",
    "            if er < 0.01:\n",
    "                k[iy, ix] = 1-v[2]\n",
    "plt.imshow(k)\n"
   ]
  },
  {
   "cell_type": "code",
   "execution_count": null,
   "metadata": {},
   "outputs": [],
   "source": [
    "\n"
   ]
  },
  {
   "cell_type": "code",
   "execution_count": null,
   "metadata": {},
   "outputs": [],
   "source": []
  },
  {
   "cell_type": "code",
   "execution_count": null,
   "metadata": {},
   "outputs": [],
   "source": []
  },
  {
   "cell_type": "code",
   "execution_count": null,
   "metadata": {},
   "outputs": [],
   "source": []
  },
  {
   "cell_type": "code",
   "execution_count": null,
   "metadata": {},
   "outputs": [],
   "source": [
    "fevo = \"/home/julian/data/aviansails/3Evo140-005-190503.csv\"\n",
    "import pandas\n",
    "w = pandas.read_csv(fevo, names=[\"x\", \"y\", \"z\"])\n",
    "w.tail()\n",
    "import ipyvolume as ipv\n",
    "ipv.quickscatter(w.x, w.y, w.z)"
   ]
  }
 ],
 "metadata": {
  "kernelspec": {
   "display_name": "Python 3",
   "language": "python",
   "name": "python3"
  },
  "language_info": {
   "codemirror_mode": {
    "name": "ipython",
    "version": 3
   },
   "file_extension": ".py",
   "mimetype": "text/x-python",
   "name": "python",
   "nbconvert_exporter": "python",
   "pygments_lexer": "ipython3",
   "version": "3.7.4"
  }
 },
 "nbformat": 4,
 "nbformat_minor": 2
}
