{
 "cells": [
  {
   "cell_type": "markdown",
   "metadata": {},
   "source": [
    "## Purpose\n",
    "\n",
    "We need to find positions and tangents on a curved curve or surface \n",
    "from a field of sample points (either in time and space).  \n",
    "\n",
    "The conventional approach is to smooth the dataset and take the \n",
    "differential from the smoothed curves.  However, this attenuates the data.  \n",
    "\n",
    "What we try here is to fit polynomial curves/surfaces to a limited region \n",
    "(weighted by the centre of the region) and then differentiate these.  \n",
    "\n",
    "\n",
    "This notebook is for testing out the function calls and comparing \n",
    "the accuracy of the measurements depending on noise added and sample rate.\n"
   ]
  },
  {
   "cell_type": "markdown",
   "metadata": {},
   "source": [
    "### Polyfit interaction\n",
    "\n",
    "Given an input function, we can sample and evaluate it with linspace, and then \n",
    "interactively compare what will happen with different polyfit degrees, \n",
    "weights (controlled by attenuation) and random values.\n",
    "\n",
    "The 5th order input function gets perfectly matched by a 5th order polynomial, \n",
    "because any point on it is valid for the curve fit.  \n",
    "\n",
    "Second input function is the concatenation of two exponential decay curves\n",
    "to simulate temperature sensing.  Here the higher degrees don't give such \n",
    "an advantage.  \n"
   ]
  },
  {
   "cell_type": "code",
   "execution_count": 42,
   "metadata": {},
   "outputs": [
    {
     "data": {
      "text/html": [
       "<style>.widget-slider .widget-readout { background: cyan; min-width: 30px }</style>"
      ],
      "text/plain": [
       "<IPython.core.display.HTML object>"
      ]
     },
     "metadata": {},
     "output_type": "display_data"
    },
    {
     "data": {
      "application/vnd.jupyter.widget-view+json": {
       "model_id": "bae683372b6c48f9aa054b815fa9f3d1",
       "version_major": 2,
       "version_minor": 0
      },
      "text/plain": [
       "VBox(children=(HBox(children=(IntSlider(value=2, continuous_update=False, description='deg', max=5, min=1, sty…"
      ]
     },
     "metadata": {},
     "output_type": "display_data"
    },
    {
     "data": {
      "application/vnd.jupyter.widget-view+json": {
       "model_id": "f102fd215bea45bea9a84af5032144d4",
       "version_major": 2,
       "version_minor": 0
      },
      "text/plain": [
       "Output()"
      ]
     },
     "metadata": {},
     "output_type": "display_data"
    }
   ],
   "source": [
    "from matplotlib import pyplot as plt\n",
    "%matplotlib inline\n",
    "\n",
    "import numpy\n",
    "from ipywidgets import widgets\n",
    "from IPython.display import HTML\n",
    "import matplotlib\n",
    "\n",
    "\n",
    "# we use numpy.polyval((a,b,c), x) = a*x**2 + b*x + c\n",
    "def diffpoly(p):\n",
    "    return [ e*c  for e, c in zip(range(len(p)-1, 0, -1), p) ]\n",
    "\n",
    "# 5th order polynomial input\n",
    "def inputfunc(x):\n",
    "    polyinputcurve = (-0.06, 0.4, 4, -2, 0, 3)\n",
    "    return numpy.polyval(polyinputcurve, x)\n",
    "\n",
    "def dinputfunc(x):\n",
    "    polyinputcurve = (-0.06, 0.4, 4, -2, 0, 3)\n",
    "    return numpy.polyval(diffpoly(polyinputcurve), x)\n",
    "\n",
    "# two exponential decay curves\n",
    "def inputfunc(x):\n",
    "    return numpy.exp(numpy.minimum(-x, 0)) - 0.005*numpy.exp(-numpy.minimum(x, 0))\n",
    "def dinputfunc(x):\n",
    "    return -numpy.exp(numpy.minimum(-x, 0))*(x>0) + 0.005*numpy.exp(-numpy.minimum(x, 0))*(x<0)\n",
    "\n",
    "\n",
    "#matplotlib.style.use('fivethirtyeight')\n",
    "dwstyle = {'description_width': 'initial'}\n",
    "display(HTML(\"<style>.widget-slider .widget-readout { background: cyan; min-width: 30px }</style>\"))  # https://github.com/jupyter-widgets/ipywidgets/issues/1937\n",
    "\n",
    "wdegree = widgets.IntSlider(description=\"deg\", value=2, min=1, max=5, continuous_update=False, style=dwstyle)\n",
    "wspacing = widgets.IntSlider(description=\"linspace\", value=50, min=20, max=500, continuous_update=False, style=dwstyle)\n",
    "watten = widgets.FloatSlider(description=\"atten\", value=2.0, min=0.0, max=90.0, continuous_update=False, style=dwstyle)\n",
    "wrwidth = widgets.FloatSlider(description=\"rwidth\", value=4.0, min=0.1, max=5.0, continuous_update=False, style=dwstyle)\n",
    "wnoisepos = widgets.FloatSlider(description=\"noiseP\", value=0.0, min=0.0, max=0.1, step=0.001, continuous_update=False, style=dwstyle)\n",
    "wnoise = widgets.FloatSlider(description=\"noise\", value=0.0, min=0.0, max=100.0, continuous_update=False, style=dwstyle)\n",
    "wxrange = widgets.FloatRangeSlider(description=\"xrange\", value=(-5.0, 5.0), min=-5.0, max=5.0, continuous_update=False, style=dwstyle)\n",
    "wmode = widgets.Dropdown(options=[\"abs\", \"diff\"], value='abs', continuous_update=False)\n",
    "\n",
    "wxrange.layout.width = \"500px\"\n",
    "wmode.layout.width = \"100px\"\n",
    "\n",
    "hbox1 = widgets.HBox([wdegree, wspacing])\n",
    "hbox2 = widgets.HBox([watten, wrwidth])\n",
    "hbox3 = widgets.HBox([wnoise, wnoisepos])\n",
    "hbox4 = widgets.HBox([wxrange, wmode])\n",
    "ui = widgets.VBox([hbox1, hbox2, hbox3, hbox4])\n",
    "\n",
    "def fitslopespacings(lspacing, mx, mr, weightatten, deg, noisepos, noisescale):\n",
    "    xs = numpy.linspace(-10, 10, lspacing)\n",
    "    xs = xs + numpy.random.normal(0, noisepos, len(xs))\n",
    "    xswindow = numpy.array([ x  for x in xs  if abs(x-mx)<mr ])\n",
    "    yswindow = inputfunc(xswindow)\n",
    "    yswindow = yswindow + numpy.random.normal(0, noisescale, len(yswindow))\n",
    "    weights = 1/(1/weightatten + (xswindow - mx)**2)  if weightatten != 0  else numpy.ones(len(xswindow))\n",
    "\n",
    "    polym = numpy.polyfit(xswindow, yswindow, deg=deg, w=weights)\n",
    "\n",
    "    return numpy.polyval(polym, mx), numpy.polyval(diffpoly(polym), mx)\n",
    "\n",
    "def plotfigure(wdegree, wspacing, wrwidth, watten, wnoisepos, wnoise, xrange, wmode):\n",
    "    lmxs = numpy.linspace(xrange[0], xrange[1], 50)\n",
    "    lposs, lslopes = [ ], [ ]\n",
    "    for mx in lmxs:\n",
    "        lpos, lslope = fitslopespacings(wspacing, mx, wrwidth, watten, wdegree, wnoisepos, wnoise)\n",
    "        lposs.append(lpos)\n",
    "        lslopes.append(lslope)\n",
    "\n",
    "    lposstrue = inputfunc(lmxs)\n",
    "    lslopestrue = dinputfunc(lmxs)\n",
    "    \n",
    "    plt.figure(figsize=(11,5))\n",
    "    plt.subplot(121)\n",
    "    plt.title(\"y-value\")\n",
    "    \n",
    "    if wmode == \"abs\":\n",
    "        plt.plot(lmxs, lposs)\n",
    "        plt.plot(lmxs, lposstrue)\n",
    "    else:\n",
    "        plt.plot(lmxs, lposs-lposstrue)\n",
    "        \n",
    "    plt.subplot(122)\n",
    "    plt.title(\"dy-value\")\n",
    "    if wmode == \"abs\":\n",
    "        plt.plot(lmxs, lslopes)\n",
    "        plt.plot(lmxs, lslopestrue)\n",
    "    else:\n",
    "        plt.plot(lmxs, lslopes - lslopestrue)\n",
    "    plt.show() \n",
    "    \n",
    "params = {'wdegree': wdegree, \"wspacing\":wspacing, \"watten\":watten, \"wnoise\":wnoise, \"wnoisepos\":wnoisepos, \n",
    "          'xrange':wxrange, \"wrwidth\":wrwidth, \"wmode\":wmode }\n",
    "outputfigure = widgets.interactive_output(plotfigure, params)\n",
    "#outputfigure.layout.height = '400px'\n",
    "display(ui, outputfigure);\n",
    "\n"
   ]
  },
  {
   "cell_type": "code",
   "execution_count": null,
   "metadata": {},
   "outputs": [],
   "source": []
  },
  {
   "cell_type": "markdown",
   "metadata": {},
   "source": [
    "### Reproduction of polyfit calculation\n",
    "Reproduce the basic calculations made by polyfit in order to \n",
    "extend it to two dimensions (surface shapes).\n"
   ]
  },
  {
   "cell_type": "code",
   "execution_count": 67,
   "metadata": {},
   "outputs": [
    {
     "name": "stdout",
     "output_type": "stream",
     "text": [
      "without weights\n",
      "[-8.52094226  1.08359528  6.04063071]\n",
      "[-8.52094226  1.08359528  6.04063071]\n",
      "with weights\n",
      "[-8.93318168 -0.73175645  5.12425453]\n",
      "[-8.93318168 -0.73175645  5.12425453]\n"
     ]
    }
   ],
   "source": [
    "import numpy\n",
    "\n",
    "# See: \n",
    "# https://stackoverflow.com/questions/33964913/equivalent-of-polyfit-for-a-2d-polynomial-in-python\n",
    "    \n",
    "xs = numpy.linspace(-3, 1, 60)\n",
    "polyinputcurve = (-0.06, 0.4, 4, -2, 0, 3)\n",
    "ys = numpy.polyval(polyinputcurve, xs)\n",
    "\n",
    "p = numpy.polyfit(xs, ys, deg=2)\n",
    "\n",
    "A = numpy.array([xs**2, xs, xs*0+1]).T\n",
    "B = ys\n",
    "coeff, r, rank, s = numpy.linalg.lstsq(A, B, rcond=-1)\n",
    "\n",
    "print(\"without weights\")\n",
    "print(p)\n",
    "print(coeff)\n",
    "\n",
    "print(\"with weights\")\n",
    "weights = 1/(2+(xs+1)**2)\n",
    "A = A*numpy.array([weights]*A.shape[1]).T\n",
    "B = B*weights\n",
    "\n",
    "p = numpy.polyfit(xs, ys, deg=2, w=weights)\n",
    "coeff, r, rank, s = numpy.linalg.lstsq(A, B, rcond=-1)\n",
    "\n",
    "print(p)\n",
    "print(coeff)\n"
   ]
  },
  {
   "cell_type": "code",
   "execution_count": null,
   "metadata": {},
   "outputs": [],
   "source": []
  },
  {
   "cell_type": "code",
   "execution_count": null,
   "metadata": {},
   "outputs": [],
   "source": []
  },
  {
   "cell_type": "code",
   "execution_count": null,
   "metadata": {},
   "outputs": [],
   "source": []
  },
  {
   "cell_type": "markdown",
   "metadata": {},
   "source": [
    "### Application of general polyfit equation to 2D case\n",
    "\n",
    "We extend the numpy.polyfit code (as replaced) to 2D using the \n",
    "same interface\n"
   ]
  },
  {
   "cell_type": "code",
   "execution_count": 107,
   "metadata": {},
   "outputs": [
    {
     "data": {
      "text/plain": [
       "array([[0.33333333, 0.33333333, 0.33333333],\n",
       "       [0.32174688, 0.32174688, 0.32174688],\n",
       "       [0.31040413, 0.31040413, 0.31040413],\n",
       "       ...,\n",
       "       [0.17888999, 0.17888999, 0.17888999],\n",
       "       [0.17264467, 0.17264467, 0.17264467],\n",
       "       [0.16666667, 0.16666667, 0.16666667]])"
      ]
     },
     "execution_count": 107,
     "metadata": {},
     "output_type": "execute_result"
    }
   ],
   "source": [
    "A = numpy.array([X**2, X, X*0+1]).T\n",
    "weights = 1/(2+(X+1)**2)\n",
    "\n",
    "numpy.array([weights]*A.shape[1]).T\n",
    "\n"
   ]
  },
  {
   "cell_type": "code",
   "execution_count": 124,
   "metadata": {},
   "outputs": [
    {
     "data": {
      "text/plain": [
       "array([[0.33333333, 0.33333333, 0.33333333],\n",
       "       [0.32174688, 0.32174688, 0.32174688],\n",
       "       [0.31040413, 0.31040413, 0.31040413],\n",
       "       ...,\n",
       "       [0.17888999, 0.17888999, 0.17888999],\n",
       "       [0.17264467, 0.17264467, 0.17264467],\n",
       "       [0.16666667, 0.16666667, 0.16666667]])"
      ]
     },
     "execution_count": 124,
     "metadata": {},
     "output_type": "execute_result"
    }
   ],
   "source": [
    "numpy.matmul(numpy.array([weights]).T, numpy.ones((1,3)))"
   ]
  },
  {
   "cell_type": "code",
   "execution_count": 116,
   "metadata": {},
   "outputs": [
    {
     "ename": "ValueError",
     "evalue": "shapes (400,) and (3,1) not aligned: 400 (dim 0) != 3 (dim 0)",
     "output_type": "error",
     "traceback": [
      "\u001b[0;31m---------------------------------------------------------------------------\u001b[0m",
      "\u001b[0;31mValueError\u001b[0m                                Traceback (most recent call last)",
      "\u001b[0;32m<ipython-input-116-4a23b004b74c>\u001b[0m in \u001b[0;36m<module>\u001b[0;34m\u001b[0m\n\u001b[0;32m----> 1\u001b[0;31m \u001b[0mnumpy\u001b[0m\u001b[0;34m.\u001b[0m\u001b[0mmatmul\u001b[0m\u001b[0;34m(\u001b[0m\u001b[0mweights\u001b[0m\u001b[0;34m,\u001b[0m \u001b[0mnumpy\u001b[0m\u001b[0;34m.\u001b[0m\u001b[0mones\u001b[0m\u001b[0;34m(\u001b[0m\u001b[0;34m(\u001b[0m\u001b[0;36m3\u001b[0m\u001b[0;34m,\u001b[0m\u001b[0;36m1\u001b[0m\u001b[0;34m)\u001b[0m\u001b[0;34m)\u001b[0m\u001b[0;34m)\u001b[0m\u001b[0;34m\u001b[0m\u001b[0m\n\u001b[0m",
      "\u001b[0;31mValueError\u001b[0m: shapes (400,) and (3,1) not aligned: 400 (dim 0) != 3 (dim 0)"
     ]
    }
   ],
   "source": [
    "numpy.matmul(weights, numpy.ones((3,1)))"
   ]
  },
  {
   "cell_type": "code",
   "execution_count": 152,
   "metadata": {},
   "outputs": [],
   "source": [
    "def polyfitsurf(x, y, z, deg, w=None):\n",
    "    pl = [x*0+1]   # constant array\n",
    "    for d in range(1, deg+1):\n",
    "        pl = [x**(d-j)*y**(j)  for j in range(0, d+1) ] + pl\n",
    "    A = numpy.array(pl).T\n",
    "    B = z\n",
    "    if w is not None:\n",
    "        #A = A*numpy.ones([w]*A.shape[1]).T\n",
    "        A = A*numpy.matmul(numpy.array([weights]).T, numpy.ones((1,A.shape[1])))\n",
    "        B = B*w\n",
    "    coeff, r, rank, s = numpy.linalg.lstsq(A, B, rcond=-1)\n",
    "    return coeff\n",
    "\n",
    "def polysurfnormal0(coeff):\n",
    "    # normalize (1, 0, coeff[-3]) x (0, 1, coeff[-2])\n",
    "    p = numpy.array((-coeff[-3], -coeff[-2], 1))\n",
    "    psq = sum(p*p)\n",
    "    return p*(1/numpy.sqrt(psq) if psq else 1)\n",
    "\n"
   ]
  },
  {
   "cell_type": "code",
   "execution_count": 153,
   "metadata": {},
   "outputs": [
    {
     "name": "stdout",
     "output_type": "stream",
     "text": [
      "[0.00015486260019500125, 8.999906615150085, 0.0003589748995475919, 3.9998194822337103, -0.00028098468752020707, 0.0005467744887740179]\n",
      "[0.0006450254636690627, 0.0002453974026897206, -0.0012658201421815302, 0.0007679175692123942, -0.0008713212442476589, 9.000953158493619, -0.000325450033629484, 4.0000454684527, -0.0002783403552296166, 0.0005592043605729844]\n",
      "[1.0000000000000038, 0.9999999999999838, 7.745486603719143e-15, 3.000000000000003, -9.000000000000002, -3.6969116155233916e-16]\n",
      "[-0.31448545101657577, 0.9434563530497265, 0.10482848367219182]\n"
     ]
    }
   ],
   "source": [
    "# testing the above functions\n",
    "x = numpy.linspace(0, 1, 13)\n",
    "y = numpy.linspace(0, 1, 14)\n",
    "X, Y = numpy.meshgrid(x, y, copy=False)\n",
    "X = X.flatten()\n",
    "Y = Y.flatten()\n",
    "Z = X*4 + Y*X*9 + numpy.random.rand(*X.shape)*0.001\n",
    "\n",
    "weights = 1/(2+(X+1)**2)\n",
    "print(list(polyfitsurf(X, Y, Z, 2, w=weights)))\n",
    "print(list(polyfitsurf(X, Y, Z, 3, w=weights)))\n",
    "\n",
    "Z = X*3 + X**2 + X*Y - Y*9\n",
    "weights = 1/(0.03+(X**2 + Y**2))\n",
    "\n",
    "c = polyfitsurf(X, Y, Z, 2, weights)\n",
    "print(list(c))\n",
    "print(list(polysurfnormal0(c)))\n"
   ]
  },
  {
   "cell_type": "markdown",
   "metadata": {},
   "source": []
  },
  {
   "cell_type": "markdown",
   "metadata": {},
   "source": [
    "### Apply polyfitsurf to point scans\n",
    "\n",
    "Do this in various 2D patches of radius 0.1m and work out their z position and \n",
    "normal direction by fitting 2nd order polynomial surfaces to them.\n"
   ]
  },
  {
   "cell_type": "code",
   "execution_count": 169,
   "metadata": {},
   "outputs": [
    {
     "data": {
      "text/plain": [
       "<matplotlib.collections.PathCollection at 0x7fbc9aa05128>"
      ]
     },
     "execution_count": 169,
     "metadata": {},
     "output_type": "execute_result"
    },
    {
     "data": {
      "image/png": "[encoded data removed]",
      "text/plain": [
       "<Figure size 432x288 with 1 Axes>"
      ]
     },
     "metadata": {
      "needs_background": "light"
     },
     "output_type": "display_data"
    }
   ],
   "source": [
    "import pandas, numpy\n",
    "\n",
    "#fpts = \"timscanpoints/vg-off-quick.csv\"\n",
    "fpts = \"timscanpoints/vg-off-slow.csv\"\n",
    "w = pandas.read_csv(fpts)\n",
    "w.angle = ((w.angle+180)%360) - 180   # move to range [-180,180]\n",
    "w.distance = w.distance/1000          # to metres\n",
    "\n",
    "w[\"x\"] = w.distance * numpy.sin(numpy.radians(w.angle))\n",
    "w[\"y\"] = w.distance * numpy.cos(numpy.radians(w.angle)) * numpy.cos(numpy.radians(w.angle_below_horizon))\n",
    "w[\"z\"] = -w.distance * numpy.cos(numpy.radians(w.angle)) * numpy.sin(numpy.radians(w.angle_below_horizon))\n",
    "w = w[numpy.abs(w.angle)<55]\n",
    "w = w[w.distance<2]\n",
    "w = w[w.angle_below_horizon<45]\n",
    "w.index = numpy.array(range(len(w)))\n",
    "\n",
    "plt.scatter(w.x, w.y)\n"
   ]
  },
  {
   "cell_type": "code",
   "execution_count": 185,
   "metadata": {},
   "outputs": [
    {
     "data": {
      "application/vnd.jupyter.widget-view+json": {
       "model_id": "acd06b305a324acdaac382908ea39bd8",
       "version_major": 2,
       "version_minor": 0
      },
      "text/plain": [
       "VBox(children=(Figure(camera=PerspectiveCamera(fov=46.0, position=(0.0, 0.0, 2.0), quaternion=(0.0, 0.0, 0.0, …"
      ]
     },
     "metadata": {},
     "output_type": "display_data"
    }
   ],
   "source": [
    "import ipyvolume as ipv\n",
    "ipv.clear()\n",
    "ipv.scatter(w.x, w.y, w.z, size=0.5)\n",
    "\n",
    "px, py, d  = -0.5, 1.4, 0.1\n",
    "b = w[(w.x - px)**2 + (w.y - py)**2 < d**2]\n",
    "b.index = numpy.array(range(len(b)))\n",
    "ipv.scatter(b.x, b.y, b.z, size=0.5, color=\"blue\")\n",
    "\n",
    "ipv.show()\n"
   ]
  },
  {
   "cell_type": "code",
   "execution_count": null,
   "metadata": {},
   "outputs": [],
   "source": [
    "    "
   ]
  },
  {
   "cell_type": "code",
   "execution_count": 227,
   "metadata": {},
   "outputs": [],
   "source": [
    "qx, qy, qz, qu, qv, qw = [ ], [ ], [ ], [ ], [ ], [ ]\n",
    "px, py, d, atten = -0.5, 1.4, 0.1, 5\n",
    "\n",
    "pxy = [ ]\n",
    "for px in numpy.linspace(-1, 1, 20):\n",
    "    pxy.append((px, 1.4))\n",
    "for px in numpy.linspace(0, 1.5, 17):\n",
    "    pxy.append((px, 1.8-px/2))\n",
    "    pxy.append((-px, 1.8-px/2))\n",
    "\n",
    "for px, py in pxy:\n",
    "    b = w[(w.x - px)**2 + (w.y - py)**2 < d**2]\n",
    "    mx, my = b.x - px, b.y - py\n",
    "    weights = 1/(1/atten + mx**2 + my**2)\n",
    "    c = polyfitsurf(mx, my, b.z, 2, weights)\n",
    "    qx.append(px);  qy.append(py);  qz.append(c[-1])\n",
    "    n = polysurfnormal0(c)\n",
    "    qu.append(-n[0]);  qv.append(-n[1]);  qw.append(-n[2])\n",
    "    \n"
   ]
  },
  {
   "cell_type": "code",
   "execution_count": 229,
   "metadata": {},
   "outputs": [
    {
     "data": {
      "application/vnd.jupyter.widget-view+json": {
       "model_id": "3529053919e34fafb7584e1709ad96c0",
       "version_major": 2,
       "version_minor": 0
      },
      "text/plain": [
       "VBox(children=(Figure(camera=PerspectiveCamera(fov=46.0, position=(0.0, 0.0, 2.0), quaternion=(0.0, 0.0, 0.0, …"
      ]
     },
     "metadata": {},
     "output_type": "display_data"
    }
   ],
   "source": [
    "ipv.clear()\n",
    "ipv.scatter(w.x, w.y, w.z, size=0.5)\n",
    "ipv.quiver(numpy.array(qx), numpy.array(qy), numpy.array(qz), \n",
    "           numpy.array(qu), numpy.array(qv), numpy.array(qw), \n",
    "           color=\"cyan\", size=10)\n",
    "ipv.show()\n"
   ]
  },
  {
   "cell_type": "code",
   "execution_count": 235,
   "metadata": {},
   "outputs": [],
   "source": [
    "pxy = zip(*map(lambda X: X.flatten(), numpy.meshgrid(\n",
    "          numpy.linspace(-1.5, 1.5, 60), numpy.linspace(1, 1.8, 30))))\n",
    "\n",
    "qx, qy, qz, qu, qv, qw = [ ], [ ], [ ], [ ], [ ], [ ]\n",
    "px, py, d, atten = -0.5, 1.4, 0.1, 8\n",
    "deg = 2\n",
    "pr = 0.1\n",
    "for px, py in pxy:\n",
    "    b = w[(w.x - px)**2 + (w.y - py)**2 < d**2]\n",
    "    if len(b) > 20:\n",
    "        mx, my = b.x - px, b.y - py\n",
    "        weights = 1/(1/atten + mx**2 + my**2)\n",
    "        c = polyfitsurf(mx, my, b.z, deg, weights)\n",
    "        n = polysurfnormal0(c)\n",
    "        qx.append(px-n[0]*pr);  qy.append(py-n[1]*pr);  qz.append(c[-1]-n[2]*pr)\n",
    "        qu.append(-n[0]);  qv.append(-n[1]);  qw.append(-n[2])\n",
    "    \n"
   ]
  },
  {
   "cell_type": "code",
   "execution_count": 234,
   "metadata": {},
   "outputs": [
    {
     "data": {
      "application/vnd.jupyter.widget-view+json": {
       "model_id": "0a45747f5ebc4eaaa42eb9f563710559",
       "version_major": 2,
       "version_minor": 0
      },
      "text/plain": [
       "VBox(children=(Figure(camera=PerspectiveCamera(fov=46.0, position=(0.0, 0.0, 2.0), quaternion=(0.0, 0.0, 0.0, …"
      ]
     },
     "metadata": {},
     "output_type": "display_data"
    }
   ],
   "source": [
    "ipv.clear()\n",
    "#ipv.scatter(w.x, w.y, w.z, size=0.5)\n",
    "ipv.quiver(numpy.array(qx), numpy.array(qy), numpy.array(qz), \n",
    "           numpy.array(qu), numpy.array(qv), numpy.array(qw), \n",
    "           color=\"cyan\", size=10)\n",
    "ipv.show()\n"
   ]
  },
  {
   "cell_type": "code",
   "execution_count": 236,
   "metadata": {},
   "outputs": [
    {
     "data": {
      "application/vnd.jupyter.widget-view+json": {
       "model_id": "0898cd5fb19b4140a479faab53386788",
       "version_major": 2,
       "version_minor": 0
      },
      "text/plain": [
       "VBox(children=(Figure(camera=PerspectiveCamera(fov=46.0, position=(0.0, 0.0, 2.0), quaternion=(0.0, 0.0, 0.0, …"
      ]
     },
     "metadata": {},
     "output_type": "display_data"
    }
   ],
   "source": [
    "ipv.clear()\n",
    "#ipv.scatter(w.x, w.y, w.z, size=0.5)\n",
    "ipv.quiver(numpy.array(qx), numpy.array(qy), numpy.array(qz), \n",
    "           numpy.array(qu), numpy.array(qv), numpy.array(qw), \n",
    "           color=\"cyan\", size=10)\n",
    "ipv.show()\n"
   ]
  },
  {
   "cell_type": "code",
   "execution_count": null,
   "metadata": {},
   "outputs": [],
   "source": []
  }
 ],
 "metadata": {
  "kernelspec": {
   "display_name": "Python 3",
   "language": "python",
   "name": "python3"
  },
  "language_info": {
   "codemirror_mode": {
    "name": "ipython",
    "version": 3
   },
   "file_extension": ".py",
   "mimetype": "text/x-python",
   "name": "python",
   "nbconvert_exporter": "python",
   "pygments_lexer": "ipython3",
   "version": "3.6.6"
  }
 },
 "nbformat": 4,
 "nbformat_minor": 2
}
