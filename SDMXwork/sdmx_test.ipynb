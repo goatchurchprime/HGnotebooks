{
 "cells": [
  {
   "cell_type": "markdown",
   "metadata": {},
   "source": [
    "SDMX is an XML-based format and API for economic type time-series data, designed when everyone believed that XML would solve all of our problems. \n",
    "\n",
    "XML doesn't.  It's so hugely bloated, complicated and verbose when implemented properly, that many such projects are converting to JSON.  https://sdmx.org/?sdmx_news=public-release-of-the-sdmx-json-data-exchange-format-version-1-0\n",
    "\n",
    "Ultimately, the file format and API doesn't matter, because once you have some open source software that does the work, we can just make use of the software everywhere -- kind of like how no one needs to know how the JPEG format works; they just use the libraries that can access it.  \n",
    "\n",
    "Luckily, the same has happened to SDMX in that there is a python package called pandasdmx that does most of the job (and has better documentation, including worked examples) https://pandasdmx.readthedocs.io/en/latest/usage.html"
   ]
  },
  {
   "cell_type": "code",
   "execution_count": 99,
   "metadata": {},
   "outputs": [
    {
     "name": "stdout",
     "output_type": "stream",
     "text": [
      "<?xml version=\"1.0\" encoding=\"UTF-8\"?><message:GenericData xmlns:message=\"http://www.sdmx.org/resources/sdmxml/schemas/v2_1/message\" xmlns:common=\"http://www.sdmx.org/resources/sdmxml/schemas/v2_1/common\" xmlns:xsi=\"http://www.w3.org/2001/XMLSchema-instance\" xmlns:generic=\"http://www.sdmx.org/resources/sdmxml/schemas/v2_1/data/generic\" xsi:schemaLocation=\"http://www.sdmx.org/resources/sdmxml/schemas/v2_1/message http://sdw-wsrest.ecb.europa.eu:80/vocabulary/sdmx/2_1/SDMXMessage.xsd http://www.sdmx.org/resources/sdmxml/schemas/v2_1/common http://sdw-wsrest.ecb.europa.eu:80/vocabulary/sdmx/2_1/SDMXCommon.xsd http://www.sdmx.org/resources/sdmxml/schemas/v2_1/data/generic http://sdw-wsrest.ecb.europa.eu:80/vocabulary/sdmx/2_1/SDMXDataGeneric.xsd\">\n",
      "<message:Header>\n",
      "<message:ID>79a6f401-36e0-4798-943b-6329a88cf391</message:ID>\n",
      "<message:Test>false</message:Test>\n",
      "<message:Prepared>2019-02-26T16:00:09.570+01:00</message:Prepared>\n",
      "<message:Sender id=\"ECB\"/>\n",
      "<message:Structure structureID=\"ECB_EXR1\" dimensionAtObservation=\"TIME_PERIOD\">\n",
      "<common:Structure>\n",
      "<URN>urn:sdmx:org.sdmx.infomodel.datastructure.DataStructure=ECB:ECB_EXR1(1.0)</URN>\n",
      "</common:Structure>\n",
      "</message:Structure>\n",
      "</message:Header>\n",
      "<message:DataSet action=\"Replace\" validFromDate=\"2019-02-26T16:00:09.570+01:00\" structureRef=\"ECB_EXR1\">\n",
      "<generic:Series>\n",
      "<generic:SeriesKey>\n",
      "<generic:Value id=\"FREQ\" value=\"D\"/>\n",
      "<generic:Value id=\"CURRENCY\" value=\"USD\"/>\n",
      "<generic:Value id=\"CURRENCY_DENOM\" value=\"EUR\"/>\n",
      "<generic:Value id=\"EXR_TYPE\" value=\"SP00\"/>\n",
      "<generic:Value id=\"EXR_SUFFIX\" value=\"A\"/>\n",
      "</generic:SeriesKey>\n",
      "<generic:Attributes>\n",
      "<generic:Value id=\"UNIT\" value=\"USD\"/>\n",
      "<generic:Value id=\"UNIT_MULT\" value=\"0\"/>\n",
      "<generic:Value id=\"SOURCE_AGENCY\" value=\"4F0\"/>\n",
      "<generic:Value id=\"TIME_FORMAT\" value=\"P1D\"/>\n",
      "<generic:Value id=\"DECIMALS\" value=\"4\"/>\n",
      "<generic:Value id=\"COLLECTION\" value=\"A\"/>\n",
      "<generic:Value id=\"TITLE\" value=\"US dollar/Euro\"/>\n",
      "<generic:Value id=\"TITLE_COMPL\" value=\"ECB reference exchange rate, US dollar/Euro, 2:15 pm (C.E.T.)\"/>\n",
      "</generic:Attributes>\n",
      "<generic:Obs>\n",
      "<generic:ObsDimension value=\"1999-01-04\"/>\n",
      "<generic:ObsValue value=\"1.1789\"/>\n",
      "<generic:Attributes>\n",
      "<generic:Value id=\"OBS_STATUS\" value=\"A\"/>\n",
      "</generic:Attributes>\n",
      "</generic:Obs>\n",
      "<generic:Obs>\n",
      "<generic:ObsDimension value=\"1999-01-05\"/>\n",
      "<generic:ObsValue value=\"1.179\"/>\n",
      "<generic:Attributes>\n",
      "<generic:Value id=\"OBS_STATUS\" value=\"A\"/>\n",
      "</generic:A\n"
     ]
    }
   ],
   "source": [
    "# To get an idea of the underlying file format, here is the first 2kb of a file listing\n",
    "# USD and EUR exchange rates\n",
    "\n",
    "import urllib.request\n",
    "\n",
    "url = \"https://sdw-wsrest.ecb.europa.eu/service/data/EXR/D.USD.EUR.SP00.A\"\n",
    "fname = \"xdmsdata.xml\"\n",
    "urllib.request.urlretrieve(url, fname)\n",
    "print(open(fname).read(2400))"
   ]
  },
  {
   "cell_type": "code",
   "execution_count": 101,
   "metadata": {},
   "outputs": [
    {
     "data": {
      "text/html": [
       "<div>\n",
       "<style scoped>\n",
       "    .dataframe tbody tr th:only-of-type {\n",
       "        vertical-align: middle;\n",
       "    }\n",
       "\n",
       "    .dataframe tbody tr th {\n",
       "        vertical-align: top;\n",
       "    }\n",
       "\n",
       "    .dataframe thead tr th {\n",
       "        text-align: left;\n",
       "    }\n",
       "\n",
       "    .dataframe thead tr:last-of-type th {\n",
       "        text-align: right;\n",
       "    }\n",
       "</style>\n",
       "<table border=\"1\" class=\"dataframe\">\n",
       "  <thead>\n",
       "    <tr>\n",
       "      <th>FREQ</th>\n",
       "      <th>D</th>\n",
       "    </tr>\n",
       "    <tr>\n",
       "      <th>CURRENCY</th>\n",
       "      <th>USD</th>\n",
       "    </tr>\n",
       "    <tr>\n",
       "      <th>CURRENCY_DENOM</th>\n",
       "      <th>EUR</th>\n",
       "    </tr>\n",
       "    <tr>\n",
       "      <th>EXR_TYPE</th>\n",
       "      <th>SP00</th>\n",
       "    </tr>\n",
       "    <tr>\n",
       "      <th>EXR_SUFFIX</th>\n",
       "      <th>A</th>\n",
       "    </tr>\n",
       "    <tr>\n",
       "      <th>TIME_PERIOD</th>\n",
       "      <th></th>\n",
       "    </tr>\n",
       "  </thead>\n",
       "  <tbody>\n",
       "    <tr>\n",
       "      <th>1999-01-04</th>\n",
       "      <td>1.1789</td>\n",
       "    </tr>\n",
       "    <tr>\n",
       "      <th>1999-01-05</th>\n",
       "      <td>1.1790</td>\n",
       "    </tr>\n",
       "    <tr>\n",
       "      <th>1999-01-06</th>\n",
       "      <td>1.1743</td>\n",
       "    </tr>\n",
       "    <tr>\n",
       "      <th>1999-01-07</th>\n",
       "      <td>1.1632</td>\n",
       "    </tr>\n",
       "    <tr>\n",
       "      <th>1999-01-08</th>\n",
       "      <td>1.1659</td>\n",
       "    </tr>\n",
       "  </tbody>\n",
       "</table>\n",
       "</div>"
      ],
      "text/plain": [
       "FREQ                 D\n",
       "CURRENCY           USD\n",
       "CURRENCY_DENOM     EUR\n",
       "EXR_TYPE          SP00\n",
       "EXR_SUFFIX           A\n",
       "TIME_PERIOD           \n",
       "1999-01-04      1.1789\n",
       "1999-01-05      1.1790\n",
       "1999-01-06      1.1743\n",
       "1999-01-07      1.1632\n",
       "1999-01-08      1.1659"
      ]
     },
     "execution_count": 101,
     "metadata": {},
     "output_type": "execute_result"
    }
   ],
   "source": [
    "# Luckily there is this python library which can parse that XML into a pandas dataframe object\n",
    "import pandasdmx\n",
    "\n",
    "psdreq = pandasdmx.Request()\n",
    "rpsdreq = psdreq.get(fromfile=\"xdmsdata.xml\")\n",
    "df = rpsdreq.write()\n",
    "df.head()"
   ]
  },
  {
   "cell_type": "code",
   "execution_count": 103,
   "metadata": {},
   "outputs": [
    {
     "data": {
      "text/plain": [
       "<matplotlib.axes._subplots.AxesSubplot at 0x7fee81798358>"
      ]
     },
     "execution_count": 103,
     "metadata": {},
     "output_type": "execute_result"
    },
    {
     "data": {
      "image/png": "[encoded data removed]",
      "text/plain": [
       "<Figure size 432x288 with 1 Axes>"
      ]
     },
     "metadata": {
      "needs_background": "light"
     },
     "output_type": "display_data"
    }
   ],
   "source": [
    "# By working through the 5-layer deep multi-index We can plot this series of data, like so:\n",
    "%matplotlib inline\n",
    "df[\"D\"][\"USD\"][\"EUR\"][\"SP00\"][\"A\"].plot()"
   ]
  },
  {
   "cell_type": "code",
   "execution_count": 131,
   "metadata": {},
   "outputs": [
    {
     "name": "stdout",
     "output_type": "stream",
     "text": [
      "['', 'ABS', 'ECB', 'ECB_S', 'ESTAT', 'ESTAT_S', 'ILO', 'IMF_SDMXCENTRAL', 'INEGI', 'INEGI_S', 'INSEE', 'INSEE_S', 'ISTAT', 'ISTAT_S', 'NB', 'NB_S', 'OECD', 'SGR', 'UNESCO', 'UNSD', 'WBG_WITS']\n",
      "http://sdw-wsrest.ecb.int/service/data/EXR/D.USD+JPY...?startPeriod=2017\n"
     ]
    }
   ],
   "source": [
    "# That was an example of downloading an XML file, parsing it with pandasdmx and plotting it.  \n",
    "\n",
    "# We can also access this data through the API, which is also handled by pandasdmx\n",
    "import pandasdmx\n",
    "ecb = pandasdmx.Request('ECB')\n",
    "print(ecb.list_agencies())\n",
    "exr_flow = ecb.dataflow('EXR')\n",
    "dsd = exr_flow.dataflow.EXR.structure()\n",
    "data_response = pandasdmx.Request('ecb_s').data(resource_id = 'EXR',\n",
    "                    key={'CURRENCY': ['USD', 'JPY'], 'FREQ':'D'},\n",
    "                    params = {'startPeriod': '2017'}, dsd=dsd)\n",
    "df = data_response.write()\n",
    "print(data_response.url)"
   ]
  },
  {
   "cell_type": "code",
   "execution_count": 121,
   "metadata": {},
   "outputs": [
    {
     "data": {
      "text/html": [
       "<div>\n",
       "<style scoped>\n",
       "    .dataframe tbody tr th:only-of-type {\n",
       "        vertical-align: middle;\n",
       "    }\n",
       "\n",
       "    .dataframe tbody tr th {\n",
       "        vertical-align: top;\n",
       "    }\n",
       "\n",
       "    .dataframe thead tr th {\n",
       "        text-align: left;\n",
       "    }\n",
       "\n",
       "    .dataframe thead tr:last-of-type th {\n",
       "        text-align: right;\n",
       "    }\n",
       "</style>\n",
       "<table border=\"1\" class=\"dataframe\">\n",
       "  <thead>\n",
       "    <tr>\n",
       "      <th>FREQ</th>\n",
       "      <th colspan=\"2\" halign=\"left\">D</th>\n",
       "    </tr>\n",
       "    <tr>\n",
       "      <th>CURRENCY</th>\n",
       "      <th>JPY</th>\n",
       "      <th>USD</th>\n",
       "    </tr>\n",
       "    <tr>\n",
       "      <th>CURRENCY_DENOM</th>\n",
       "      <th>EUR</th>\n",
       "      <th>EUR</th>\n",
       "    </tr>\n",
       "    <tr>\n",
       "      <th>EXR_TYPE</th>\n",
       "      <th>SP00</th>\n",
       "      <th>SP00</th>\n",
       "    </tr>\n",
       "    <tr>\n",
       "      <th>EXR_SUFFIX</th>\n",
       "      <th>A</th>\n",
       "      <th>A</th>\n",
       "    </tr>\n",
       "    <tr>\n",
       "      <th>TIME_PERIOD</th>\n",
       "      <th></th>\n",
       "      <th></th>\n",
       "    </tr>\n",
       "  </thead>\n",
       "  <tbody>\n",
       "    <tr>\n",
       "      <th>2017-01-02</th>\n",
       "      <td>122.92</td>\n",
       "      <td>1.0465</td>\n",
       "    </tr>\n",
       "    <tr>\n",
       "      <th>2017-01-03</th>\n",
       "      <td>122.75</td>\n",
       "      <td>1.0385</td>\n",
       "    </tr>\n",
       "    <tr>\n",
       "      <th>2017-01-04</th>\n",
       "      <td>122.64</td>\n",
       "      <td>1.0437</td>\n",
       "    </tr>\n",
       "    <tr>\n",
       "      <th>2017-01-05</th>\n",
       "      <td>122.38</td>\n",
       "      <td>1.0501</td>\n",
       "    </tr>\n",
       "    <tr>\n",
       "      <th>2017-01-06</th>\n",
       "      <td>122.83</td>\n",
       "      <td>1.0589</td>\n",
       "    </tr>\n",
       "  </tbody>\n",
       "</table>\n",
       "</div>"
      ],
      "text/plain": [
       "FREQ                 D        \n",
       "CURRENCY           JPY     USD\n",
       "CURRENCY_DENOM     EUR     EUR\n",
       "EXR_TYPE          SP00    SP00\n",
       "EXR_SUFFIX           A       A\n",
       "TIME_PERIOD                   \n",
       "2017-01-02      122.92  1.0465\n",
       "2017-01-03      122.75  1.0385\n",
       "2017-01-04      122.64  1.0437\n",
       "2017-01-05      122.38  1.0501\n",
       "2017-01-06      122.83  1.0589"
      ]
     },
     "execution_count": 121,
     "metadata": {},
     "output_type": "execute_result"
    }
   ],
   "source": [
    "df.head()"
   ]
  },
  {
   "cell_type": "code",
   "execution_count": 123,
   "metadata": {},
   "outputs": [
    {
     "data": {
      "text/plain": [
       "<matplotlib.axes._subplots.AxesSubplot at 0x7fee8130e518>"
      ]
     },
     "execution_count": 123,
     "metadata": {},
     "output_type": "execute_result"
    },
    {
     "data": {
      "image/png": "[encoded data removed]",
      "text/plain": [
       "<Figure size 432x288 with 1 Axes>"
      ]
     },
     "metadata": {
      "needs_background": "light"
     },
     "output_type": "display_data"
    }
   ],
   "source": [
    "# We can plot these both here\n",
    "%matplotlib inline\n",
    "df[\"D\"][\"JPY\"][\"EUR\"][\"SP00\"][\"A\"].plot()\n",
    "(df[\"D\"][\"USD\"][\"EUR\"][\"SP00\"][\"A\"]*100).plot()\n"
   ]
  },
  {
   "cell_type": "code",
   "execution_count": null,
   "metadata": {},
   "outputs": [],
   "source": []
  },
  {
   "cell_type": "code",
   "execution_count": 127,
   "metadata": {},
   "outputs": [
    {
     "data": {
      "text/plain": [
       "[DataAttribute | BREAKS,\n",
       " DataAttribute | COLLECTION,\n",
       " DataAttribute | COMPILATION,\n",
       " DataAttribute | COMPILING_ORG,\n",
       " DataAttribute | COVERAGE,\n",
       " DataAttribute | DECIMALS,\n",
       " DataAttribute | DISS_ORG,\n",
       " DataAttribute | DOM_SER_IDS,\n",
       " DataAttribute | NAT_TITLE,\n",
       " DataAttribute | OBS_COM,\n",
       " DataAttribute | OBS_CONF,\n",
       " DataAttribute | OBS_PRE_BREAK,\n",
       " DataAttribute | OBS_STATUS,\n",
       " DataAttribute | PUBL_ECB,\n",
       " DataAttribute | PUBL_MU,\n",
       " DataAttribute | PUBL_PUBLIC,\n",
       " DataAttribute | SOURCE_AGENCY,\n",
       " DataAttribute | SOURCE_PUB,\n",
       " DataAttribute | TIME_FORMAT,\n",
       " DataAttribute | TITLE,\n",
       " DataAttribute | TITLE_COMPL,\n",
       " DataAttribute | UNIT,\n",
       " DataAttribute | UNIT_INDEX_BASE,\n",
       " DataAttribute | UNIT_MULT]"
      ]
     },
     "execution_count": 127,
     "metadata": {},
     "output_type": "execute_result"
    }
   ],
   "source": [
    "dsd.attributes.aslist()"
   ]
  },
  {
   "cell_type": "code",
   "execution_count": 130,
   "metadata": {},
   "outputs": [
    {
     "data": {
      "text/plain": [
       "{'en': 'Exchange Rates'}"
      ]
     },
     "execution_count": 130,
     "metadata": {},
     "output_type": "execute_result"
    }
   ],
   "source": [
    "dsd.name"
   ]
  },
  {
   "cell_type": "code",
   "execution_count": null,
   "metadata": {},
   "outputs": [],
   "source": []
  }
 ],
 "metadata": {
  "kernelspec": {
   "display_name": "Python 3",
   "language": "python",
   "name": "python3"
  },
  "language_info": {
   "codemirror_mode": {
    "name": "ipython",
    "version": 3
   },
   "file_extension": ".py",
   "mimetype": "text/x-python",
   "name": "python",
   "nbconvert_exporter": "python",
   "pygments_lexer": "ipython3",
   "version": "3.6.6"
  }
 },
 "nbformat": 4,
 "nbformat_minor": 2
}
